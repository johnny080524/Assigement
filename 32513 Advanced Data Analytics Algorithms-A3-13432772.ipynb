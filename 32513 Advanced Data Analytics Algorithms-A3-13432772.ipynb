{
  "nbformat": 4,
  "nbformat_minor": 0,
  "metadata": {
    "colab": {
      "name": "Untitled2.ipynb",
      "provenance": [],
      "include_colab_link": true
    },
    "kernelspec": {
      "name": "python3",
      "display_name": "Python 3"
    }
  },
  "cells": [
    {
      "cell_type": "markdown",
      "metadata": {
        "id": "view-in-github",
        "colab_type": "text"
      },
      "source": [
        "<a href=\"https://colab.research.google.com/github/johnny080524/Assigement/blob/master/32513%20Advanced%20Data%20Analytics%20Algorithms-A3-13432772.ipynb\" target=\"_parent\"><img src=\"https://colab.research.google.com/assets/colab-badge.svg\" alt=\"Open In Colab\"/></a>"
      ]
    },
    {
      "cell_type": "markdown",
      "metadata": {
        "id": "FXd_FcsS_q9h",
        "colab_type": "text"
      },
      "source": [
        "32513 Advanced Data Analytics Algorithms\n",
        "\n",
        "13432772\n",
        "\n",
        "Shen-Chuan Lin\n",
        "# Rising anti-UV products against skin cancer\n",
        "\n",
        "# Aims \n",
        "The study aims to analyse the data of skin cancer to build up solutions about increasing sale of anti-UV products to prevent skin cancer in Australia. \n",
        "First, collect data from the public of outdoor activities for analysation.\n",
        "Second, analysing the data finds out the major outdoor activities with using the anti-UV product or not.\n",
        "Final, the result is used to make up solutions for problems and predictions for the following year to reach the goal of increasing the sale of anti-UV products and preventing skin cancer.\n",
        "\n",
        "# Background \n",
        "Recent studies have shown that data analytics became an important part of industries to manage itself, which also indicated that medical area started combining data analytics for diagnosis and the following project to treat and prevent diseases. Skin cancer is ranking fourth place in cancer research in 2019 in Australia(Welfare 2019. Jul 26), which is the highest rates of skin cancer in Australia comparing to the world. The major cause of skin cancer is sun’s ultraviolet(UV) radiation that damages the outside worker like labours by long-time exposure under the sun. There are servers ways of UV to damage human skin, such as sunburn, tanning, premature ageing and eye damage. The prevention is better than treatment, which is becoming necessary for the public to be aware of risky factors from sources. Data collection of skin cancer research has shown that sun protection campaigns in NSW have decreased proportions of residents getting a sunburn. It means that skin cancer has decreased by limit the number of sunburns. The economic value of the result saved over 60 million(Shih et al. 2017) Australian dollars in NSW, but 1/3 costs of the 60 millions of campaigns(Shih et al. 2017). However, the data has only shown the campaign teaching the public knowledge of skin cancer and prevention. The project is analysing data from public behaviour of using anti-UV products associates to outdoor activities that analyse the issue of how the sports industry and supplement business not only increases the sale of anti-UV products but also reduces skin cancer in Australia?\n",
        "\n",
        "\n",
        "\n",
        "\n",
        "\n",
        "\n",
        "\n"
      ]
    },
    {
      "cell_type": "markdown",
      "metadata": {
        "id": "p8VoUMQaBEwo",
        "colab_type": "text"
      },
      "source": [
        "# Research Project \n",
        "1.\tStatement\n",
        "The project addresses the significant problem of preventing skin cancer in Australia. Most studies have shown the severe ultraviolet radiation happens in Australia causing the number of skin cancer increasing year after year. Even the government sets up signs, campaigns and advertisings to raise public awareness about skin cancer, but skin cancer is ranking top five cancer in Australia in 2019(Welfare 2019. Jul 26). The circumstance now is how to get closer to people life that people can recognise the detail of skin cancer and not just keep doing things indoor or away from long-time exposure under the sun or only put on the anti-UV products when it is a sunny day. Going through the data mining generates the solution to increasing the sale of anti-UV products to prevent skin cancer in Australia.\n",
        "2.\tThe innovation the project is interested in mining out the relationship between periods and outdoor activities with using or not using anti-UV products in public because generally the sports industry and supplement business may focus on customer who exercises outdoor or work outdoor. The study is trying to find out when would the public chooses to have outdoor activity. For instance, the period like a long weekend, a holiday or summer vacation are using to rank the outdoor activity from highest to lowest with using or not using anti-UV products. According to the rank, the target customer with not using anti-UV products can be set up to advertise and notify that ultraviolet radiation level and suggestion of anti-UV products in technology way. It will raise the willing of people to purchase the anti-UV products.\n",
        "3.\tThe solution separates into few parts to describe.\n",
        "First, the initiation of the project is associated with the government that uses surveys to collect data from the public. The data is going through the cleaning step, then focus on the relationship between periods and outdoor activities using anti-UV products or not.\n",
        "Second, after the result of the relationship that analyses social media usage advertises target customers about the suggestion anti-UV products before the outdoor activity.\n",
        "Final, the result of the sale of anti-UV products after the second step implementation can recognise the target customer whether to use the anti-virus products in the outdoor activity or not. The final result can use to predict the usage of anti-UV products during a specific time in next year.\n",
        "4.\tThe timeline of each part of the project is describing below:\n",
        "\tSurvey (Collecting Data)\n",
        "Surveys will take much longer than other parts in time management. The project associates to the government to expect around ten thousand to five thousand quantity of surveys. The target includes citizens, permanent residents, students, and tourists. It expects three months to complete in this project and the project should start in Autumn from March to May.\n",
        "\tData Analytics\n",
        "The total time in this step is two months from June to July. There are two data analysts to complete the task and give the result. The task is analysing the relationship between time and outdoor activity and does people use anti-UV products to prevent skin cancer. The following step is targeting the customer to analyse what social media they use to send them advertising about the product.\n",
        "\tStrategy\n",
        "This step is considered the strategy to advertise the potential risk of skin cancer and anti-UV products to prevent skin cancer, then the plan of productivity will schedule by sports industry and supplement business. The step will take two to three months, from August to October.\n",
        "\tImplementation\n",
        "The project will choose the time near summer to implement the strategy and get the result until the end of February.\n",
        "\tPrediction\n",
        "The final result after implementation can use to predict the whole year for the next year and adjust the strategy by the data analysation depends on the number change in the target group.\n",
        "5.\tThe expectation of the outcome is rose at least 10 per cent of the sale inducing the awareness and prevention of skin cancer. The research shows that the value of skin cancer prevention is 60 million. The market could extend for more 60 million on the original market. Also, the survey could spread the knowledge to other people who do not take the survey increasing the awareness of skin cancer prevention. After that, the willingness to purchase the anti-UV products might increase too."
      ]
    },
    {
      "cell_type": "markdown",
      "metadata": {
        "id": "SA-vtcygA6Ku",
        "colab_type": "text"
      },
      "source": [
        "# Budget \n",
        "Overall, there are three parts to the total budget. \n",
        "\n",
        "First, the survey will conduct by the government to build up the database for analysing. Each survey costs one Australian dollar(Pollfish 2018); ten thousand surveys will cost ten thousand dollars. \n",
        "\n",
        "Second, hiring two data analysts cost fourteen thousand for one year from the average wage of seven thousand of data analyst each. \n",
        "\n",
        "Third, the cost of implementation and productivity depends on the industry. Final, the total cost is at least fifteen thousand to twenty thousand of the project.\n"
      ]
    },
    {
      "cell_type": "markdown",
      "metadata": {
        "id": "Ifpm1HvlA0Y5",
        "colab_type": "text"
      },
      "source": [
        "# Personnel \n",
        "The personnel is including data analysts and administrative department from industries. First one, data analysts contributed to the essential part of the project. The analysis report has to be correct and precise to make the right strategy for implementation. \n",
        "The last one, the implementation relies on the administrative department of industries that arranges the plan to implement the strategy into the market."
      ]
    },
    {
      "cell_type": "markdown",
      "metadata": {
        "id": "7iaTjZmjAn2N",
        "colab_type": "text"
      },
      "source": [
        "# References \n",
        "Pollfish 2018, 'Get Survey Responses'.\n",
        "Shih, S.T.F., Carter, R., Heward, S. & Sinclair, C. 2017, 'Economic evaluation of future skin cancer prevention in Australia',\n",
        "\n",
        "Preventive Medicine, vol. 99, pp. 7-12.\n",
        "\n",
        "Welfare, A.I.o.H.a. 2019. Jul 26, 'Cancer data in Australia'."
      ]
    }
  ]
}