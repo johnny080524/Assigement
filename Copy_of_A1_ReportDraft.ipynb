{
  "nbformat": 4,
  "nbformat_minor": 0,
  "metadata": {
    "kernelspec": {
      "display_name": "Python 3",
      "language": "python",
      "name": "python3"
    },
    "language_info": {
      "codemirror_mode": {
        "name": "ipython",
        "version": 3
      },
      "file_extension": ".py",
      "mimetype": "text/x-python",
      "name": "python",
      "nbconvert_exporter": "python",
      "pygments_lexer": "ipython3",
      "version": "3.5.4"
    },
    "toc": {
      "base_numbering": 1,
      "nav_menu": {},
      "number_sections": true,
      "sideBar": true,
      "skip_h1_title": false,
      "title_cell": "Table of Contents",
      "title_sidebar": "Contents",
      "toc_cell": false,
      "toc_position": {},
      "toc_section_display": true,
      "toc_window_display": false
    },
    "colab": {
      "name": "Copy of A1_ReportDraft.ipynb",
      "version": "0.3.2",
      "provenance": [],
      "collapsed_sections": [],
      "include_colab_link": true
    }
  },
  "cells": [
    {
      "cell_type": "markdown",
      "metadata": {
        "id": "view-in-github",
        "colab_type": "text"
      },
      "source": [
        "<a href=\"https://colab.research.google.com/github/johnny080524/Assigement/blob/master/Copy_of_A1_ReportDraft.ipynb\" target=\"_parent\"><img src=\"https://colab.research.google.com/assets/colab-badge.svg\" alt=\"Open In Colab\"/></a>"
      ]
    },
    {
      "cell_type": "markdown",
      "metadata": {
        "id": "nOcwq8rC4SF4",
        "colab_type": "text"
      },
      "source": [
        "# Draft and Experiment Area"
      ]
    },
    {
      "cell_type": "markdown",
      "metadata": {
        "id": "qM2I2Tir4SF5",
        "colab_type": "text"
      },
      "source": [
        "1. First impression\n",
        "    * What is my chosen paper to read?\n",
        "    * What type of the main contribution the paper has made?\n",
        "        - A theory or proposition (revealing something, from unknown to known)\n",
        "        - A method or algorithm (inventing a technique, from undoable to doable)\n",
        "\n",
        "    * _Before_ reading the main body of the paper, write down your first impression  obtained from its abstract and short introduction.\n",
        "    * Why does the paper attract you, such as, How it surprised you? Why do you think it addresses an important topic that will be helpful in your future study of machine learning?\n",
        "    \n",
        "2. Read the paper abstract and introduction, list here all the notions that you don't know the precise meaning. If you think you have completed your list,  compare the list with people around you who have chosen the same or a similar paper.\n",
        "\n",
        "3. (During the next 7 days) Re-consider the central problem of the paper."
      ]
    },
    {
      "cell_type": "markdown",
      "metadata": {
        "id": "Uo1AcCMz4SF6",
        "colab_type": "text"
      },
      "source": [
        "# Review Report on \"PaperName\"\n",
        "The Link: https://github.com/johnny080524/Assigement/blob/master/13432772-A1-Advanced%20Alogrithms.docx\n",
        "\n",
        "The Mathematic Theory of Communication"
      ]
    },
    {
      "cell_type": "markdown",
      "metadata": {
        "id": "3d1idHrf4SF7",
        "colab_type": "text"
      },
      "source": [
        "## Introduction\n",
        "The research showed that the modern methods of signal transmission PCM and PPM are increased the ratio of signal-to-noise via bandwidth exchange. The author proposed to extend the general theory of communication including some new factors which included the effect of noise, saving original messages possibly via statistical structure, and the natural information destination. The fundamental issue of communication is that messages are one selected from a set of possible messages, which means the selected message might be influenced by noise. The system has to design as much as possible to detect the message in any selections. The lecturer uses logarithmic measurement to figure out solutions of general problems which are discrete, continuous, and mixed.\n"
      ]
    },
    {
      "cell_type": "markdown",
      "metadata": {
        "id": "ontv5JHu4SF7",
        "colab_type": "text"
      },
      "source": [
        "## Content"
      ]
    },
    {
      "cell_type": "markdown",
      "metadata": {
        "id": "TAX1nJQm4SF8",
        "colab_type": "text"
      },
      "source": [
        "A discrete channel will define as a sequence has chosen from a finite set of element symbols, which will transmit from one point to another. The first question of how experts can measure the volume of a channel to transmit information. The optimal rate of sequence transmission creates by the author, which is 5n bits per second. However, the reality is the rate in the noisy channel can not reach the maximum, which is a theory in the noisy channel of communication. It suits to implement in the noiseless channel which allows the maximized rate of sequence transmission in communication. \n",
        "The second question is the rate of information transmission from the information to bits and how fast can it be transmitted per second, and understanding information sources via mathematical methods. The question addressed by the principle of information transmission which encodes the message into signals properly. The mathematical equation is a stochastic process that follows some factors to calculate the possible characters from information correctly. The following step is the Markov process. It has limited the false to probability zero by two conditions, which makes the homogeneous statistical structure. It is also called “mixed” source. \n",
        "The third question has conducted all methods above made up of optimal condition of sequence, which is the quantity of an optimal sequence can be measured, and how fast can information be produced? The fourth and fifth questions are uncertainty and entropy. If the information transmitted with the uncertainty which means less entropy will influence the accuracy of the information from the receiver. For increasing the entropy to raise the percentage of recognition of sequences. The last question is transducers function which affects the operation quality of encoding and decoding.\n",
        "In conclusion, the aim of the paper is finding out the solution of information transmission error.\n"
      ]
    },
    {
      "cell_type": "markdown",
      "metadata": {
        "id": "_ZeQkgsS4SF9",
        "colab_type": "text"
      },
      "source": [
        "## Innovation"
      ]
    },
    {
      "cell_type": "markdown",
      "metadata": {
        "id": "jTKQ-zDi4SF9",
        "colab_type": "text"
      },
      "source": [
        "First of all, the paper makes several new algorithms to optimize efficiency and reduce errors in information transmission. The theorem of maximum rate of transmission has created 5n bits per second, following this equation to get the capacity with a finite number from information. Considering the states happen in the transmission, which are the factor influencing the capacity in optimal condition. After the theorem of capacity, then, the discrete source of information is another factor that makes differences in transmission from sources to receivers. The rate of information transmission has influenced by many aspects, such as uncertainty, entropy, encoding, decoding, and transducers. The correct character transmitted from digit signals can increase the rate, which has the framework to improve the error of transmission. A stochastic process implements the probability value of each character, which makes a reasonable letter. This kind of artificial language can be used to construct sample that illustrates multiple possibilities. Using these possibilities via several approximations in order to figure out the real and correct letter from the transmission. Even though the letter could be recognized by the theorem above, the error has remained in transmission. \n",
        "The probable theorem solving the error is the markov process that could eliminate the false to zero probably. It sets up the condition of statistical homogeneity for all the sequences. Under this condition, the paper pretends there are no isolated parts and all lines have only one orientation. Thus, the uncertainty would decrease and the entropy would rise, and if x is known then the y of uncertainty will not increase. However, the ratio of entropy will reduce by same symbols called relative entropy. In other words, the relative entropy is redundancy that conducts 50 percent in ordinary English. Huge redundant drops the reasonable of a text from any sequences. Thus, if entropy increases which means errors decrease.\n",
        "The last question is about transducers. Different transducers have a difference in memory capacity which results in the various errors.\n",
        "To sum up, the new algorithm in the study create a path to improve the error and rate of information transmission.\n"
      ]
    },
    {
      "cell_type": "markdown",
      "metadata": {
        "id": "5Li26lIJ4SF-",
        "colab_type": "text"
      },
      "source": [
        "## Technical quality"
      ]
    },
    {
      "cell_type": "markdown",
      "metadata": {
        "id": "l5Fa7qBz4SF_",
        "colab_type": "text"
      },
      "source": [
        "The theorems in the research are high quality and useful to improve the error in information transmission. Nowaday the theorem from this paper has been a basic knowledge to develop the wire and wireless products. The result from Shannon theorem is when the rate is smaller than the capacity that errors probably close to zero. It means the machine approximately transmitted the digit signal nearly zero error from the greater distance. Otherwise, when the rate is higher than the capacity that errors can not be limited at the minimum level. The situation is like the machine has a ton of sequences to transmit, but the capacity can not afford that much function to make sure the message is correct for receivers. The Shannon theorem is exactly a perfect method to implement sequence transmission. Nowadays technologies frequently change in half-year, so the research needs to focus on how to enhance the theorem. If the neuron system can implement via Shannon theorem, which performs better than standard devices in the stochastic process. Could it improve the rate and the capacity to the next level of maximum? Could neuron system implement into machine learning? If all the impact factors tend to minimum level and the rate and capacity have increased, would the theorem change?"
      ]
    },
    {
      "cell_type": "markdown",
      "metadata": {
        "id": "6ki7tI0S4SF_",
        "colab_type": "text"
      },
      "source": [
        "## Application and X-factor"
      ]
    },
    {
      "cell_type": "markdown",
      "metadata": {
        "id": "Pn34VsWR4SGA",
        "colab_type": "text"
      },
      "source": [
        "The theory studies in communication appropriately. Because communication uses the sequence to transmit the information in a great distance, the device is another factor to implement the theory. Nowadays lots of new techniques transmit signals between different devices, and the theory would be the necessary foundation to support the development of technology. The research mentioned that the error of the minimum level in information transmission. How could it affect the accuracy assessment of AI system of Cancer in biotechnology field? If the theorem limited the error percentage in machine, then how to use it to improve the AI cognition? Following the structure from the theorem of the discrete source of information is about language system. Using it to Cancer study can be misunderstood the information because of the language system might not suit to any fields. However, the equation might be used to develop the new cognition system, which might improve the theorem. The new cognition system can be impressive and useful for people implementing it to study any field."
      ]
    },
    {
      "cell_type": "markdown",
      "metadata": {
        "id": "xG7dP3Hb4SGB",
        "colab_type": "text"
      },
      "source": [
        "## Presentation"
      ]
    },
    {
      "cell_type": "markdown",
      "metadata": {
        "id": "hqV-L6eT4SGB",
        "colab_type": "text"
      },
      "source": [
        "The overall structure is clear, but reading is difficult in this paper. From the beginning; there is no abstract for readers, and introduction does not include much information about the differences between noisy and noiseless channels. All the appendix should be placed at the end of the article. Too many equations mixed confusing readers and provided an unfriendly condition for readers. There are three parts in the article, which include over twenty objectives are hardly organized in the best way to present to readers.\n",
        "In conclusion, the article is good as well, but the organization is unfriendly for audiences to study. "
      ]
    },
    {
      "cell_type": "markdown",
      "metadata": {
        "id": "C6edDhGw4SGC",
        "colab_type": "text"
      },
      "source": [
        "## References\n",
        "\n",
        "[SHA48][1]: Author, Title, Info\n",
        "\n",
        "[1]:https://google.com"
      ]
    }
  ]
}