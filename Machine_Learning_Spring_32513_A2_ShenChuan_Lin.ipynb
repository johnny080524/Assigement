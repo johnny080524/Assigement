{
  "nbformat": 4,
  "nbformat_minor": 0,
  "metadata": {
    "colab": {
      "name": "Machine Learning Spring 32513 - A2 ShenChuan Lin.ipynb",
      "provenance": [],
      "collapsed_sections": [],
      "include_colab_link": true
    },
    "kernelspec": {
      "name": "python3",
      "display_name": "Python 3"
    },
    "accelerator": "GPU"
  },
  "cells": [
    {
      "cell_type": "markdown",
      "metadata": {
        "id": "view-in-github",
        "colab_type": "text"
      },
      "source": [
        "<a href=\"https://colab.research.google.com/github/johnny080524/Assigement/blob/master/Machine_Learning_Spring_32513_A2_ShenChuan_Lin.ipynb\" target=\"_parent\"><img src=\"https://colab.research.google.com/assets/colab-badge.svg\" alt=\"Open In Colab\"/></a>"
      ]
    },
    {
      "cell_type": "markdown",
      "metadata": {
        "id": "EIuyIBZVakH-",
        "colab_type": "text"
      },
      "source": [
        "Machine Learning Spring 32513\n",
        "\n",
        "13432772\n",
        "\n",
        "SHEN-CHUAN LIN\n",
        "\n",
        "Link:https://github.com/johnny080524/Assigement/blob/master/Machine_Learning_Spring_32513_A2_13432772_ShenChuan_Lin.ipynb\n",
        "\n",
        "# Introduction\n",
        "The report uses the dataset which is crime incident reports are provided by the Boston Police Department. The data is collected by the crime incident report system which recorded the type of incident and where and when did incidents happen. The problems the article wants to analyze shows below:\n",
        "1.\tWhat kinds of crimes are most common?\n",
        "2.\tWhere did the crime happen?\n",
        "3.\tWhen did the crime occur?\n",
        "4.\tAfter finding out the frequency of the crime, and does its frequency changed over a day, week, or month?\n",
        "\n",
        "The first question defines the majority type of crimes, which can figure out the reason for the crime. The second question, the location detail helps police to predict the next crimes might happen in the place that has been secured to prevent the crime. The third question, the time data illustrates that the maximum probability in the specific time range the crime might happen. The accurate time increases the probability of prediction that raises the efficiency of crime prevention. The result from the question above demonstrates what, where, and when the crime occurred that the accurate estimation of the location might have the highest chance for the crime happened. However, the crime rate could change by the time, which has a high peak and a low peak in a year. The last question aims to analyze the peak of the crime to enhance the efficiency of crime prevention for the Boston Police Department.\n",
        "\n",
        "\n",
        "\n"
      ]
    },
    {
      "cell_type": "markdown",
      "metadata": {
        "id": "EYQgPupwc3IO",
        "colab_type": "text"
      },
      "source": [
        "# Exploration\n",
        "At the beginning of the data exploration, there are over 50 types of crimes have recorded in the document, which makes estimation difficultly. Thus, the report will not analyze those small amounts of data and focus on major crimes. Using the filter to select crimes that meet our requirement. The data plan and data model are listed below.\n",
        "\n",
        "•\tChecking missing values\n",
        "This step is checking the missing value in each column delete the value to minimize the effect from noise data. The missing value has marked as a nan that improves errors and accuracy.\n",
        "\n",
        "•\tChecking anomalies\n",
        "Anomalies have occurred in columns that drop the quality of data. It has removed from the data to improve quality.\n",
        "\n",
        "•\tRemove duplicates\n",
        "Duplicates have found out in INCIDENT_NUMBER column that one number has multiple records. Applying the column that associates with other data might decrease accuracy. The report drops INCIDIENT_NUMBER and OFFENSE_CODE because these two columns can replace by OFFENSE_CODE_GROUP. \n",
        "\n",
        "•\tData preparation\n",
        "The step is going to turn the character into numerical values. DATE_OF_WEEK and UCR_PART are turned in to numerical values. Each row would have only one true value in columns. If the data point is a Monday in DATE_OF_WEEK and other data point is a part one in UCR_PART, then there will have a 1 in the Monday and part one columns and a 0 in all other columns.\n",
        "\n",
        "•\tTraining and Testing set\n",
        "It is a final step of data preparation. The dataset is split into training and test data. The data will randomly split into those datasets above to get a representation of all data points.\n",
        "\n",
        "•\tTrain Model\n",
        "The model the report chose to create and train is the random forest model. The process of the step can be provided from Scikit-learn.\n",
        "\n",
        "•\tDetermine the performance metric\n",
        "Calculating the accuracy from the result of random forest makes sure the quality of data that has prepared is in good condition.\n",
        "\n"
      ]
    },
    {
      "cell_type": "markdown",
      "metadata": {
        "id": "tNRfx8aIHB4O",
        "colab_type": "text"
      },
      "source": [
        "# Methodology\n",
        "\n",
        "\n",
        "# 1.   Import dataset from google drive - Crime in Boston\n",
        "\n",
        "\n"
      ]
    },
    {
      "cell_type": "code",
      "metadata": {
        "id": "2SH7974rH-sF",
        "colab_type": "code",
        "outputId": "d1d67959-2f70-46e3-99e9-e2a9ba99ccbe",
        "colab": {
          "base_uri": "https://localhost:8080/",
          "height": 238
        }
      },
      "source": [
        "!pip install pydrive"
      ],
      "execution_count": 506,
      "outputs": [
        {
          "output_type": "stream",
          "text": [
            "Requirement already satisfied: pydrive in /usr/local/lib/python3.6/dist-packages (1.3.1)\n",
            "Requirement already satisfied: oauth2client>=4.0.0 in /usr/local/lib/python3.6/dist-packages (from pydrive) (4.1.3)\n",
            "Requirement already satisfied: google-api-python-client>=1.2 in /usr/local/lib/python3.6/dist-packages (from pydrive) (1.7.11)\n",
            "Requirement already satisfied: PyYAML>=3.0 in /usr/local/lib/python3.6/dist-packages (from pydrive) (3.13)\n",
            "Requirement already satisfied: rsa>=3.1.4 in /usr/local/lib/python3.6/dist-packages (from oauth2client>=4.0.0->pydrive) (4.0)\n",
            "Requirement already satisfied: six>=1.6.1 in /usr/local/lib/python3.6/dist-packages (from oauth2client>=4.0.0->pydrive) (1.12.0)\n",
            "Requirement already satisfied: pyasn1>=0.1.7 in /usr/local/lib/python3.6/dist-packages (from oauth2client>=4.0.0->pydrive) (0.4.7)\n",
            "Requirement already satisfied: httplib2>=0.9.1 in /usr/local/lib/python3.6/dist-packages (from oauth2client>=4.0.0->pydrive) (0.11.3)\n",
            "Requirement already satisfied: pyasn1-modules>=0.0.5 in /usr/local/lib/python3.6/dist-packages (from oauth2client>=4.0.0->pydrive) (0.2.6)\n",
            "Requirement already satisfied: uritemplate<4dev,>=3.0.0 in /usr/local/lib/python3.6/dist-packages (from google-api-python-client>=1.2->pydrive) (3.0.0)\n",
            "Requirement already satisfied: google-auth>=1.4.1 in /usr/local/lib/python3.6/dist-packages (from google-api-python-client>=1.2->pydrive) (1.4.2)\n",
            "Requirement already satisfied: google-auth-httplib2>=0.0.3 in /usr/local/lib/python3.6/dist-packages (from google-api-python-client>=1.2->pydrive) (0.0.3)\n",
            "Requirement already satisfied: cachetools>=2.0.0 in /usr/local/lib/python3.6/dist-packages (from google-auth>=1.4.1->google-api-python-client>=1.2->pydrive) (3.1.1)\n"
          ],
          "name": "stdout"
        }
      ]
    },
    {
      "cell_type": "code",
      "metadata": {
        "id": "p1HX7xLnIDM6",
        "colab_type": "code",
        "colab": {}
      },
      "source": [
        "import pandas as pd\n",
        "import numpy as np\n",
        "%matplotlib inline \n",
        "import seaborn as sns\n",
        "import folium\n",
        "from folium.plugins import HeatMap\n",
        "import matplotlib.pyplot as plt\n",
        "import plotly.express as px\n",
        "import plotly.graph_objects as go\n",
        "import xarray as xr  \n",
        "\n",
        "COLAB = True\n"
      ],
      "execution_count": 0,
      "outputs": []
    },
    {
      "cell_type": "code",
      "metadata": {
        "id": "IjvYjFbrMmcN",
        "colab_type": "code",
        "colab": {}
      },
      "source": [
        "try:\n",
        "    import netCDF4\n",
        "except:\n",
        "    !pip install netcdf4\n",
        "import xarray as xr    "
      ],
      "execution_count": 0,
      "outputs": []
    },
    {
      "cell_type": "code",
      "metadata": {
        "id": "OI2kDKggI2Se",
        "colab_type": "code",
        "colab": {}
      },
      "source": [
        "# Code to read csv file into Colaboratory:\n",
        "!pip install -U -q PyDrive\n",
        "from pydrive.auth import GoogleAuth\n",
        "from pydrive.drive import GoogleDrive\n",
        "from google.colab import auth\n",
        "from oauth2client.client import GoogleCredentials\n",
        "# Authenticate and create the PyDrive client.\n",
        "auth.authenticate_user()\n",
        "gauth = GoogleAuth()\n",
        "gauth.credentials = GoogleCredentials.get_application_default()\n",
        "drive = GoogleDrive(gauth)"
      ],
      "execution_count": 0,
      "outputs": []
    },
    {
      "cell_type": "code",
      "metadata": {
        "id": "-F2LOmW5I6XZ",
        "colab_type": "code",
        "outputId": "b34884f4-a76f-495c-a307-cb3ab2c3b9f7",
        "colab": {
          "base_uri": "https://localhost:8080/",
          "height": 34
        }
      },
      "source": [
        "link = 'https://drive.google.com/open?id=1HRH-z_4LysGI85MuCIGQySOtChx2_VuS' \n",
        "# The shareable link\n",
        "fluff, id = link.split('=')\n",
        "print (id) \n",
        "# Verify that you have everything after '='"
      ],
      "execution_count": 510,
      "outputs": [
        {
          "output_type": "stream",
          "text": [
            "1HRH-z_4LysGI85MuCIGQySOtChx2_VuS\n"
          ],
          "name": "stdout"
        }
      ]
    },
    {
      "cell_type": "code",
      "metadata": {
        "id": "YSXws0vEJHbp",
        "colab_type": "code",
        "colab": {}
      },
      "source": [
        "downloaded = drive.CreateFile({'id':id}) \n",
        "downloaded.GetContentFile('crime1.csv')  \n",
        "df3 = pd.read_csv('crime1.csv')\n",
        "# Dataset is now stored in a Pandas Dataframe"
      ],
      "execution_count": 0,
      "outputs": []
    },
    {
      "cell_type": "markdown",
      "metadata": {
        "id": "x_lFNLutHxhM",
        "colab_type": "text"
      },
      "source": [
        "# 2.   Data cleaning\n",
        "2.1 The table showing below is the top 5 rows of all columns from the dataset. Next is checking all type of values and all entries."
      ]
    },
    {
      "cell_type": "code",
      "metadata": {
        "id": "GLGjEXouIzCZ",
        "colab_type": "code",
        "outputId": "77282813-64b8-4304-f1f8-52f3c7473c9f",
        "colab": {
          "base_uri": "https://localhost:8080/",
          "height": 289
        }
      },
      "source": [
        "df3.head()"
      ],
      "execution_count": 512,
      "outputs": [
        {
          "output_type": "execute_result",
          "data": {
            "text/html": [
              "<div>\n",
              "<style scoped>\n",
              "    .dataframe tbody tr th:only-of-type {\n",
              "        vertical-align: middle;\n",
              "    }\n",
              "\n",
              "    .dataframe tbody tr th {\n",
              "        vertical-align: top;\n",
              "    }\n",
              "\n",
              "    .dataframe thead th {\n",
              "        text-align: right;\n",
              "    }\n",
              "</style>\n",
              "<table border=\"1\" class=\"dataframe\">\n",
              "  <thead>\n",
              "    <tr style=\"text-align: right;\">\n",
              "      <th></th>\n",
              "      <th>INCIDENT_NUMBER</th>\n",
              "      <th>OFFENSE_CODE</th>\n",
              "      <th>OFFENSE_CODE_GROUP</th>\n",
              "      <th>OFFENSE_DESCRIPTION</th>\n",
              "      <th>DISTRICT</th>\n",
              "      <th>REPORTING_AREA</th>\n",
              "      <th>SHOOTING</th>\n",
              "      <th>OCCURRED_ON_DATE</th>\n",
              "      <th>YEAR</th>\n",
              "      <th>MONTH</th>\n",
              "      <th>DAY_OF_WEEK</th>\n",
              "      <th>HOUR</th>\n",
              "      <th>UCR_PART</th>\n",
              "      <th>STREET</th>\n",
              "      <th>Lat</th>\n",
              "      <th>Long</th>\n",
              "      <th>Location</th>\n",
              "    </tr>\n",
              "  </thead>\n",
              "  <tbody>\n",
              "    <tr>\n",
              "      <th>0</th>\n",
              "      <td>I182070945</td>\n",
              "      <td>619</td>\n",
              "      <td>Larceny</td>\n",
              "      <td>LARCENY ALL OTHERS</td>\n",
              "      <td>D14</td>\n",
              "      <td>808</td>\n",
              "      <td>NaN</td>\n",
              "      <td>2018/9/2 13:00</td>\n",
              "      <td>2018</td>\n",
              "      <td>9</td>\n",
              "      <td>Sunday</td>\n",
              "      <td>13</td>\n",
              "      <td>Part One</td>\n",
              "      <td>LINCOLN ST</td>\n",
              "      <td>42.357791</td>\n",
              "      <td>-71.139371</td>\n",
              "      <td>(42.35779134, -71.13937053)</td>\n",
              "    </tr>\n",
              "    <tr>\n",
              "      <th>1</th>\n",
              "      <td>I182070943</td>\n",
              "      <td>1402</td>\n",
              "      <td>Vandalism</td>\n",
              "      <td>VANDALISM</td>\n",
              "      <td>C11</td>\n",
              "      <td>347</td>\n",
              "      <td>NaN</td>\n",
              "      <td>2018/8/21 00:00</td>\n",
              "      <td>2018</td>\n",
              "      <td>8</td>\n",
              "      <td>Tuesday</td>\n",
              "      <td>0</td>\n",
              "      <td>Part Two</td>\n",
              "      <td>HECLA ST</td>\n",
              "      <td>42.306821</td>\n",
              "      <td>-71.060300</td>\n",
              "      <td>(42.30682138, -71.06030035)</td>\n",
              "    </tr>\n",
              "    <tr>\n",
              "      <th>2</th>\n",
              "      <td>I182070941</td>\n",
              "      <td>3410</td>\n",
              "      <td>Towed</td>\n",
              "      <td>TOWED MOTOR VEHICLE</td>\n",
              "      <td>D4</td>\n",
              "      <td>151</td>\n",
              "      <td>NaN</td>\n",
              "      <td>2018/9/3 19:27</td>\n",
              "      <td>2018</td>\n",
              "      <td>9</td>\n",
              "      <td>Monday</td>\n",
              "      <td>19</td>\n",
              "      <td>Part Three</td>\n",
              "      <td>CAZENOVE ST</td>\n",
              "      <td>42.346589</td>\n",
              "      <td>-71.072429</td>\n",
              "      <td>(42.34658879, -71.07242943)</td>\n",
              "    </tr>\n",
              "    <tr>\n",
              "      <th>3</th>\n",
              "      <td>I182070940</td>\n",
              "      <td>3114</td>\n",
              "      <td>Investigate Property</td>\n",
              "      <td>INVESTIGATE PROPERTY</td>\n",
              "      <td>D4</td>\n",
              "      <td>272</td>\n",
              "      <td>NaN</td>\n",
              "      <td>2018/9/3 21:16</td>\n",
              "      <td>2018</td>\n",
              "      <td>9</td>\n",
              "      <td>Monday</td>\n",
              "      <td>21</td>\n",
              "      <td>Part Three</td>\n",
              "      <td>NEWCOMB ST</td>\n",
              "      <td>42.334182</td>\n",
              "      <td>-71.078664</td>\n",
              "      <td>(42.33418175, -71.07866441)</td>\n",
              "    </tr>\n",
              "    <tr>\n",
              "      <th>4</th>\n",
              "      <td>I182070938</td>\n",
              "      <td>3114</td>\n",
              "      <td>Investigate Property</td>\n",
              "      <td>INVESTIGATE PROPERTY</td>\n",
              "      <td>B3</td>\n",
              "      <td>421</td>\n",
              "      <td>NaN</td>\n",
              "      <td>2018/9/3 21:05</td>\n",
              "      <td>2018</td>\n",
              "      <td>9</td>\n",
              "      <td>Monday</td>\n",
              "      <td>21</td>\n",
              "      <td>Part Three</td>\n",
              "      <td>DELHI ST</td>\n",
              "      <td>42.275365</td>\n",
              "      <td>-71.090361</td>\n",
              "      <td>(42.27536542, -71.09036101)</td>\n",
              "    </tr>\n",
              "  </tbody>\n",
              "</table>\n",
              "</div>"
            ],
            "text/plain": [
              "  INCIDENT_NUMBER  OFFENSE_CODE  ...       Long                     Location\n",
              "0      I182070945           619  ... -71.139371  (42.35779134, -71.13937053)\n",
              "1      I182070943          1402  ... -71.060300  (42.30682138, -71.06030035)\n",
              "2      I182070941          3410  ... -71.072429  (42.34658879, -71.07242943)\n",
              "3      I182070940          3114  ... -71.078664  (42.33418175, -71.07866441)\n",
              "4      I182070938          3114  ... -71.090361  (42.27536542, -71.09036101)\n",
              "\n",
              "[5 rows x 17 columns]"
            ]
          },
          "metadata": {
            "tags": []
          },
          "execution_count": 512
        }
      ]
    },
    {
      "cell_type": "code",
      "metadata": {
        "id": "ufKwuJQXN4va",
        "colab_type": "code",
        "outputId": "ea067ac8-a057-4b13-af10-763598166bee",
        "colab": {
          "base_uri": "https://localhost:8080/",
          "height": 34
        }
      },
      "source": [
        "len(df3)"
      ],
      "execution_count": 513,
      "outputs": [
        {
          "output_type": "execute_result",
          "data": {
            "text/plain": [
              "319073"
            ]
          },
          "metadata": {
            "tags": []
          },
          "execution_count": 513
        }
      ]
    },
    {
      "cell_type": "code",
      "metadata": {
        "id": "jjMLM6SnLa5N",
        "colab_type": "code",
        "outputId": "d86e003b-a4c1-4c59-f8eb-09253a073774",
        "colab": {
          "base_uri": "https://localhost:8080/",
          "height": 459
        }
      },
      "source": [
        "print(f'The dataset contains %s rows and %s columns' % (df3.shape[0],df3.shape[1]), '\\n')\n",
        "print('The columns and the its values types:\\n')\n",
        "df3.info()"
      ],
      "execution_count": 514,
      "outputs": [
        {
          "output_type": "stream",
          "text": [
            "The dataset contains 319073 rows and 17 columns \n",
            "\n",
            "The columns and the its values types:\n",
            "\n",
            "<class 'pandas.core.frame.DataFrame'>\n",
            "RangeIndex: 319073 entries, 0 to 319072\n",
            "Data columns (total 17 columns):\n",
            "INCIDENT_NUMBER        319073 non-null object\n",
            "OFFENSE_CODE           319073 non-null int64\n",
            "OFFENSE_CODE_GROUP     319073 non-null object\n",
            "OFFENSE_DESCRIPTION    319073 non-null object\n",
            "DISTRICT               317308 non-null object\n",
            "REPORTING_AREA         319073 non-null object\n",
            "SHOOTING               1019 non-null object\n",
            "OCCURRED_ON_DATE       319073 non-null object\n",
            "YEAR                   319073 non-null int64\n",
            "MONTH                  319073 non-null int64\n",
            "DAY_OF_WEEK            319073 non-null object\n",
            "HOUR                   319073 non-null int64\n",
            "UCR_PART               318983 non-null object\n",
            "STREET                 308202 non-null object\n",
            "Lat                    299074 non-null float64\n",
            "Long                   299074 non-null float64\n",
            "Location               319073 non-null object\n",
            "dtypes: float64(2), int64(4), object(11)\n",
            "memory usage: 41.4+ MB\n"
          ],
          "name": "stdout"
        }
      ]
    },
    {
      "cell_type": "markdown",
      "metadata": {
        "id": "iuUxzPE0Mkbg",
        "colab_type": "text"
      },
      "source": [
        "2.2\tThe description of some columns is not useful features in data analysis. Thus, two columns are deleted in the report, which is INCIDENT_NUMBER and OFFENSE_CODE. Using OFFENSE_CODE_GROUP is clearly to represent major crime with details. The crime focuses on the most common crimes."
      ]
    },
    {
      "cell_type": "code",
      "metadata": {
        "id": "aejf0hCUrNFn",
        "colab_type": "code",
        "colab": {}
      },
      "source": [
        "to_drop = ['INCIDENT_NUMBER','OFFENSE_CODE']\n",
        "            \n",
        "df3.drop(to_drop, inplace=True, axis=1)"
      ],
      "execution_count": 0,
      "outputs": []
    },
    {
      "cell_type": "code",
      "metadata": {
        "id": "ZrNnv_JBuax_",
        "colab_type": "code",
        "outputId": "f08546aa-de51-465e-efa4-22dc81e3db9b",
        "colab": {
          "base_uri": "https://localhost:8080/",
          "height": 204
        }
      },
      "source": [
        "df3.head()"
      ],
      "execution_count": 516,
      "outputs": [
        {
          "output_type": "execute_result",
          "data": {
            "text/html": [
              "<div>\n",
              "<style scoped>\n",
              "    .dataframe tbody tr th:only-of-type {\n",
              "        vertical-align: middle;\n",
              "    }\n",
              "\n",
              "    .dataframe tbody tr th {\n",
              "        vertical-align: top;\n",
              "    }\n",
              "\n",
              "    .dataframe thead th {\n",
              "        text-align: right;\n",
              "    }\n",
              "</style>\n",
              "<table border=\"1\" class=\"dataframe\">\n",
              "  <thead>\n",
              "    <tr style=\"text-align: right;\">\n",
              "      <th></th>\n",
              "      <th>OFFENSE_CODE_GROUP</th>\n",
              "      <th>OFFENSE_DESCRIPTION</th>\n",
              "      <th>DISTRICT</th>\n",
              "      <th>REPORTING_AREA</th>\n",
              "      <th>SHOOTING</th>\n",
              "      <th>OCCURRED_ON_DATE</th>\n",
              "      <th>YEAR</th>\n",
              "      <th>MONTH</th>\n",
              "      <th>DAY_OF_WEEK</th>\n",
              "      <th>HOUR</th>\n",
              "      <th>UCR_PART</th>\n",
              "      <th>STREET</th>\n",
              "      <th>Lat</th>\n",
              "      <th>Long</th>\n",
              "      <th>Location</th>\n",
              "    </tr>\n",
              "  </thead>\n",
              "  <tbody>\n",
              "    <tr>\n",
              "      <th>0</th>\n",
              "      <td>Larceny</td>\n",
              "      <td>LARCENY ALL OTHERS</td>\n",
              "      <td>D14</td>\n",
              "      <td>808</td>\n",
              "      <td>NaN</td>\n",
              "      <td>2018/9/2 13:00</td>\n",
              "      <td>2018</td>\n",
              "      <td>9</td>\n",
              "      <td>Sunday</td>\n",
              "      <td>13</td>\n",
              "      <td>Part One</td>\n",
              "      <td>LINCOLN ST</td>\n",
              "      <td>42.357791</td>\n",
              "      <td>-71.139371</td>\n",
              "      <td>(42.35779134, -71.13937053)</td>\n",
              "    </tr>\n",
              "    <tr>\n",
              "      <th>1</th>\n",
              "      <td>Vandalism</td>\n",
              "      <td>VANDALISM</td>\n",
              "      <td>C11</td>\n",
              "      <td>347</td>\n",
              "      <td>NaN</td>\n",
              "      <td>2018/8/21 00:00</td>\n",
              "      <td>2018</td>\n",
              "      <td>8</td>\n",
              "      <td>Tuesday</td>\n",
              "      <td>0</td>\n",
              "      <td>Part Two</td>\n",
              "      <td>HECLA ST</td>\n",
              "      <td>42.306821</td>\n",
              "      <td>-71.060300</td>\n",
              "      <td>(42.30682138, -71.06030035)</td>\n",
              "    </tr>\n",
              "    <tr>\n",
              "      <th>2</th>\n",
              "      <td>Towed</td>\n",
              "      <td>TOWED MOTOR VEHICLE</td>\n",
              "      <td>D4</td>\n",
              "      <td>151</td>\n",
              "      <td>NaN</td>\n",
              "      <td>2018/9/3 19:27</td>\n",
              "      <td>2018</td>\n",
              "      <td>9</td>\n",
              "      <td>Monday</td>\n",
              "      <td>19</td>\n",
              "      <td>Part Three</td>\n",
              "      <td>CAZENOVE ST</td>\n",
              "      <td>42.346589</td>\n",
              "      <td>-71.072429</td>\n",
              "      <td>(42.34658879, -71.07242943)</td>\n",
              "    </tr>\n",
              "    <tr>\n",
              "      <th>3</th>\n",
              "      <td>Investigate Property</td>\n",
              "      <td>INVESTIGATE PROPERTY</td>\n",
              "      <td>D4</td>\n",
              "      <td>272</td>\n",
              "      <td>NaN</td>\n",
              "      <td>2018/9/3 21:16</td>\n",
              "      <td>2018</td>\n",
              "      <td>9</td>\n",
              "      <td>Monday</td>\n",
              "      <td>21</td>\n",
              "      <td>Part Three</td>\n",
              "      <td>NEWCOMB ST</td>\n",
              "      <td>42.334182</td>\n",
              "      <td>-71.078664</td>\n",
              "      <td>(42.33418175, -71.07866441)</td>\n",
              "    </tr>\n",
              "    <tr>\n",
              "      <th>4</th>\n",
              "      <td>Investigate Property</td>\n",
              "      <td>INVESTIGATE PROPERTY</td>\n",
              "      <td>B3</td>\n",
              "      <td>421</td>\n",
              "      <td>NaN</td>\n",
              "      <td>2018/9/3 21:05</td>\n",
              "      <td>2018</td>\n",
              "      <td>9</td>\n",
              "      <td>Monday</td>\n",
              "      <td>21</td>\n",
              "      <td>Part Three</td>\n",
              "      <td>DELHI ST</td>\n",
              "      <td>42.275365</td>\n",
              "      <td>-71.090361</td>\n",
              "      <td>(42.27536542, -71.09036101)</td>\n",
              "    </tr>\n",
              "  </tbody>\n",
              "</table>\n",
              "</div>"
            ],
            "text/plain": [
              "     OFFENSE_CODE_GROUP  ...                     Location\n",
              "0               Larceny  ...  (42.35779134, -71.13937053)\n",
              "1             Vandalism  ...  (42.30682138, -71.06030035)\n",
              "2                 Towed  ...  (42.34658879, -71.07242943)\n",
              "3  Investigate Property  ...  (42.33418175, -71.07866441)\n",
              "4  Investigate Property  ...  (42.27536542, -71.09036101)\n",
              "\n",
              "[5 rows x 15 columns]"
            ]
          },
          "metadata": {
            "tags": []
          },
          "execution_count": 516
        }
      ]
    },
    {
      "cell_type": "code",
      "metadata": {
        "id": "6ev-27gOlX2p",
        "colab_type": "code",
        "outputId": "4d5c5218-0f13-47a1-f55b-d58a6498f05f",
        "colab": {
          "base_uri": "https://localhost:8080/",
          "height": 102
        }
      },
      "source": [
        "df3['UCR_PART'].value_counts()"
      ],
      "execution_count": 517,
      "outputs": [
        {
          "output_type": "execute_result",
          "data": {
            "text/plain": [
              "Part Three    158553\n",
              "Part Two       97569\n",
              "Part One       61629\n",
              "Other           1232\n",
              "Name: UCR_PART, dtype: int64"
            ]
          },
          "metadata": {
            "tags": []
          },
          "execution_count": 517
        }
      ]
    },
    {
      "cell_type": "code",
      "metadata": {
        "id": "QBOC3pxSPZzf",
        "colab_type": "code",
        "outputId": "4e55b782-a231-4daa-bfc0-824b3a08587c",
        "colab": {
          "base_uri": "https://localhost:8080/",
          "height": 1000
        }
      },
      "source": [
        "df3['OFFENSE_CODE_GROUP'].value_counts()"
      ],
      "execution_count": 518,
      "outputs": [
        {
          "output_type": "execute_result",
          "data": {
            "text/plain": [
              "Motor Vehicle Accident Response              37132\n",
              "Larceny                                      25935\n",
              "Medical Assistance                           23540\n",
              "Investigate Person                           18750\n",
              "Other                                        18075\n",
              "Drug Violation                               16548\n",
              "Simple Assault                               15826\n",
              "Vandalism                                    15415\n",
              "Verbal Disputes                              13099\n",
              "Towed                                        11287\n",
              "Investigate Property                         11124\n",
              "Larceny From Motor Vehicle                   10847\n",
              "Property Lost                                 9751\n",
              "Warrant Arrests                               8407\n",
              "Aggravated Assault                            7807\n",
              "Violations                                    6095\n",
              "Fraud                                         5829\n",
              "Residential Burglary                          5606\n",
              "Missing Person Located                        4958\n",
              "Auto Theft                                    4851\n",
              "Robbery                                       4624\n",
              "Harassment                                    4007\n",
              "Property Found                                3925\n",
              "Missing Person Reported                       3797\n",
              "Confidence Games                              3147\n",
              "Police Service Incidents                      2781\n",
              "Disorderly Conduct                            2611\n",
              "Fire Related Reports                          1920\n",
              "Firearm Violations                            1777\n",
              "License Violation                             1701\n",
              "                                             ...  \n",
              "Landlord/Tenant Disputes                       968\n",
              "Search Warrants                                966\n",
              "Assembly or Gathering Violations               955\n",
              "Property Related Damage                        912\n",
              "Firearm Discovery                              698\n",
              "Operating Under the Influence                  574\n",
              "License Plate Related Incidents                560\n",
              "Offenses Against Child / Family                545\n",
              "Other Burglary                                 461\n",
              "Evading Fare                                   407\n",
              "Embezzlement                                   296\n",
              "Service                                        285\n",
              "Prisoner Related Incidents                     253\n",
              "Harbor Related Incidents                       212\n",
              "Prostitution                                   207\n",
              "Homicide                                       161\n",
              "Criminal Harassment                            131\n",
              "Arson                                           94\n",
              "HOME INVASION                                   77\n",
              "Bomb Hoax                                       75\n",
              "Aircraft                                        36\n",
              "Phone Call Complaints                           31\n",
              "Explosives                                      27\n",
              "Manslaughter                                     8\n",
              "Gambling                                         8\n",
              "HUMAN TRAFFICKING                                7\n",
              "INVESTIGATE PERSON                               4\n",
              "HUMAN TRAFFICKING - INVOLUNTARY SERVITUDE        2\n",
              "Burglary - No Property Taken                     2\n",
              "Biological Threat                                2\n",
              "Name: OFFENSE_CODE_GROUP, Length: 67, dtype: int64"
            ]
          },
          "metadata": {
            "tags": []
          },
          "execution_count": 518
        }
      ]
    },
    {
      "cell_type": "code",
      "metadata": {
        "id": "Zv6ad9jeLy6I",
        "colab_type": "code",
        "outputId": "5b21cd80-789a-413f-eb00-dc86198a161f",
        "colab": {
          "base_uri": "https://localhost:8080/",
          "height": 760
        }
      },
      "source": [
        "sns.catplot(y='OFFENSE_CODE_GROUP',\n",
        "           kind='count',\n",
        "            height=10, \n",
        "            aspect=1.5,\n",
        "            order=df3.OFFENSE_CODE_GROUP.value_counts().index,\n",
        "           data=df3)"
      ],
      "execution_count": 519,
      "outputs": [
        {
          "output_type": "execute_result",
          "data": {
            "text/plain": [
              "<seaborn.axisgrid.FacetGrid at 0x7f1d25563278>"
            ]
          },
          "metadata": {
            "tags": []
          },
          "execution_count": 519
        },
        {
          "output_type": "display_data",
          "data": {
            "image/png": "[encoded data removed]",
            "text/plain": [
              "<Figure size 1080x720 with 1 Axes>"
            ]
          },
          "metadata": {
            "tags": []
          }
        }
      ]
    },
    {
      "cell_type": "markdown",
      "metadata": {
        "id": "dC10eehiLrAJ",
        "colab_type": "text"
      },
      "source": [
        "2.3\tChecking missing values and anomalies in this step finds that the missing values occur in DISTRICT, UCR_PART, Street, Latitude and Longitude, and the SHOOTING column almost contains no values inside. SHOOTING column is not a point in this study, then in this step that decides to fill nan into the column."
      ]
    },
    {
      "cell_type": "code",
      "metadata": {
        "id": "N88VTaGpTU5l",
        "colab_type": "code",
        "outputId": "779eba7a-d2da-45ea-ef91-882b77eac25e",
        "colab": {
          "base_uri": "https://localhost:8080/",
          "height": 289
        }
      },
      "source": [
        "print(df3.isnull().sum())"
      ],
      "execution_count": 520,
      "outputs": [
        {
          "output_type": "stream",
          "text": [
            "OFFENSE_CODE_GROUP          0\n",
            "OFFENSE_DESCRIPTION         0\n",
            "DISTRICT                 1765\n",
            "REPORTING_AREA              0\n",
            "SHOOTING               318054\n",
            "OCCURRED_ON_DATE            0\n",
            "YEAR                        0\n",
            "MONTH                       0\n",
            "DAY_OF_WEEK                 0\n",
            "HOUR                        0\n",
            "UCR_PART                   90\n",
            "STREET                  10871\n",
            "Lat                     19999\n",
            "Long                    19999\n",
            "Location                    0\n",
            "dtype: int64\n"
          ],
          "name": "stdout"
        }
      ]
    },
    {
      "cell_type": "code",
      "metadata": {
        "id": "Qm-30-Xks87S",
        "colab_type": "code",
        "colab": {}
      },
      "source": [
        "df3.SHOOTING.fillna('N', inplace=True)"
      ],
      "execution_count": 0,
      "outputs": []
    },
    {
      "cell_type": "code",
      "metadata": {
        "id": "TGGhuOM86pmA",
        "colab_type": "code",
        "outputId": "f7ee93af-c4ef-46ab-d08c-e60f3218b86a",
        "colab": {
          "base_uri": "https://localhost:8080/",
          "height": 289
        }
      },
      "source": [
        "df3.isnull().sum().sort_values(ascending=False)"
      ],
      "execution_count": 522,
      "outputs": [
        {
          "output_type": "execute_result",
          "data": {
            "text/plain": [
              "Long                   19999\n",
              "Lat                    19999\n",
              "STREET                 10871\n",
              "DISTRICT                1765\n",
              "UCR_PART                  90\n",
              "Location                   0\n",
              "HOUR                       0\n",
              "DAY_OF_WEEK                0\n",
              "MONTH                      0\n",
              "YEAR                       0\n",
              "OCCURRED_ON_DATE           0\n",
              "SHOOTING                   0\n",
              "REPORTING_AREA             0\n",
              "OFFENSE_DESCRIPTION        0\n",
              "OFFENSE_CODE_GROUP         0\n",
              "dtype: int64"
            ]
          },
          "metadata": {
            "tags": []
          },
          "execution_count": 522
        }
      ]
    },
    {
      "cell_type": "markdown",
      "metadata": {
        "id": "Zflh3Udc2Ph7",
        "colab_type": "text"
      },
      "source": [
        "2.4\tThe describe table shows that the anomalies happened in Lat and Long columns that contain -1 value. It is a outliner to drop the accuracy from the column. The -1 value is replaced by none."
      ]
    },
    {
      "cell_type": "code",
      "metadata": {
        "id": "rW4vQJyI4w3p",
        "colab_type": "code",
        "colab": {}
      },
      "source": [
        "# Replace -1 values in Lat/Long with Nan\n",
        "df3.Lat.replace(-1, None, inplace=True)\n",
        "df3.Long.replace(-1, None, inplace=True)"
      ],
      "execution_count": 0,
      "outputs": []
    },
    {
      "cell_type": "code",
      "metadata": {
        "id": "qz9hXJC8iHXs",
        "colab_type": "code",
        "outputId": "0c1f3bbf-42ea-480f-d5bf-a7014c5f1d30",
        "colab": {
          "base_uri": "https://localhost:8080/",
          "height": 297
        }
      },
      "source": [
        "df3.describe()"
      ],
      "execution_count": 524,
      "outputs": [
        {
          "output_type": "execute_result",
          "data": {
            "text/html": [
              "<div>\n",
              "<style scoped>\n",
              "    .dataframe tbody tr th:only-of-type {\n",
              "        vertical-align: middle;\n",
              "    }\n",
              "\n",
              "    .dataframe tbody tr th {\n",
              "        vertical-align: top;\n",
              "    }\n",
              "\n",
              "    .dataframe thead th {\n",
              "        text-align: right;\n",
              "    }\n",
              "</style>\n",
              "<table border=\"1\" class=\"dataframe\">\n",
              "  <thead>\n",
              "    <tr style=\"text-align: right;\">\n",
              "      <th></th>\n",
              "      <th>YEAR</th>\n",
              "      <th>MONTH</th>\n",
              "      <th>HOUR</th>\n",
              "      <th>Lat</th>\n",
              "      <th>Long</th>\n",
              "    </tr>\n",
              "  </thead>\n",
              "  <tbody>\n",
              "    <tr>\n",
              "      <th>count</th>\n",
              "      <td>319073.000000</td>\n",
              "      <td>319073.000000</td>\n",
              "      <td>319073.000000</td>\n",
              "      <td>299029.000000</td>\n",
              "      <td>299029.000000</td>\n",
              "    </tr>\n",
              "    <tr>\n",
              "      <th>mean</th>\n",
              "      <td>2016.560586</td>\n",
              "      <td>6.609719</td>\n",
              "      <td>13.118205</td>\n",
              "      <td>42.322300</td>\n",
              "      <td>-71.082851</td>\n",
              "    </tr>\n",
              "    <tr>\n",
              "      <th>std</th>\n",
              "      <td>0.996344</td>\n",
              "      <td>3.273691</td>\n",
              "      <td>6.294205</td>\n",
              "      <td>0.031883</td>\n",
              "      <td>0.029775</td>\n",
              "    </tr>\n",
              "    <tr>\n",
              "      <th>min</th>\n",
              "      <td>2015.000000</td>\n",
              "      <td>1.000000</td>\n",
              "      <td>0.000000</td>\n",
              "      <td>42.232413</td>\n",
              "      <td>-71.178674</td>\n",
              "    </tr>\n",
              "    <tr>\n",
              "      <th>25%</th>\n",
              "      <td>2016.000000</td>\n",
              "      <td>4.000000</td>\n",
              "      <td>9.000000</td>\n",
              "      <td>42.297555</td>\n",
              "      <td>-71.097193</td>\n",
              "    </tr>\n",
              "    <tr>\n",
              "      <th>50%</th>\n",
              "      <td>2017.000000</td>\n",
              "      <td>7.000000</td>\n",
              "      <td>14.000000</td>\n",
              "      <td>42.325610</td>\n",
              "      <td>-71.077562</td>\n",
              "    </tr>\n",
              "    <tr>\n",
              "      <th>75%</th>\n",
              "      <td>2017.000000</td>\n",
              "      <td>9.000000</td>\n",
              "      <td>18.000000</td>\n",
              "      <td>42.348624</td>\n",
              "      <td>-71.062563</td>\n",
              "    </tr>\n",
              "    <tr>\n",
              "      <th>max</th>\n",
              "      <td>2018.000000</td>\n",
              "      <td>12.000000</td>\n",
              "      <td>23.000000</td>\n",
              "      <td>42.395042</td>\n",
              "      <td>-70.963676</td>\n",
              "    </tr>\n",
              "  </tbody>\n",
              "</table>\n",
              "</div>"
            ],
            "text/plain": [
              "                YEAR          MONTH  ...            Lat           Long\n",
              "count  319073.000000  319073.000000  ...  299029.000000  299029.000000\n",
              "mean     2016.560586       6.609719  ...      42.322300     -71.082851\n",
              "std         0.996344       3.273691  ...       0.031883       0.029775\n",
              "min      2015.000000       1.000000  ...      42.232413     -71.178674\n",
              "25%      2016.000000       4.000000  ...      42.297555     -71.097193\n",
              "50%      2017.000000       7.000000  ...      42.325610     -71.077562\n",
              "75%      2017.000000       9.000000  ...      42.348624     -71.062563\n",
              "max      2018.000000      12.000000  ...      42.395042     -70.963676\n",
              "\n",
              "[8 rows x 5 columns]"
            ]
          },
          "metadata": {
            "tags": []
          },
          "execution_count": 524
        }
      ]
    },
    {
      "cell_type": "markdown",
      "metadata": {
        "id": "O5lYGzl14ue6",
        "colab_type": "text"
      },
      "source": [
        "2.5\tOCCURRED_ON_DATE is string in the data, then it is replaced by datetime. WEEK_OF_DAY is coverted to an ordered category."
      ]
    },
    {
      "cell_type": "code",
      "metadata": {
        "id": "1W-89hdG8Ddv",
        "colab_type": "code",
        "colab": {}
      },
      "source": [
        "df3['OCCURRED_ON_DATE'] = pd.to_datetime(df3['OCCURRED_ON_DATE'])\n",
        "df3.DAY_OF_WEEK = pd.Categorical(df3.DAY_OF_WEEK, \n",
        "              categories=['Monday','Tuesday','Wednesday','Thursday','Friday','Saturday','Sunday'],\n",
        "              ordered=True)"
      ],
      "execution_count": 0,
      "outputs": []
    },
    {
      "cell_type": "code",
      "metadata": {
        "id": "24fccMqD-nN0",
        "colab_type": "code",
        "outputId": "55c61083-741c-4988-f0b2-33310cb0b7e8",
        "colab": {
          "base_uri": "https://localhost:8080/",
          "height": 204
        }
      },
      "source": [
        "df3.head()"
      ],
      "execution_count": 526,
      "outputs": [
        {
          "output_type": "execute_result",
          "data": {
            "text/html": [
              "<div>\n",
              "<style scoped>\n",
              "    .dataframe tbody tr th:only-of-type {\n",
              "        vertical-align: middle;\n",
              "    }\n",
              "\n",
              "    .dataframe tbody tr th {\n",
              "        vertical-align: top;\n",
              "    }\n",
              "\n",
              "    .dataframe thead th {\n",
              "        text-align: right;\n",
              "    }\n",
              "</style>\n",
              "<table border=\"1\" class=\"dataframe\">\n",
              "  <thead>\n",
              "    <tr style=\"text-align: right;\">\n",
              "      <th></th>\n",
              "      <th>OFFENSE_CODE_GROUP</th>\n",
              "      <th>OFFENSE_DESCRIPTION</th>\n",
              "      <th>DISTRICT</th>\n",
              "      <th>REPORTING_AREA</th>\n",
              "      <th>SHOOTING</th>\n",
              "      <th>OCCURRED_ON_DATE</th>\n",
              "      <th>YEAR</th>\n",
              "      <th>MONTH</th>\n",
              "      <th>DAY_OF_WEEK</th>\n",
              "      <th>HOUR</th>\n",
              "      <th>UCR_PART</th>\n",
              "      <th>STREET</th>\n",
              "      <th>Lat</th>\n",
              "      <th>Long</th>\n",
              "      <th>Location</th>\n",
              "    </tr>\n",
              "  </thead>\n",
              "  <tbody>\n",
              "    <tr>\n",
              "      <th>0</th>\n",
              "      <td>Larceny</td>\n",
              "      <td>LARCENY ALL OTHERS</td>\n",
              "      <td>D14</td>\n",
              "      <td>808</td>\n",
              "      <td>N</td>\n",
              "      <td>2018-09-02 13:00:00</td>\n",
              "      <td>2018</td>\n",
              "      <td>9</td>\n",
              "      <td>Sunday</td>\n",
              "      <td>13</td>\n",
              "      <td>Part One</td>\n",
              "      <td>LINCOLN ST</td>\n",
              "      <td>42.357791</td>\n",
              "      <td>-71.139371</td>\n",
              "      <td>(42.35779134, -71.13937053)</td>\n",
              "    </tr>\n",
              "    <tr>\n",
              "      <th>1</th>\n",
              "      <td>Vandalism</td>\n",
              "      <td>VANDALISM</td>\n",
              "      <td>C11</td>\n",
              "      <td>347</td>\n",
              "      <td>N</td>\n",
              "      <td>2018-08-21 00:00:00</td>\n",
              "      <td>2018</td>\n",
              "      <td>8</td>\n",
              "      <td>Tuesday</td>\n",
              "      <td>0</td>\n",
              "      <td>Part Two</td>\n",
              "      <td>HECLA ST</td>\n",
              "      <td>42.306821</td>\n",
              "      <td>-71.060300</td>\n",
              "      <td>(42.30682138, -71.06030035)</td>\n",
              "    </tr>\n",
              "    <tr>\n",
              "      <th>2</th>\n",
              "      <td>Towed</td>\n",
              "      <td>TOWED MOTOR VEHICLE</td>\n",
              "      <td>D4</td>\n",
              "      <td>151</td>\n",
              "      <td>N</td>\n",
              "      <td>2018-09-03 19:27:00</td>\n",
              "      <td>2018</td>\n",
              "      <td>9</td>\n",
              "      <td>Monday</td>\n",
              "      <td>19</td>\n",
              "      <td>Part Three</td>\n",
              "      <td>CAZENOVE ST</td>\n",
              "      <td>42.346589</td>\n",
              "      <td>-71.072429</td>\n",
              "      <td>(42.34658879, -71.07242943)</td>\n",
              "    </tr>\n",
              "    <tr>\n",
              "      <th>3</th>\n",
              "      <td>Investigate Property</td>\n",
              "      <td>INVESTIGATE PROPERTY</td>\n",
              "      <td>D4</td>\n",
              "      <td>272</td>\n",
              "      <td>N</td>\n",
              "      <td>2018-09-03 21:16:00</td>\n",
              "      <td>2018</td>\n",
              "      <td>9</td>\n",
              "      <td>Monday</td>\n",
              "      <td>21</td>\n",
              "      <td>Part Three</td>\n",
              "      <td>NEWCOMB ST</td>\n",
              "      <td>42.334182</td>\n",
              "      <td>-71.078664</td>\n",
              "      <td>(42.33418175, -71.07866441)</td>\n",
              "    </tr>\n",
              "    <tr>\n",
              "      <th>4</th>\n",
              "      <td>Investigate Property</td>\n",
              "      <td>INVESTIGATE PROPERTY</td>\n",
              "      <td>B3</td>\n",
              "      <td>421</td>\n",
              "      <td>N</td>\n",
              "      <td>2018-09-03 21:05:00</td>\n",
              "      <td>2018</td>\n",
              "      <td>9</td>\n",
              "      <td>Monday</td>\n",
              "      <td>21</td>\n",
              "      <td>Part Three</td>\n",
              "      <td>DELHI ST</td>\n",
              "      <td>42.275365</td>\n",
              "      <td>-71.090361</td>\n",
              "      <td>(42.27536542, -71.09036101)</td>\n",
              "    </tr>\n",
              "  </tbody>\n",
              "</table>\n",
              "</div>"
            ],
            "text/plain": [
              "     OFFENSE_CODE_GROUP  ...                     Location\n",
              "0               Larceny  ...  (42.35779134, -71.13937053)\n",
              "1             Vandalism  ...  (42.30682138, -71.06030035)\n",
              "2                 Towed  ...  (42.34658879, -71.07242943)\n",
              "3  Investigate Property  ...  (42.33418175, -71.07866441)\n",
              "4  Investigate Property  ...  (42.27536542, -71.09036101)\n",
              "\n",
              "[5 rows x 15 columns]"
            ]
          },
          "metadata": {
            "tags": []
          },
          "execution_count": 526
        }
      ]
    },
    {
      "cell_type": "markdown",
      "metadata": {
        "id": "5GUgc2QXg87Z",
        "colab_type": "text"
      },
      "source": [
        "# 3. Training and Testing set\n",
        "1.\tThe major crimes have showed above.\n",
        "2.\tWhen is crime usually happen? \n",
        "Using time units from data are hours, days, and months. After the result has shown that combine all results can get the data to predict when would the common crime happens in the future.\n"
      ]
    },
    {
      "cell_type": "code",
      "metadata": {
        "id": "7MmgZ27ez2V5",
        "colab_type": "code",
        "outputId": "e4c9bca0-b2a2-4956-b9d9-a3feaea445e8",
        "colab": {
          "base_uri": "https://localhost:8080/",
          "height": 691
        }
      },
      "source": [
        "sns.catplot(x='HOUR',\n",
        "           kind='count',\n",
        "            height=8.27, \n",
        "            aspect=3,\n",
        "            color='brown',\n",
        "           data=df3)\n",
        "plt.xticks(size=30)\n",
        "plt.yticks(size=30)\n",
        "plt.xlabel('HOUR', fontsize=40)\n",
        "plt.ylabel('Count', fontsize=40)"
      ],
      "execution_count": 527,
      "outputs": [
        {
          "output_type": "execute_result",
          "data": {
            "text/plain": [
              "Text(-8.950000000000003, 0.5, 'Count')"
            ]
          },
          "metadata": {
            "tags": []
          },
          "execution_count": 527
        },
        {
          "output_type": "display_data",
          "data": {
            "image/png": "[encoded data removed]",
            "text/plain": [
              "<Figure size 1786.32x595.44 with 1 Axes>"
            ]
          },
          "metadata": {
            "tags": []
          }
        }
      ]
    },
    {
      "cell_type": "code",
      "metadata": {
        "id": "TVdbVUWZ0xPz",
        "colab_type": "code",
        "outputId": "6a3018a8-af34-4127-d0c8-a8ba8659bb76",
        "colab": {
          "base_uri": "https://localhost:8080/",
          "height": 690
        }
      },
      "source": [
        "sns.catplot(x='DAY_OF_WEEK',\n",
        "           kind='count',\n",
        "            height=8.27, \n",
        "            aspect=3,\n",
        "            data=df3)\n",
        "plt.xticks(size=30)\n",
        "plt.yticks(size=30)\n",
        "plt.xlabel('DAY_OF_WEEK', fontsize=40)\n",
        "plt.ylabel('Count', fontsize=40)"
      ],
      "execution_count": 528,
      "outputs": [
        {
          "output_type": "execute_result",
          "data": {
            "text/plain": [
              "Text(-8.700000000000003, 0.5, 'Count')"
            ]
          },
          "metadata": {
            "tags": []
          },
          "execution_count": 528
        },
        {
          "output_type": "display_data",
          "data": {
            "image/png": "[encoded data removed]",
            "text/plain": [
              "<Figure size 1786.32x595.44 with 1 Axes>"
            ]
          },
          "metadata": {
            "tags": []
          }
        }
      ]
    },
    {
      "cell_type": "code",
      "metadata": {
        "id": "GgHmsMor4Uz3",
        "colab_type": "code",
        "outputId": "2d0d371a-64c6-4fc0-d7d4-800ca9a6d452",
        "colab": {
          "base_uri": "https://localhost:8080/",
          "height": 641
        }
      },
      "source": [
        "sns.catplot(x='MONTH',\n",
        "           kind='count',\n",
        "            height=8, \n",
        "            aspect=3,\n",
        "            color='red',\n",
        "           data=df3)\n",
        "plt.xticks(size=30)\n",
        "plt.yticks(size=30)\n",
        "plt.xlabel('MONTH')\n",
        "plt.ylabel('Count', fontsize=40)"
      ],
      "execution_count": 529,
      "outputs": [
        {
          "output_type": "execute_result",
          "data": {
            "text/plain": [
              "Text(-8.824999999999996, 0.5, 'Count')"
            ]
          },
          "metadata": {
            "tags": []
          },
          "execution_count": 529
        },
        {
          "output_type": "display_data",
          "data": {
            "image/png": "[encoded data removed]",
            "text/plain": [
              "<Figure size 1728x576 with 1 Axes>"
            ]
          },
          "metadata": {
            "tags": []
          }
        }
      ]
    },
    {
      "cell_type": "markdown",
      "metadata": {
        "id": "xai5_zW-D5Ft",
        "colab_type": "text"
      },
      "source": [
        "3.\tWhere is crime usually occur? \n",
        "Using a simple scatter plot shows the cluster that performs like a rough map on the graph. One is the data of crime draws the map. Other one is the data of district shows the different number of crimes occur in different places.\n"
      ]
    },
    {
      "cell_type": "code",
      "metadata": {
        "id": "tI2MY9t6g8e-",
        "colab_type": "code",
        "outputId": "7c614fab-a7d6-4a50-ce43-e19466c8a073",
        "colab": {
          "base_uri": "https://localhost:8080/",
          "height": 300
        }
      },
      "source": [
        "# Simple scatterplot\n",
        "sns.scatterplot(x='Lat',\n",
        "               y='Long',\n",
        "                alpha=0.01,\n",
        "               data=df3)"
      ],
      "execution_count": 530,
      "outputs": [
        {
          "output_type": "execute_result",
          "data": {
            "text/plain": [
              "<matplotlib.axes._subplots.AxesSubplot at 0x7f1cfa051c50>"
            ]
          },
          "metadata": {
            "tags": []
          },
          "execution_count": 530
        },
        {
          "output_type": "display_data",
          "data": {
            "image/png": "[encoded data removed]",
            "text/plain": [
              "<Figure size 432x288 with 1 Axes>"
            ]
          },
          "metadata": {
            "tags": []
          }
        }
      ]
    },
    {
      "cell_type": "code",
      "metadata": {
        "id": "nODODgPbjW5B",
        "colab_type": "code",
        "outputId": "93979edd-4bb2-4b5a-e8ce-b0e7508e4fe8",
        "colab": {
          "base_uri": "https://localhost:8080/",
          "height": 300
        }
      },
      "source": [
        "# Plot districts\n",
        "sns.scatterplot(x='Lat',\n",
        "               y='Long',\n",
        "                hue='DISTRICT',\n",
        "                alpha=0.01,\n",
        "               data=df3)\n",
        "plt.legend(bbox_to_anchor=(1.05, 1), loc=2)"
      ],
      "execution_count": 531,
      "outputs": [
        {
          "output_type": "execute_result",
          "data": {
            "text/plain": [
              "<matplotlib.legend.Legend at 0x7f1cdfa4ad30>"
            ]
          },
          "metadata": {
            "tags": []
          },
          "execution_count": 531
        },
        {
          "output_type": "display_data",
          "data": {
            "image/png": "[encoded data removed]",
            "text/plain": [
              "<Figure size 432x288 with 1 Axes>"
            ]
          },
          "metadata": {
            "tags": []
          }
        }
      ]
    },
    {
      "cell_type": "markdown",
      "metadata": {
        "id": "VZvUd9rDD2ae",
        "colab_type": "text"
      },
      "source": [
        "4.\tFinal problem focuses on the prediction of the major crime that happens in  a district. The prediction could help the police station in each district to prevent the major crime."
      ]
    },
    {
      "cell_type": "code",
      "metadata": {
        "id": "yJnGF1i6OJja",
        "colab_type": "code",
        "outputId": "22bec63e-bee3-48e8-84af-35a4eef996af",
        "colab": {
          "base_uri": "https://localhost:8080/",
          "height": 1000
        }
      },
      "source": [
        "df3['OFFENSE_CODE_GROUP']"
      ],
      "execution_count": 532,
      "outputs": [
        {
          "output_type": "execute_result",
          "data": {
            "text/plain": [
              "0                                  Larceny\n",
              "1                                Vandalism\n",
              "2                                    Towed\n",
              "3                     Investigate Property\n",
              "4                     Investigate Property\n",
              "5          Motor Vehicle Accident Response\n",
              "6                               Auto Theft\n",
              "7                          Verbal Disputes\n",
              "8                                  Robbery\n",
              "9                          Verbal Disputes\n",
              "10                         Verbal Disputes\n",
              "11                    Investigate Property\n",
              "12                    Fire Related Reports\n",
              "13                                   Other\n",
              "14                           Property Lost\n",
              "15                      Medical Assistance\n",
              "16                         Verbal Disputes\n",
              "17        Assembly or Gathering Violations\n",
              "18                                   Other\n",
              "19              Larceny From Motor Vehicle\n",
              "20                      Medical Assistance\n",
              "21         Motor Vehicle Accident Response\n",
              "22                      Medical Assistance\n",
              "23         Motor Vehicle Accident Response\n",
              "24                    Residential Burglary\n",
              "25         Motor Vehicle Accident Response\n",
              "26                      Medical Assistance\n",
              "27                          Simple Assault\n",
              "28            Restraining Order Violations\n",
              "29                                   Other\n",
              "                        ...               \n",
              "319043                     Warrant Arrests\n",
              "319044                             Larceny\n",
              "319045                  Aggravated Assault\n",
              "319046                     Warrant Arrests\n",
              "319047                     Warrant Arrests\n",
              "319048                             Larceny\n",
              "319049                     Warrant Arrests\n",
              "319050                      Simple Assault\n",
              "319051                     Warrant Arrests\n",
              "319052                             Larceny\n",
              "319053                     Warrant Arrests\n",
              "319054                     Warrant Arrests\n",
              "319055                             Robbery\n",
              "319056                     Warrant Arrests\n",
              "319057                          Violations\n",
              "319058                          Violations\n",
              "319059                     Warrant Arrests\n",
              "319060                     Warrant Arrests\n",
              "319061                  Aggravated Assault\n",
              "319062                     Warrant Arrests\n",
              "319063                     Warrant Arrests\n",
              "319064                      Drug Violation\n",
              "319065                      Drug Violation\n",
              "319066                      Drug Violation\n",
              "319067                     Warrant Arrests\n",
              "319068                     Warrant Arrests\n",
              "319069                            Homicide\n",
              "319070                     Warrant Arrests\n",
              "319071                     Warrant Arrests\n",
              "319072                     Warrant Arrests\n",
              "Name: OFFENSE_CODE_GROUP, Length: 319073, dtype: object"
            ]
          },
          "metadata": {
            "tags": []
          },
          "execution_count": 532
        }
      ]
    },
    {
      "cell_type": "code",
      "metadata": {
        "id": "kd6OmrjzOSlZ",
        "colab_type": "code",
        "outputId": "1cf6865c-a160-4d84-b67d-ef56b1968ef5",
        "colab": {
          "base_uri": "https://localhost:8080/",
          "height": 442
        }
      },
      "source": [
        "df3['OFFENSE_CODE_GROUP'].unique()"
      ],
      "execution_count": 533,
      "outputs": [
        {
          "output_type": "execute_result",
          "data": {
            "text/plain": [
              "array(['Larceny', 'Vandalism', 'Towed', 'Investigate Property',\n",
              "       'Motor Vehicle Accident Response', 'Auto Theft', 'Verbal Disputes',\n",
              "       'Robbery', 'Fire Related Reports', 'Other', 'Property Lost',\n",
              "       'Medical Assistance', 'Assembly or Gathering Violations',\n",
              "       'Larceny From Motor Vehicle', 'Residential Burglary',\n",
              "       'Simple Assault', 'Restraining Order Violations', 'Violations',\n",
              "       'Harassment', 'Ballistics', 'Property Found',\n",
              "       'Police Service Incidents', 'Drug Violation', 'Warrant Arrests',\n",
              "       'Disorderly Conduct', 'Property Related Damage',\n",
              "       'Missing Person Reported', 'Investigate Person', 'Fraud',\n",
              "       'Aggravated Assault', 'License Plate Related Incidents',\n",
              "       'Firearm Violations', 'Other Burglary', 'Arson', 'Bomb Hoax',\n",
              "       'Harbor Related Incidents', 'Counterfeiting', 'Liquor Violation',\n",
              "       'Firearm Discovery', 'Landlord/Tenant Disputes',\n",
              "       'Missing Person Located', 'Auto Theft Recovery', 'Service',\n",
              "       'Operating Under the Influence', 'Confidence Games',\n",
              "       'Search Warrants', 'License Violation', 'Commercial Burglary',\n",
              "       'HOME INVASION', 'Recovered Stolen Property',\n",
              "       'Offenses Against Child / Family', 'Prostitution', 'Evading Fare',\n",
              "       'Prisoner Related Incidents', 'Homicide', 'Embezzlement',\n",
              "       'Explosives', 'Criminal Harassment', 'Phone Call Complaints',\n",
              "       'Aircraft', 'Biological Threat', 'Manslaughter', 'Gambling',\n",
              "       'INVESTIGATE PERSON', 'HUMAN TRAFFICKING',\n",
              "       'HUMAN TRAFFICKING - INVOLUNTARY SERVITUDE',\n",
              "       'Burglary - No Property Taken'], dtype=object)"
            ]
          },
          "metadata": {
            "tags": []
          },
          "execution_count": 533
        }
      ]
    },
    {
      "cell_type": "code",
      "metadata": {
        "id": "tX9FrceJPwGk",
        "colab_type": "code",
        "colab": {}
      },
      "source": [
        "MotorVehicleAccidentResponse_data = df3.loc[df3['OFFENSE_CODE_GROUP'] == \"Motor Vehicle Accident Response\"]"
      ],
      "execution_count": 0,
      "outputs": []
    },
    {
      "cell_type": "code",
      "metadata": {
        "id": "OpizxpJeQEuF",
        "colab_type": "code",
        "outputId": "571b3d98-a5a3-4794-985a-a7dbb944f319",
        "colab": {
          "base_uri": "https://localhost:8080/",
          "height": 289
        }
      },
      "source": [
        "MotorVehicleAccidentResponse_data.head(5)"
      ],
      "execution_count": 535,
      "outputs": [
        {
          "output_type": "execute_result",
          "data": {
            "text/html": [
              "<div>\n",
              "<style scoped>\n",
              "    .dataframe tbody tr th:only-of-type {\n",
              "        vertical-align: middle;\n",
              "    }\n",
              "\n",
              "    .dataframe tbody tr th {\n",
              "        vertical-align: top;\n",
              "    }\n",
              "\n",
              "    .dataframe thead th {\n",
              "        text-align: right;\n",
              "    }\n",
              "</style>\n",
              "<table border=\"1\" class=\"dataframe\">\n",
              "  <thead>\n",
              "    <tr style=\"text-align: right;\">\n",
              "      <th></th>\n",
              "      <th>OFFENSE_CODE_GROUP</th>\n",
              "      <th>OFFENSE_DESCRIPTION</th>\n",
              "      <th>DISTRICT</th>\n",
              "      <th>REPORTING_AREA</th>\n",
              "      <th>SHOOTING</th>\n",
              "      <th>OCCURRED_ON_DATE</th>\n",
              "      <th>YEAR</th>\n",
              "      <th>MONTH</th>\n",
              "      <th>DAY_OF_WEEK</th>\n",
              "      <th>HOUR</th>\n",
              "      <th>UCR_PART</th>\n",
              "      <th>STREET</th>\n",
              "      <th>Lat</th>\n",
              "      <th>Long</th>\n",
              "      <th>Location</th>\n",
              "    </tr>\n",
              "  </thead>\n",
              "  <tbody>\n",
              "    <tr>\n",
              "      <th>5</th>\n",
              "      <td>Motor Vehicle Accident Response</td>\n",
              "      <td>M/V ACCIDENT INVOLVING PEDESTRIAN - INJURY</td>\n",
              "      <td>C11</td>\n",
              "      <td>398</td>\n",
              "      <td>N</td>\n",
              "      <td>2018-09-03 21:09:00</td>\n",
              "      <td>2018</td>\n",
              "      <td>9</td>\n",
              "      <td>Monday</td>\n",
              "      <td>21</td>\n",
              "      <td>Part Three</td>\n",
              "      <td>TALBOT AVE</td>\n",
              "      <td>42.290196</td>\n",
              "      <td>-71.071590</td>\n",
              "      <td>(42.29019621, -71.07159012)</td>\n",
              "    </tr>\n",
              "    <tr>\n",
              "      <th>21</th>\n",
              "      <td>Motor Vehicle Accident Response</td>\n",
              "      <td>M/V ACCIDENT - OTHER</td>\n",
              "      <td>A1</td>\n",
              "      <td>69</td>\n",
              "      <td>N</td>\n",
              "      <td>2018-09-03 18:30:00</td>\n",
              "      <td>2018</td>\n",
              "      <td>9</td>\n",
              "      <td>Monday</td>\n",
              "      <td>18</td>\n",
              "      <td>Part Three</td>\n",
              "      <td>BEACON ST</td>\n",
              "      <td>42.355644</td>\n",
              "      <td>-71.071681</td>\n",
              "      <td>(42.35564426, -71.07168077)</td>\n",
              "    </tr>\n",
              "    <tr>\n",
              "      <th>23</th>\n",
              "      <td>Motor Vehicle Accident Response</td>\n",
              "      <td>M/V ACCIDENT - PERSONAL INJURY</td>\n",
              "      <td>E5</td>\n",
              "      <td>550</td>\n",
              "      <td>N</td>\n",
              "      <td>2018-09-03 18:33:00</td>\n",
              "      <td>2018</td>\n",
              "      <td>9</td>\n",
              "      <td>Monday</td>\n",
              "      <td>18</td>\n",
              "      <td>Part Three</td>\n",
              "      <td>WASHINGTON ST</td>\n",
              "      <td>42.275818</td>\n",
              "      <td>-71.139913</td>\n",
              "      <td>(42.27581799, -71.13991259)</td>\n",
              "    </tr>\n",
              "    <tr>\n",
              "      <th>25</th>\n",
              "      <td>Motor Vehicle Accident Response</td>\n",
              "      <td>M/V - LEAVING SCENE - PROPERTY DAMAGE</td>\n",
              "      <td>NaN</td>\n",
              "      <td></td>\n",
              "      <td>N</td>\n",
              "      <td>2018-09-03 18:20:00</td>\n",
              "      <td>2018</td>\n",
              "      <td>9</td>\n",
              "      <td>Monday</td>\n",
              "      <td>18</td>\n",
              "      <td>Part Three</td>\n",
              "      <td>NaN</td>\n",
              "      <td>42.283593</td>\n",
              "      <td>-71.055657</td>\n",
              "      <td>(42.28359328, -71.05565683)</td>\n",
              "    </tr>\n",
              "    <tr>\n",
              "      <th>44</th>\n",
              "      <td>Motor Vehicle Accident Response</td>\n",
              "      <td>M/V ACCIDENT - PROPERTY AMAGE</td>\n",
              "      <td>C11</td>\n",
              "      <td>402</td>\n",
              "      <td>N</td>\n",
              "      <td>2018-09-03 15:34:00</td>\n",
              "      <td>2018</td>\n",
              "      <td>9</td>\n",
              "      <td>Monday</td>\n",
              "      <td>15</td>\n",
              "      <td>Part Three</td>\n",
              "      <td>WASHINGTON ST</td>\n",
              "      <td>42.284926</td>\n",
              "      <td>-71.071353</td>\n",
              "      <td>(42.28492596, -71.07135254)</td>\n",
              "    </tr>\n",
              "  </tbody>\n",
              "</table>\n",
              "</div>"
            ],
            "text/plain": [
              "                 OFFENSE_CODE_GROUP  ...                     Location\n",
              "5   Motor Vehicle Accident Response  ...  (42.29019621, -71.07159012)\n",
              "21  Motor Vehicle Accident Response  ...  (42.35564426, -71.07168077)\n",
              "23  Motor Vehicle Accident Response  ...  (42.27581799, -71.13991259)\n",
              "25  Motor Vehicle Accident Response  ...  (42.28359328, -71.05565683)\n",
              "44  Motor Vehicle Accident Response  ...  (42.28492596, -71.07135254)\n",
              "\n",
              "[5 rows x 15 columns]"
            ]
          },
          "metadata": {
            "tags": []
          },
          "execution_count": 535
        }
      ]
    },
    {
      "cell_type": "code",
      "metadata": {
        "id": "DVDj60-oQSlC",
        "colab_type": "code",
        "outputId": "4bc49592-79a4-4c61-c428-2e8f5acf5cbb",
        "colab": {
          "base_uri": "https://localhost:8080/",
          "height": 238
        }
      },
      "source": [
        "MotorVehicleAccidentResponse_data['DISTRICT'].value_counts()"
      ],
      "execution_count": 536,
      "outputs": [
        {
          "output_type": "execute_result",
          "data": {
            "text/plain": [
              "B2     6407\n",
              "C11    5305\n",
              "D4     3882\n",
              "B3     3836\n",
              "D14    2857\n",
              "A1     2847\n",
              "C6     2699\n",
              "E18    2366\n",
              "E13    2166\n",
              "E5     1813\n",
              "A7     1516\n",
              "A15     960\n",
              "Name: DISTRICT, dtype: int64"
            ]
          },
          "metadata": {
            "tags": []
          },
          "execution_count": 536
        }
      ]
    },
    {
      "cell_type": "code",
      "metadata": {
        "id": "d5H7iWLzQldi",
        "colab_type": "code",
        "colab": {}
      },
      "source": [
        "MotorVehicleAccidentResponse_B2 = MotorVehicleAccidentResponse_data.loc[MotorVehicleAccidentResponse_data['DISTRICT'] == 'B2']"
      ],
      "execution_count": 0,
      "outputs": []
    },
    {
      "cell_type": "code",
      "metadata": {
        "id": "30SY8d3eRoHW",
        "colab_type": "code",
        "outputId": "34fb086f-2666-4375-a608-d3d54dcba42c",
        "colab": {
          "base_uri": "https://localhost:8080/",
          "height": 289
        }
      },
      "source": [
        "MotorVehicleAccidentResponse_B2.head()"
      ],
      "execution_count": 538,
      "outputs": [
        {
          "output_type": "execute_result",
          "data": {
            "text/html": [
              "<div>\n",
              "<style scoped>\n",
              "    .dataframe tbody tr th:only-of-type {\n",
              "        vertical-align: middle;\n",
              "    }\n",
              "\n",
              "    .dataframe tbody tr th {\n",
              "        vertical-align: top;\n",
              "    }\n",
              "\n",
              "    .dataframe thead th {\n",
              "        text-align: right;\n",
              "    }\n",
              "</style>\n",
              "<table border=\"1\" class=\"dataframe\">\n",
              "  <thead>\n",
              "    <tr style=\"text-align: right;\">\n",
              "      <th></th>\n",
              "      <th>OFFENSE_CODE_GROUP</th>\n",
              "      <th>OFFENSE_DESCRIPTION</th>\n",
              "      <th>DISTRICT</th>\n",
              "      <th>REPORTING_AREA</th>\n",
              "      <th>SHOOTING</th>\n",
              "      <th>OCCURRED_ON_DATE</th>\n",
              "      <th>YEAR</th>\n",
              "      <th>MONTH</th>\n",
              "      <th>DAY_OF_WEEK</th>\n",
              "      <th>HOUR</th>\n",
              "      <th>UCR_PART</th>\n",
              "      <th>STREET</th>\n",
              "      <th>Lat</th>\n",
              "      <th>Long</th>\n",
              "      <th>Location</th>\n",
              "    </tr>\n",
              "  </thead>\n",
              "  <tbody>\n",
              "    <tr>\n",
              "      <th>46</th>\n",
              "      <td>Motor Vehicle Accident Response</td>\n",
              "      <td>M/V ACCIDENT - OTHER</td>\n",
              "      <td>B2</td>\n",
              "      <td>901</td>\n",
              "      <td>N</td>\n",
              "      <td>2018-09-03 15:00:00</td>\n",
              "      <td>2018</td>\n",
              "      <td>9</td>\n",
              "      <td>Monday</td>\n",
              "      <td>15</td>\n",
              "      <td>Part Three</td>\n",
              "      <td>WARD ST</td>\n",
              "      <td>42.335111</td>\n",
              "      <td>-71.095922</td>\n",
              "      <td>(42.33511145, -71.09592156)</td>\n",
              "    </tr>\n",
              "    <tr>\n",
              "      <th>64</th>\n",
              "      <td>Motor Vehicle Accident Response</td>\n",
              "      <td>M/V ACCIDENT - OTHER</td>\n",
              "      <td>B2</td>\n",
              "      <td>603</td>\n",
              "      <td>N</td>\n",
              "      <td>2018-09-03 15:29:00</td>\n",
              "      <td>2018</td>\n",
              "      <td>9</td>\n",
              "      <td>Monday</td>\n",
              "      <td>15</td>\n",
              "      <td>Part Three</td>\n",
              "      <td>TREMONT ST</td>\n",
              "      <td>42.333807</td>\n",
              "      <td>-71.103778</td>\n",
              "      <td>(42.33380683, -71.10377843)</td>\n",
              "    </tr>\n",
              "    <tr>\n",
              "      <th>115</th>\n",
              "      <td>Motor Vehicle Accident Response</td>\n",
              "      <td>M/V - LEAVING SCENE - PROPERTY DAMAGE</td>\n",
              "      <td>B2</td>\n",
              "      <td>605</td>\n",
              "      <td>N</td>\n",
              "      <td>2018-09-03 12:37:00</td>\n",
              "      <td>2018</td>\n",
              "      <td>9</td>\n",
              "      <td>Monday</td>\n",
              "      <td>12</td>\n",
              "      <td>Part Three</td>\n",
              "      <td>FISHER AVE</td>\n",
              "      <td>42.330610</td>\n",
              "      <td>-71.108536</td>\n",
              "      <td>(42.33061023, -71.10853621)</td>\n",
              "    </tr>\n",
              "    <tr>\n",
              "      <th>124</th>\n",
              "      <td>Motor Vehicle Accident Response</td>\n",
              "      <td>M/V - LEAVING SCENE - PROPERTY DAMAGE</td>\n",
              "      <td>B2</td>\n",
              "      <td>326</td>\n",
              "      <td>N</td>\n",
              "      <td>2018-09-02 19:30:00</td>\n",
              "      <td>2018</td>\n",
              "      <td>9</td>\n",
              "      <td>Sunday</td>\n",
              "      <td>19</td>\n",
              "      <td>Part Three</td>\n",
              "      <td>LAWRENCE AVE</td>\n",
              "      <td>42.311611</td>\n",
              "      <td>-71.076256</td>\n",
              "      <td>(42.31161123, -71.07625600)</td>\n",
              "    </tr>\n",
              "    <tr>\n",
              "      <th>244</th>\n",
              "      <td>Motor Vehicle Accident Response</td>\n",
              "      <td>M/V ACCIDENT - PERSONAL INJURY</td>\n",
              "      <td>B2</td>\n",
              "      <td>311</td>\n",
              "      <td>N</td>\n",
              "      <td>2018-09-02 20:32:00</td>\n",
              "      <td>2018</td>\n",
              "      <td>9</td>\n",
              "      <td>Sunday</td>\n",
              "      <td>20</td>\n",
              "      <td>Part Three</td>\n",
              "      <td>MARTIN LUTHER KING JR BLV</td>\n",
              "      <td>42.317916</td>\n",
              "      <td>-71.082156</td>\n",
              "      <td>(42.31791574, -71.08215630)</td>\n",
              "    </tr>\n",
              "  </tbody>\n",
              "</table>\n",
              "</div>"
            ],
            "text/plain": [
              "                  OFFENSE_CODE_GROUP  ...                     Location\n",
              "46   Motor Vehicle Accident Response  ...  (42.33511145, -71.09592156)\n",
              "64   Motor Vehicle Accident Response  ...  (42.33380683, -71.10377843)\n",
              "115  Motor Vehicle Accident Response  ...  (42.33061023, -71.10853621)\n",
              "124  Motor Vehicle Accident Response  ...  (42.31161123, -71.07625600)\n",
              "244  Motor Vehicle Accident Response  ...  (42.31791574, -71.08215630)\n",
              "\n",
              "[5 rows x 15 columns]"
            ]
          },
          "metadata": {
            "tags": []
          },
          "execution_count": 538
        }
      ]
    },
    {
      "cell_type": "code",
      "metadata": {
        "id": "RO0BWUUkZWst",
        "colab_type": "code",
        "outputId": "8a88c982-df8e-4292-b734-5910cf6e9d71",
        "colab": {
          "base_uri": "https://localhost:8080/",
          "height": 272
        }
      },
      "source": [
        " MotorVehicleAccidentResponse_B2[\"REPORTING_AREA\"].unique()"
      ],
      "execution_count": 539,
      "outputs": [
        {
          "output_type": "execute_result",
          "data": {
            "text/plain": [
              "array(['901', '603', '605', '326', '311', '266', '297', '318', '276',\n",
              "       '263', '288', '317', '180', '614', '313', '587', ' ', '329', '319',\n",
              "       '328', '304', '291', '600', '178', '280', '300', '315', '327',\n",
              "       '261', '181', '282', '268', '182', '316', '588', '267', '289',\n",
              "       '269', '314', '320', '259', '184', '566', '257', '330', '586',\n",
              "       '321', '292', '584', '237', '331', '258', '296', '287', '904',\n",
              "       '265', '262', '606', '323', '593', '238', '585', '309', '264',\n",
              "       '294', '601', '281', '324', '279', '305', '613', '295', '239',\n",
              "       '458', '293', '325', '611', '604', '298', '183', '567', '306',\n",
              "       '290', '302', '299', '278', '286', '308', '310', '602', '589',\n",
              "       '332', '911', '909', '333', '615', '260', '322', '307', '185',\n",
              "       '179', '301', '616', '592', '455', '920', '241', '124', '572',\n",
              "       '312', '612', '191', '240', '571', '424', '285', '527', '175',\n",
              "       '459', '26', '284', '568', '337', '29', '165', '465', '581', '582'],\n",
              "      dtype=object)"
            ]
          },
          "metadata": {
            "tags": []
          },
          "execution_count": 539
        }
      ]
    },
    {
      "cell_type": "code",
      "metadata": {
        "id": "UeOJg6ADRwbW",
        "colab_type": "code",
        "outputId": "e009fae5-6ee0-48b4-8171-54fd6f4eef5a",
        "colab": {
          "base_uri": "https://localhost:8080/",
          "height": 325
        }
      },
      "source": [
        "px.scatter(MotorVehicleAccidentResponse_B2.query('REPORTING_AREA == [\"901\"]'), \n",
        "           x=\"DAY_OF_WEEK\", y=\"HOUR\", color=\"DISTRICT\", trendline=\"ols\")"
      ],
      "execution_count": 540,
      "outputs": [
        {
          "output_type": "error",
          "ename": "ValueError",
          "evalue": "ignored",
          "traceback": [
            "\u001b[0;31m---------------------------------------------------------------------------\u001b[0m",
            "\u001b[0;31mValueError\u001b[0m                                Traceback (most recent call last)",
            "\u001b[0;32m<ipython-input-540-a1cde86cc177>\u001b[0m in \u001b[0;36m<module>\u001b[0;34m()\u001b[0m\n\u001b[1;32m      1\u001b[0m px.scatter(MotorVehicleAccidentResponse_B2.query('REPORTING_AREA == [\"901\"]'), \n\u001b[0;32m----> 2\u001b[0;31m            x=\"DAY_OF_WEEK\", y=\"HOUR\", color=\"DISTRICT\", trendline=\"ols\")\n\u001b[0m",
            "\u001b[0;32m/usr/local/lib/python3.6/dist-packages/plotly/express/_chart_types.py\u001b[0m in \u001b[0;36mscatter\u001b[0;34m(data_frame, x, y, color, symbol, size, hover_name, hover_data, text, facet_row, facet_col, error_x, error_x_minus, error_y, error_y_minus, animation_frame, animation_group, category_orders, labels, color_discrete_sequence, color_discrete_map, color_continuous_scale, range_color, color_continuous_midpoint, symbol_sequence, symbol_map, opacity, size_max, marginal_x, marginal_y, trendline, trendline_color_override, log_x, log_y, range_x, range_y, render_mode, title, template, width, height)\u001b[0m\n\u001b[1;32m     50\u001b[0m     \u001b[0mIn\u001b[0m \u001b[0ma\u001b[0m \u001b[0mscatter\u001b[0m \u001b[0mplot\u001b[0m\u001b[0;34m,\u001b[0m \u001b[0meach\u001b[0m \u001b[0mrow\u001b[0m \u001b[0mof\u001b[0m\u001b[0;31m \u001b[0m\u001b[0;31m`\u001b[0m\u001b[0mdata_frame\u001b[0m\u001b[0;31m`\u001b[0m \u001b[0;32mis\u001b[0m \u001b[0mrepresented\u001b[0m \u001b[0mby\u001b[0m \u001b[0ma\u001b[0m \u001b[0msymbol\u001b[0m \u001b[0mmark\u001b[0m \u001b[0;32min\u001b[0m \u001b[0;36m2\u001b[0m\u001b[0mD\u001b[0m \u001b[0mspace\u001b[0m\u001b[0;34m.\u001b[0m\u001b[0;34m\u001b[0m\u001b[0;34m\u001b[0m\u001b[0m\n\u001b[1;32m     51\u001b[0m     \"\"\"\n\u001b[0;32m---> 52\u001b[0;31m     \u001b[0;32mreturn\u001b[0m \u001b[0mmake_figure\u001b[0m\u001b[0;34m(\u001b[0m\u001b[0margs\u001b[0m\u001b[0;34m=\u001b[0m\u001b[0mlocals\u001b[0m\u001b[0;34m(\u001b[0m\u001b[0;34m)\u001b[0m\u001b[0;34m,\u001b[0m \u001b[0mconstructor\u001b[0m\u001b[0;34m=\u001b[0m\u001b[0mgo\u001b[0m\u001b[0;34m.\u001b[0m\u001b[0mScatter\u001b[0m\u001b[0;34m)\u001b[0m\u001b[0;34m\u001b[0m\u001b[0;34m\u001b[0m\u001b[0m\n\u001b[0m\u001b[1;32m     53\u001b[0m \u001b[0;34m\u001b[0m\u001b[0m\n\u001b[1;32m     54\u001b[0m \u001b[0;34m\u001b[0m\u001b[0m\n",
            "\u001b[0;32m/usr/local/lib/python3.6/dist-packages/plotly/express/_core.py\u001b[0m in \u001b[0;36mmake_figure\u001b[0;34m(args, constructor, trace_patch, layout_patch)\u001b[0m\n\u001b[1;32m    995\u001b[0m \u001b[0;34m\u001b[0m\u001b[0m\n\u001b[1;32m    996\u001b[0m             patch, fit_results = make_trace_kwargs(\n\u001b[0;32m--> 997\u001b[0;31m                 \u001b[0margs\u001b[0m\u001b[0;34m,\u001b[0m \u001b[0mtrace_spec\u001b[0m\u001b[0;34m,\u001b[0m \u001b[0mgroup\u001b[0m\u001b[0;34m,\u001b[0m \u001b[0mmapping_labels\u001b[0m\u001b[0;34m.\u001b[0m\u001b[0mcopy\u001b[0m\u001b[0;34m(\u001b[0m\u001b[0;34m)\u001b[0m\u001b[0;34m,\u001b[0m \u001b[0msizeref\u001b[0m\u001b[0;34m\u001b[0m\u001b[0;34m\u001b[0m\u001b[0m\n\u001b[0m\u001b[1;32m    998\u001b[0m             )\n\u001b[1;32m    999\u001b[0m             \u001b[0mtrace\u001b[0m\u001b[0;34m.\u001b[0m\u001b[0mupdate\u001b[0m\u001b[0;34m(\u001b[0m\u001b[0mpatch\u001b[0m\u001b[0;34m)\u001b[0m\u001b[0;34m\u001b[0m\u001b[0;34m\u001b[0m\u001b[0m\n",
            "\u001b[0;32m/usr/local/lib/python3.6/dist-packages/plotly/express/_core.py\u001b[0m in \u001b[0;36mmake_trace_kwargs\u001b[0;34m(args, trace_spec, g, mapping_labels, sizeref)\u001b[0m\n\u001b[1;32m    211\u001b[0m                         \u001b[0mhover_header\u001b[0m \u001b[0;34m=\u001b[0m \u001b[0;34m\"<b>LOWESS trendline</b><br><br>\"\u001b[0m\u001b[0;34m\u001b[0m\u001b[0;34m\u001b[0m\u001b[0m\n\u001b[1;32m    212\u001b[0m                     \u001b[0;32melif\u001b[0m \u001b[0mv\u001b[0m \u001b[0;34m==\u001b[0m \u001b[0;34m\"ols\"\u001b[0m\u001b[0;34m:\u001b[0m\u001b[0;34m\u001b[0m\u001b[0;34m\u001b[0m\u001b[0m\n\u001b[0;32m--> 213\u001b[0;31m                         \u001b[0mfit_results\u001b[0m \u001b[0;34m=\u001b[0m \u001b[0msm\u001b[0m\u001b[0;34m.\u001b[0m\u001b[0mOLS\u001b[0m\u001b[0;34m(\u001b[0m\u001b[0my\u001b[0m\u001b[0;34m,\u001b[0m \u001b[0msm\u001b[0m\u001b[0;34m.\u001b[0m\u001b[0madd_constant\u001b[0m\u001b[0;34m(\u001b[0m\u001b[0mx\u001b[0m\u001b[0;34m)\u001b[0m\u001b[0;34m)\u001b[0m\u001b[0;34m.\u001b[0m\u001b[0mfit\u001b[0m\u001b[0;34m(\u001b[0m\u001b[0;34m)\u001b[0m\u001b[0;34m\u001b[0m\u001b[0;34m\u001b[0m\u001b[0m\n\u001b[0m\u001b[1;32m    214\u001b[0m                         \u001b[0mresult\u001b[0m\u001b[0;34m[\u001b[0m\u001b[0;34m\"y\"\u001b[0m\u001b[0;34m]\u001b[0m \u001b[0;34m=\u001b[0m \u001b[0mfit_results\u001b[0m\u001b[0;34m.\u001b[0m\u001b[0mpredict\u001b[0m\u001b[0;34m(\u001b[0m\u001b[0;34m)\u001b[0m\u001b[0;34m\u001b[0m\u001b[0;34m\u001b[0m\u001b[0m\n\u001b[1;32m    215\u001b[0m                         \u001b[0mhover_header\u001b[0m \u001b[0;34m=\u001b[0m \u001b[0;34m\"<b>OLS trendline</b><br>\"\u001b[0m\u001b[0;34m\u001b[0m\u001b[0;34m\u001b[0m\u001b[0m\n",
            "\u001b[0;32m/usr/local/lib/python3.6/dist-packages/statsmodels/regression/linear_model.py\u001b[0m in \u001b[0;36m__init__\u001b[0;34m(self, endog, exog, missing, hasconst, **kwargs)\u001b[0m\n\u001b[1;32m    836\u001b[0m                  **kwargs):\n\u001b[1;32m    837\u001b[0m         super(OLS, self).__init__(endog, exog, missing=missing,\n\u001b[0;32m--> 838\u001b[0;31m                                   hasconst=hasconst, **kwargs)\n\u001b[0m\u001b[1;32m    839\u001b[0m         \u001b[0;32mif\u001b[0m \u001b[0;34m\"weights\"\u001b[0m \u001b[0;32min\u001b[0m \u001b[0mself\u001b[0m\u001b[0;34m.\u001b[0m\u001b[0m_init_keys\u001b[0m\u001b[0;34m:\u001b[0m\u001b[0;34m\u001b[0m\u001b[0;34m\u001b[0m\u001b[0m\n\u001b[1;32m    840\u001b[0m             \u001b[0mself\u001b[0m\u001b[0;34m.\u001b[0m\u001b[0m_init_keys\u001b[0m\u001b[0;34m.\u001b[0m\u001b[0mremove\u001b[0m\u001b[0;34m(\u001b[0m\u001b[0;34m\"weights\"\u001b[0m\u001b[0;34m)\u001b[0m\u001b[0;34m\u001b[0m\u001b[0;34m\u001b[0m\u001b[0m\n",
            "\u001b[0;32m/usr/local/lib/python3.6/dist-packages/statsmodels/regression/linear_model.py\u001b[0m in \u001b[0;36m__init__\u001b[0;34m(self, endog, exog, weights, missing, hasconst, **kwargs)\u001b[0m\n\u001b[1;32m    682\u001b[0m             \u001b[0mweights\u001b[0m \u001b[0;34m=\u001b[0m \u001b[0mweights\u001b[0m\u001b[0;34m.\u001b[0m\u001b[0msqueeze\u001b[0m\u001b[0;34m(\u001b[0m\u001b[0;34m)\u001b[0m\u001b[0;34m\u001b[0m\u001b[0;34m\u001b[0m\u001b[0m\n\u001b[1;32m    683\u001b[0m         super(WLS, self).__init__(endog, exog, missing=missing,\n\u001b[0;32m--> 684\u001b[0;31m                                   weights=weights, hasconst=hasconst, **kwargs)\n\u001b[0m\u001b[1;32m    685\u001b[0m         \u001b[0mnobs\u001b[0m \u001b[0;34m=\u001b[0m \u001b[0mself\u001b[0m\u001b[0;34m.\u001b[0m\u001b[0mexog\u001b[0m\u001b[0;34m.\u001b[0m\u001b[0mshape\u001b[0m\u001b[0;34m[\u001b[0m\u001b[0;36m0\u001b[0m\u001b[0;34m]\u001b[0m\u001b[0;34m\u001b[0m\u001b[0;34m\u001b[0m\u001b[0m\n\u001b[1;32m    686\u001b[0m         \u001b[0mweights\u001b[0m \u001b[0;34m=\u001b[0m \u001b[0mself\u001b[0m\u001b[0;34m.\u001b[0m\u001b[0mweights\u001b[0m\u001b[0;34m\u001b[0m\u001b[0;34m\u001b[0m\u001b[0m\n",
            "\u001b[0;32m/usr/local/lib/python3.6/dist-packages/statsmodels/regression/linear_model.py\u001b[0m in \u001b[0;36m__init__\u001b[0;34m(self, endog, exog, **kwargs)\u001b[0m\n\u001b[1;32m    194\u001b[0m     \"\"\"\n\u001b[1;32m    195\u001b[0m     \u001b[0;32mdef\u001b[0m \u001b[0m__init__\u001b[0m\u001b[0;34m(\u001b[0m\u001b[0mself\u001b[0m\u001b[0;34m,\u001b[0m \u001b[0mendog\u001b[0m\u001b[0;34m,\u001b[0m \u001b[0mexog\u001b[0m\u001b[0;34m,\u001b[0m \u001b[0;34m**\u001b[0m\u001b[0mkwargs\u001b[0m\u001b[0;34m)\u001b[0m\u001b[0;34m:\u001b[0m\u001b[0;34m\u001b[0m\u001b[0;34m\u001b[0m\u001b[0m\n\u001b[0;32m--> 196\u001b[0;31m         \u001b[0msuper\u001b[0m\u001b[0;34m(\u001b[0m\u001b[0mRegressionModel\u001b[0m\u001b[0;34m,\u001b[0m \u001b[0mself\u001b[0m\u001b[0;34m)\u001b[0m\u001b[0;34m.\u001b[0m\u001b[0m__init__\u001b[0m\u001b[0;34m(\u001b[0m\u001b[0mendog\u001b[0m\u001b[0;34m,\u001b[0m \u001b[0mexog\u001b[0m\u001b[0;34m,\u001b[0m \u001b[0;34m**\u001b[0m\u001b[0mkwargs\u001b[0m\u001b[0;34m)\u001b[0m\u001b[0;34m\u001b[0m\u001b[0;34m\u001b[0m\u001b[0m\n\u001b[0m\u001b[1;32m    197\u001b[0m         \u001b[0mself\u001b[0m\u001b[0;34m.\u001b[0m\u001b[0m_data_attr\u001b[0m\u001b[0;34m.\u001b[0m\u001b[0mextend\u001b[0m\u001b[0;34m(\u001b[0m\u001b[0;34m[\u001b[0m\u001b[0;34m'pinv_wexog'\u001b[0m\u001b[0;34m,\u001b[0m \u001b[0;34m'wendog'\u001b[0m\u001b[0;34m,\u001b[0m \u001b[0;34m'wexog'\u001b[0m\u001b[0;34m,\u001b[0m \u001b[0;34m'weights'\u001b[0m\u001b[0;34m]\u001b[0m\u001b[0;34m)\u001b[0m\u001b[0;34m\u001b[0m\u001b[0;34m\u001b[0m\u001b[0m\n\u001b[1;32m    198\u001b[0m \u001b[0;34m\u001b[0m\u001b[0m\n",
            "\u001b[0;32m/usr/local/lib/python3.6/dist-packages/statsmodels/base/model.py\u001b[0m in \u001b[0;36m__init__\u001b[0;34m(self, endog, exog, **kwargs)\u001b[0m\n\u001b[1;32m    214\u001b[0m \u001b[0;34m\u001b[0m\u001b[0m\n\u001b[1;32m    215\u001b[0m     \u001b[0;32mdef\u001b[0m \u001b[0m__init__\u001b[0m\u001b[0;34m(\u001b[0m\u001b[0mself\u001b[0m\u001b[0;34m,\u001b[0m \u001b[0mendog\u001b[0m\u001b[0;34m,\u001b[0m \u001b[0mexog\u001b[0m\u001b[0;34m=\u001b[0m\u001b[0;32mNone\u001b[0m\u001b[0;34m,\u001b[0m \u001b[0;34m**\u001b[0m\u001b[0mkwargs\u001b[0m\u001b[0;34m)\u001b[0m\u001b[0;34m:\u001b[0m\u001b[0;34m\u001b[0m\u001b[0;34m\u001b[0m\u001b[0m\n\u001b[0;32m--> 216\u001b[0;31m         \u001b[0msuper\u001b[0m\u001b[0;34m(\u001b[0m\u001b[0mLikelihoodModel\u001b[0m\u001b[0;34m,\u001b[0m \u001b[0mself\u001b[0m\u001b[0;34m)\u001b[0m\u001b[0;34m.\u001b[0m\u001b[0m__init__\u001b[0m\u001b[0;34m(\u001b[0m\u001b[0mendog\u001b[0m\u001b[0;34m,\u001b[0m \u001b[0mexog\u001b[0m\u001b[0;34m,\u001b[0m \u001b[0;34m**\u001b[0m\u001b[0mkwargs\u001b[0m\u001b[0;34m)\u001b[0m\u001b[0;34m\u001b[0m\u001b[0;34m\u001b[0m\u001b[0m\n\u001b[0m\u001b[1;32m    217\u001b[0m         \u001b[0mself\u001b[0m\u001b[0;34m.\u001b[0m\u001b[0minitialize\u001b[0m\u001b[0;34m(\u001b[0m\u001b[0;34m)\u001b[0m\u001b[0;34m\u001b[0m\u001b[0;34m\u001b[0m\u001b[0m\n\u001b[1;32m    218\u001b[0m \u001b[0;34m\u001b[0m\u001b[0m\n",
            "\u001b[0;32m/usr/local/lib/python3.6/dist-packages/statsmodels/base/model.py\u001b[0m in \u001b[0;36m__init__\u001b[0;34m(self, endog, exog, **kwargs)\u001b[0m\n\u001b[1;32m     66\u001b[0m         \u001b[0mhasconst\u001b[0m \u001b[0;34m=\u001b[0m \u001b[0mkwargs\u001b[0m\u001b[0;34m.\u001b[0m\u001b[0mpop\u001b[0m\u001b[0;34m(\u001b[0m\u001b[0;34m'hasconst'\u001b[0m\u001b[0;34m,\u001b[0m \u001b[0;32mNone\u001b[0m\u001b[0;34m)\u001b[0m\u001b[0;34m\u001b[0m\u001b[0;34m\u001b[0m\u001b[0m\n\u001b[1;32m     67\u001b[0m         self.data = self._handle_data(endog, exog, missing, hasconst,\n\u001b[0;32m---> 68\u001b[0;31m                                       **kwargs)\n\u001b[0m\u001b[1;32m     69\u001b[0m         \u001b[0mself\u001b[0m\u001b[0;34m.\u001b[0m\u001b[0mk_constant\u001b[0m \u001b[0;34m=\u001b[0m \u001b[0mself\u001b[0m\u001b[0;34m.\u001b[0m\u001b[0mdata\u001b[0m\u001b[0;34m.\u001b[0m\u001b[0mk_constant\u001b[0m\u001b[0;34m\u001b[0m\u001b[0;34m\u001b[0m\u001b[0m\n\u001b[1;32m     70\u001b[0m         \u001b[0mself\u001b[0m\u001b[0;34m.\u001b[0m\u001b[0mexog\u001b[0m \u001b[0;34m=\u001b[0m \u001b[0mself\u001b[0m\u001b[0;34m.\u001b[0m\u001b[0mdata\u001b[0m\u001b[0;34m.\u001b[0m\u001b[0mexog\u001b[0m\u001b[0;34m\u001b[0m\u001b[0;34m\u001b[0m\u001b[0m\n",
            "\u001b[0;32m/usr/local/lib/python3.6/dist-packages/statsmodels/base/model.py\u001b[0m in \u001b[0;36m_handle_data\u001b[0;34m(self, endog, exog, missing, hasconst, **kwargs)\u001b[0m\n\u001b[1;32m     89\u001b[0m \u001b[0;34m\u001b[0m\u001b[0m\n\u001b[1;32m     90\u001b[0m     \u001b[0;32mdef\u001b[0m \u001b[0m_handle_data\u001b[0m\u001b[0;34m(\u001b[0m\u001b[0mself\u001b[0m\u001b[0;34m,\u001b[0m \u001b[0mendog\u001b[0m\u001b[0;34m,\u001b[0m \u001b[0mexog\u001b[0m\u001b[0;34m,\u001b[0m \u001b[0mmissing\u001b[0m\u001b[0;34m,\u001b[0m \u001b[0mhasconst\u001b[0m\u001b[0;34m,\u001b[0m \u001b[0;34m**\u001b[0m\u001b[0mkwargs\u001b[0m\u001b[0;34m)\u001b[0m\u001b[0;34m:\u001b[0m\u001b[0;34m\u001b[0m\u001b[0;34m\u001b[0m\u001b[0m\n\u001b[0;32m---> 91\u001b[0;31m         \u001b[0mdata\u001b[0m \u001b[0;34m=\u001b[0m \u001b[0mhandle_data\u001b[0m\u001b[0;34m(\u001b[0m\u001b[0mendog\u001b[0m\u001b[0;34m,\u001b[0m \u001b[0mexog\u001b[0m\u001b[0;34m,\u001b[0m \u001b[0mmissing\u001b[0m\u001b[0;34m,\u001b[0m \u001b[0mhasconst\u001b[0m\u001b[0;34m,\u001b[0m \u001b[0;34m**\u001b[0m\u001b[0mkwargs\u001b[0m\u001b[0;34m)\u001b[0m\u001b[0;34m\u001b[0m\u001b[0;34m\u001b[0m\u001b[0m\n\u001b[0m\u001b[1;32m     92\u001b[0m         \u001b[0;31m# kwargs arrays could have changed, easier to just attach here\u001b[0m\u001b[0;34m\u001b[0m\u001b[0;34m\u001b[0m\u001b[0;34m\u001b[0m\u001b[0m\n\u001b[1;32m     93\u001b[0m         \u001b[0;32mfor\u001b[0m \u001b[0mkey\u001b[0m \u001b[0;32min\u001b[0m \u001b[0mkwargs\u001b[0m\u001b[0;34m:\u001b[0m\u001b[0;34m\u001b[0m\u001b[0;34m\u001b[0m\u001b[0m\n",
            "\u001b[0;32m/usr/local/lib/python3.6/dist-packages/statsmodels/base/data.py\u001b[0m in \u001b[0;36mhandle_data\u001b[0;34m(endog, exog, missing, hasconst, **kwargs)\u001b[0m\n\u001b[1;32m    633\u001b[0m     \u001b[0mklass\u001b[0m \u001b[0;34m=\u001b[0m \u001b[0mhandle_data_class_factory\u001b[0m\u001b[0;34m(\u001b[0m\u001b[0mendog\u001b[0m\u001b[0;34m,\u001b[0m \u001b[0mexog\u001b[0m\u001b[0;34m)\u001b[0m\u001b[0;34m\u001b[0m\u001b[0;34m\u001b[0m\u001b[0m\n\u001b[1;32m    634\u001b[0m     return klass(endog, exog=exog, missing=missing, hasconst=hasconst,\n\u001b[0;32m--> 635\u001b[0;31m                  **kwargs)\n\u001b[0m",
            "\u001b[0;32m/usr/local/lib/python3.6/dist-packages/statsmodels/base/data.py\u001b[0m in \u001b[0;36m__init__\u001b[0;34m(self, endog, exog, missing, hasconst, **kwargs)\u001b[0m\n\u001b[1;32m     74\u001b[0m             \u001b[0mself\u001b[0m\u001b[0;34m.\u001b[0m\u001b[0morig_endog\u001b[0m \u001b[0;34m=\u001b[0m \u001b[0mendog\u001b[0m\u001b[0;34m\u001b[0m\u001b[0;34m\u001b[0m\u001b[0m\n\u001b[1;32m     75\u001b[0m             \u001b[0mself\u001b[0m\u001b[0;34m.\u001b[0m\u001b[0morig_exog\u001b[0m \u001b[0;34m=\u001b[0m \u001b[0mexog\u001b[0m\u001b[0;34m\u001b[0m\u001b[0;34m\u001b[0m\u001b[0m\n\u001b[0;32m---> 76\u001b[0;31m             \u001b[0mself\u001b[0m\u001b[0;34m.\u001b[0m\u001b[0mendog\u001b[0m\u001b[0;34m,\u001b[0m \u001b[0mself\u001b[0m\u001b[0;34m.\u001b[0m\u001b[0mexog\u001b[0m \u001b[0;34m=\u001b[0m \u001b[0mself\u001b[0m\u001b[0;34m.\u001b[0m\u001b[0m_convert_endog_exog\u001b[0m\u001b[0;34m(\u001b[0m\u001b[0mendog\u001b[0m\u001b[0;34m,\u001b[0m \u001b[0mexog\u001b[0m\u001b[0;34m)\u001b[0m\u001b[0;34m\u001b[0m\u001b[0;34m\u001b[0m\u001b[0m\n\u001b[0m\u001b[1;32m     77\u001b[0m \u001b[0;34m\u001b[0m\u001b[0m\n\u001b[1;32m     78\u001b[0m         \u001b[0mself\u001b[0m\u001b[0;34m.\u001b[0m\u001b[0mconst_idx\u001b[0m \u001b[0;34m=\u001b[0m \u001b[0;32mNone\u001b[0m\u001b[0;34m\u001b[0m\u001b[0;34m\u001b[0m\u001b[0m\n",
            "\u001b[0;32m/usr/local/lib/python3.6/dist-packages/statsmodels/base/data.py\u001b[0m in \u001b[0;36m_convert_endog_exog\u001b[0;34m(self, endog, exog)\u001b[0m\n\u001b[1;32m    473\u001b[0m         \u001b[0mexog\u001b[0m \u001b[0;34m=\u001b[0m \u001b[0mexog\u001b[0m \u001b[0;32mif\u001b[0m \u001b[0mexog\u001b[0m \u001b[0;32mis\u001b[0m \u001b[0;32mNone\u001b[0m \u001b[0;32melse\u001b[0m \u001b[0mnp\u001b[0m\u001b[0;34m.\u001b[0m\u001b[0masarray\u001b[0m\u001b[0;34m(\u001b[0m\u001b[0mexog\u001b[0m\u001b[0;34m)\u001b[0m\u001b[0;34m\u001b[0m\u001b[0;34m\u001b[0m\u001b[0m\n\u001b[1;32m    474\u001b[0m         \u001b[0;32mif\u001b[0m \u001b[0mendog\u001b[0m\u001b[0;34m.\u001b[0m\u001b[0mdtype\u001b[0m \u001b[0;34m==\u001b[0m \u001b[0mobject\u001b[0m \u001b[0;32mor\u001b[0m \u001b[0mexog\u001b[0m \u001b[0;32mis\u001b[0m \u001b[0;32mnot\u001b[0m \u001b[0;32mNone\u001b[0m \u001b[0;32mand\u001b[0m \u001b[0mexog\u001b[0m\u001b[0;34m.\u001b[0m\u001b[0mdtype\u001b[0m \u001b[0;34m==\u001b[0m \u001b[0mobject\u001b[0m\u001b[0;34m:\u001b[0m\u001b[0;34m\u001b[0m\u001b[0;34m\u001b[0m\u001b[0m\n\u001b[0;32m--> 475\u001b[0;31m             raise ValueError(\"Pandas data cast to numpy dtype of object. \"\n\u001b[0m\u001b[1;32m    476\u001b[0m                              \"Check input data with np.asarray(data).\")\n\u001b[1;32m    477\u001b[0m         \u001b[0;32mreturn\u001b[0m \u001b[0msuper\u001b[0m\u001b[0;34m(\u001b[0m\u001b[0mPandasData\u001b[0m\u001b[0;34m,\u001b[0m \u001b[0mself\u001b[0m\u001b[0;34m)\u001b[0m\u001b[0;34m.\u001b[0m\u001b[0m_convert_endog_exog\u001b[0m\u001b[0;34m(\u001b[0m\u001b[0mendog\u001b[0m\u001b[0;34m,\u001b[0m \u001b[0mexog\u001b[0m\u001b[0;34m)\u001b[0m\u001b[0;34m\u001b[0m\u001b[0;34m\u001b[0m\u001b[0m\n",
            "\u001b[0;31mValueError\u001b[0m: Pandas data cast to numpy dtype of object. Check input data with np.asarray(data)."
          ]
        }
      ]
    },
    {
      "cell_type": "markdown",
      "metadata": {
        "id": "_mjUKyskffcW",
        "colab_type": "text"
      },
      "source": [
        "# Evaluation\n",
        "1.\tCleaning data is important for data analytics, and it includes lots of work to minimize the noise from unstructured data. First, some useless columns like OFFENSE_CODE and INCIDENT_NUMBER are the same as OFFENSE_CODE_GROUP. These columns is deleted in this step. \n",
        "Second, the report eliminates the missing values in SHOOTING column, but it does not delete or gives any values for missing values in other columns. The given value for missing values is not friendly to raise the quality of results from DISTRICT, STREET, Lat, Long and UCR_PART columns. Each row contains much information with less numeric, so the report does not give any values or delete missing values or delete rows.\n",
        "Final, anomalies occur in Lat and Long column brings extreme value to decrease the quality of data. It has deleted for quality maintenance.\n",
        "\n",
        "2.\tWhat kinds of crimes are most common?\n",
        "The major crime is easy to define from the data of OFFENSE_CODE_GROUP. It has no issue here. Using the simple bar chart shows that motor vehicle accident response is a common crime in Boston.\n",
        "\n",
        "3.\tWhen is the crime usually happen?\n",
        "First, using the histogram with the condition of HOUR from crime data shows two groups that the low and high peaks are from 3 to 5 and 16 -18, respectively. In the first group has a low number of crimes, which might present most people sleep at the time. Another group presents the night time, and most people are activity, which has a high activity of crimes. \n",
        "Second, after the result of HOUR the study checks the DAY which has a significant number of crimes. The answer is Friday, which could present high activity and high risk to induce the crime.\n",
        "Third, the study goes further to the MONTH. The result indicates that the crime happens in the summer vacation from July to August, which means the point is similar to the result above.\n",
        "In sum, the combination of results above shows that serious crime happens at a specific time in Bonton approximately.\n",
        "\n",
        "4.\tWhere did the crime occur?\n",
        "The data barely shows the area that the crime occurred. The problem here is using DISTRICT performs each total crime in each area, but it still can point out a specific crime in a specific area. Also, the study tries to combine the result to the real map; somehow, the code implemented correctly without showing the combined map.\n",
        "\n",
        "5.\tAfter finding out the frequency of the crime, and does its frequency changed over a day, week, or month in a specific district?\n",
        "First, the step identifies all unique values in each row. According to the data shown above, Motor vehicle accident response is a major crime in Boston. The number of crimes in the B2 district is more significant than in other districts. Second, the B2 district combines time and day to check the trend in different period. Final, the problem occurred about the trend graph can not run correctly.\n"
      ]
    },
    {
      "cell_type": "markdown",
      "metadata": {
        "id": "qwFfetyTfi46",
        "colab_type": "text"
      },
      "source": [
        "# Conclusion\n",
        "According to the results and problems above, there are few ways to improve the resulting quality and correcting coding in further study in ML in Python.\n",
        "First, the code of the algorithm is serious problem for a beginner in this study. The principle and basic operation are not understood well, which occur the wrong process in the algorithm.\n",
        "Second, even though the time, day, month and location of total crime can define in the study, the sign of a specific crime with conditions above can not be done in the paper.\n",
        "Third, the paper turns the DAY_OF_WEEK to binary data, but the difficult part is the setting training data and data model. Different characters need to turn to the right character, then the process of random forest model can access to the result.\n",
        "Final, there are several ways to improve the operation. One is choosing iris data that can practice on data models like random forest easily. The second one is acquiring the knowledge of turning the character between different characters. The last one is practicing useful algorithms for any problems in data mining.\n"
      ]
    },
    {
      "cell_type": "markdown",
      "metadata": {
        "id": "9gjXi9eyfp5E",
        "colab_type": "text"
      },
      "source": [
        "# Ethical\n",
        "Base on the duty-based ethics tells that do the right thing even it produces more harm than doing wrong thing. In the criminal record system, it produces the result of crime with the time and the location that can help the police to arrest the criminal. The ethical problem is going to discuss if the data direct to the wrong person. When analysts clean the maximum of noise in the data, which analyzes the crime usually happens in a specific location at a specific time. The result combines the target group of people who often appear in the area and at the time. The crime happens, and police arrest a suspect according to the prediction. However, the suspect does not offend with no evidence to prove himself, and he is still prosecuted by the crime. The tricky thing is that the analyst does the right thing to prevent the rate of crime in the city, and somehow, it may occur the wrong thing in Individuals. Will people think about the total crime reduce by the prediction or the wrong denunciation on the wrong person? Following the rules of the duty-based ethics about do the right thing is the right way, and analysts keep on the prediction of the crime.\n"
      ]
    },
    {
      "cell_type": "markdown",
      "metadata": {
        "id": "vmxAjMd77aa9",
        "colab_type": "text"
      },
      "source": [
        "# Problems"
      ]
    },
    {
      "cell_type": "code",
      "metadata": {
        "id": "rAtfYfVDSbrl",
        "colab_type": "code",
        "colab": {}
      },
      "source": [
        "# Create basic Folium crime map\n",
        "crime_heatmap = folium.Map(location=[42.3125,-71.0875], \n",
        "                       tiles = \"OpenStreetMap\",\n",
        "                      zoom_start = 11)\n",
        "\n",
        "# Add data for heatmp \n",
        "data_heatmap = df3[df3.YEAR == 2017]\n",
        "data_heatmap = df3[['Lat','Long']]\n",
        "data_heatmap = df3.dropna(axis=0, subset=['Lat','Long'])\n",
        "data_heatmap = [[row['Lat'],row['Long']] for index, row in data_heatmap.iterrows()]\n",
        "HeatMap(data_heatmap, radius=10).add_to(crime_heatmap)\n",
        "\n",
        "# Plot\n",
        "crime_heatmap"
      ],
      "execution_count": 0,
      "outputs": []
    },
    {
      "cell_type": "code",
      "metadata": {
        "id": "Y5oXTUq95Msy",
        "colab_type": "code",
        "colab": {}
      },
      "source": [
        "# Create basic Folium crime map\n",
        "crime_map = folium.Map(location=[42.3125,-71.0875], \n",
        "                       tiles = \"Stamen Toner\",\n",
        "                      zoom_start = 11)\n",
        "\n",
        "# Add data for heatmp \n",
        "data_heatmap = df3[df3.YEAR == 2016]\n",
        "data_heatmap = df3[['Lat','Long']]\n",
        "data_heatmap = df3.dropna(axis=0, subset=['Lat','Long'])\n",
        "data_heatmap = [[row['Lat'],row['Long']] for index, row in data_heatmap.iterrows()]\n",
        "HeatMap(data_heatmap, radius=10).add_to(crime_map)\n",
        "\n",
        "# Plot!\n",
        "crime_map"
      ],
      "execution_count": 0,
      "outputs": []
    },
    {
      "cell_type": "code",
      "metadata": {
        "id": "qZMSpgd0JHdF",
        "colab_type": "code",
        "colab": {}
      },
      "source": [
        "DAY_OF_WEEK = pd.get_dummies(df3['DAY_OF_WEEK'])\n",
        "print(DAY_OF_WEEK)"
      ],
      "execution_count": 0,
      "outputs": []
    },
    {
      "cell_type": "code",
      "metadata": {
        "id": "u-zy2tBzb-DK",
        "colab_type": "code",
        "colab": {}
      },
      "source": [
        "#Use numpy to convert to arrays\n",
        "import numpy as np\n",
        "\n",
        "# Labels are the values we want to predict\n",
        "labels = np.array(df3['Lat'])\n",
        "\n",
        "# Remove the labels from the features\n",
        "# axis 1 refers to the columns\n",
        "features= df3.drop('Lat', axis = 1)\n",
        "# Saving feature names for later use\n",
        "feature_list = list(features.columns)\n",
        "# Convert to numpy array\n",
        "features = np.array(features)"
      ],
      "execution_count": 0,
      "outputs": []
    },
    {
      "cell_type": "code",
      "metadata": {
        "id": "6DwzHmIPdkE8",
        "colab_type": "code",
        "colab": {}
      },
      "source": [
        "# Using Skicit-learn to split data into training and testing sets\n",
        "from sklearn.model_selection import train_test_split\n",
        "# Split the data into training and testing sets\n",
        "train_features, test_features, train_labels, test_labels = train_test_split(features, labels, test_size = 0.25, random_state = 42)"
      ],
      "execution_count": 0,
      "outputs": []
    },
    {
      "cell_type": "code",
      "metadata": {
        "id": "2GlpjCeEdmPF",
        "colab_type": "code",
        "colab": {}
      },
      "source": [
        "print('Training Features Shape:', train_features.shape)\n",
        "print('Training Labels Shape:', train_labels.shape)\n",
        "print('Testing Features Shape:', test_features.shape)\n",
        "print('Testing Labels Shape:', test_labels.shape)"
      ],
      "execution_count": 0,
      "outputs": []
    },
    {
      "cell_type": "code",
      "metadata": {
        "id": "SNBAGWMjeG-9",
        "colab_type": "code",
        "colab": {}
      },
      "source": [
        "# Import the model we are using\n",
        "from sklearn.ensemble import RandomForestRegressor\n",
        "# Instantiate model with 1000 decision trees\n",
        "rf = RandomForestRegressor(n_estimators = 100, random_state = 42)\n",
        "# Train the model on training data\n",
        "rf.fit(train_features, train_labels);"
      ],
      "execution_count": 0,
      "outputs": []
    }
  ]
}