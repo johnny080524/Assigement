{
  "nbformat": 4,
  "nbformat_minor": 0,
  "metadata": {
    "colab": {
      "name": "Machine Learning Spring 32513 - A2 ShenChuan Lin.ipynb",
      "provenance": [],
      "collapsed_sections": [],
      "toc_visible": true,
      "include_colab_link": true
    },
    "kernelspec": {
      "name": "python3",
      "display_name": "Python 3"
    },
    "accelerator": "GPU"
  },
  "cells": [
    {
      "cell_type": "markdown",
      "metadata": {
        "id": "view-in-github",
        "colab_type": "text"
      },
      "source": [
        "<a href=\"https://colab.research.google.com/github/johnny080524/Assigement/blob/master/Machine_Learning_Spring_32513_A2_ShenChuan_Lin.ipynb\" target=\"_parent\"><img src=\"https://colab.research.google.com/assets/colab-badge.svg\" alt=\"Open In Colab\"/></a>"
      ]
    },
    {
      "cell_type": "markdown",
      "metadata": {
        "id": "EIuyIBZVakH-",
        "colab_type": "text"
      },
      "source": [
        "Machine Learning Spring 32513\n",
        "13432772\n",
        "SHEN-CHUAN LIN\n",
        "\n",
        "\n",
        "\n",
        "# Introduction\n",
        "The report uses the dataset which is crime incident reports are provided by the Boston Police Department. The data is collected by the crime incident report system which recorded the type of incident and where and when did incidents happen. The problems the article wants to analyze shows below:\n",
        "1.\tWhat kinds of crimes are most common?\n",
        "2.\tWhere did the crime happen?\n",
        "3.\tWhen did the crime occur?\n",
        "4.\tAfter finding out the frequency of the crime, and does its frequency changed over a day, week, or month?\n",
        "\n",
        "The first question defines the majority type of crimes, which can figure out the reason for the crime. The second question, the location detail helps police to predict the next crimes might happen in the place that has been secured to prevent the crime. The third question, the time data illustrates that the maximum probability in the specific time range the crime might happen. The accurate time increases the probability of prediction that raises the efficiency of crime prevention. The result from the question above demonstrates what, where, and when the crime occurred that the accurate estimation of the location might have the highest chance for the crime happened. However, the crime rate could change by the time, which has a high peak and a low peak in a year. The last question aims to analyze the peak of the crime to enhance the efficiency of crime prevention for the Boston Police Department.\n",
        "\n",
        "\n",
        "\n"
      ]
    },
    {
      "cell_type": "markdown",
      "metadata": {
        "id": "EYQgPupwc3IO",
        "colab_type": "text"
      },
      "source": [
        "# Exploration\n",
        "At the beginning of the data exploration, there are over 50 types of crimes have recorded in the document, which makes estimation difficultly. Thus, the report will not analyze those small amounts of data and focus on major crimes. Using the filter to select crimes that meet our requirement. The data plan and data model are listed below.\n",
        "\n",
        "•\tChecking missing values\n",
        "This step is checking the missing value in each column delete the value to minimize the effect from noise data. The missing value has marked as a nan that improves errors and accuracy.\n",
        "\n",
        "•\tChecking anomalies\n",
        "Anomalies have occurred in columns that drop the quality of data. It has removed from the data to improve quality.\n",
        "\n",
        "•\tRemove duplicates\n",
        "Duplicates have found out in INCIDENT_NUMBER column that one number has multiple records. Applying the column that associates with other data might decrease accuracy. The report drops INCIDIENT_NUMBER and OFFENSE_CODE because these two columns can replace by OFFENSE_CODE_GROUP. \n",
        "\n",
        "•\tData preparation\n",
        "The step is going to turn the character into numerical values. DATE_OF_WEEK and UCR_PART are turned in to numerical values. Each row would have only one true value in columns. If the data point is a Monday in DATE_OF_WEEK and other data point is a part one in UCR_PART, then there will have a 1 in the Monday and part one columns and a 0 in all other columns.\n",
        "\n",
        "•\tTraining and Testing set\n",
        "It is a final step of data preparation. The dataset is split into training and test data. The data will randomly split into those datasets above to get a representation of all data points.\n",
        "\n",
        "•\tTrain Model\n",
        "The model the report chose to create and train is the random forest model. The process of the step can be provided from Scikit-learn.\n",
        "\n",
        "•\tDetermine the performance metric\n",
        "Calculating the accuracy from the result of random forest makes sure the quality of data that has prepared is in good condition.\n",
        "\n"
      ]
    },
    {
      "cell_type": "markdown",
      "metadata": {
        "id": "tNRfx8aIHB4O",
        "colab_type": "text"
      },
      "source": [
        "# Methodology\n",
        "\n",
        "\n",
        "# 1.   Import dataset from google drive - Crime in Boston\n",
        "\n",
        "\n"
      ]
    },
    {
      "cell_type": "code",
      "metadata": {
        "id": "2SH7974rH-sF",
        "colab_type": "code",
        "outputId": "24e0965b-537c-4ca9-bf98-5167cb6ebc82",
        "colab": {
          "base_uri": "https://localhost:8080/",
          "height": 238
        }
      },
      "source": [
        "!pip install pydrive"
      ],
      "execution_count": 1,
      "outputs": [
        {
          "output_type": "stream",
          "text": [
            "Requirement already satisfied: pydrive in /usr/local/lib/python3.6/dist-packages (1.3.1)\n",
            "Requirement already satisfied: oauth2client>=4.0.0 in /usr/local/lib/python3.6/dist-packages (from pydrive) (4.1.3)\n",
            "Requirement already satisfied: google-api-python-client>=1.2 in /usr/local/lib/python3.6/dist-packages (from pydrive) (1.7.11)\n",
            "Requirement already satisfied: PyYAML>=3.0 in /usr/local/lib/python3.6/dist-packages (from pydrive) (3.13)\n",
            "Requirement already satisfied: six>=1.6.1 in /usr/local/lib/python3.6/dist-packages (from oauth2client>=4.0.0->pydrive) (1.12.0)\n",
            "Requirement already satisfied: pyasn1-modules>=0.0.5 in /usr/local/lib/python3.6/dist-packages (from oauth2client>=4.0.0->pydrive) (0.2.6)\n",
            "Requirement already satisfied: httplib2>=0.9.1 in /usr/local/lib/python3.6/dist-packages (from oauth2client>=4.0.0->pydrive) (0.11.3)\n",
            "Requirement already satisfied: rsa>=3.1.4 in /usr/local/lib/python3.6/dist-packages (from oauth2client>=4.0.0->pydrive) (4.0)\n",
            "Requirement already satisfied: pyasn1>=0.1.7 in /usr/local/lib/python3.6/dist-packages (from oauth2client>=4.0.0->pydrive) (0.4.7)\n",
            "Requirement already satisfied: google-auth-httplib2>=0.0.3 in /usr/local/lib/python3.6/dist-packages (from google-api-python-client>=1.2->pydrive) (0.0.3)\n",
            "Requirement already satisfied: uritemplate<4dev,>=3.0.0 in /usr/local/lib/python3.6/dist-packages (from google-api-python-client>=1.2->pydrive) (3.0.0)\n",
            "Requirement already satisfied: google-auth>=1.4.1 in /usr/local/lib/python3.6/dist-packages (from google-api-python-client>=1.2->pydrive) (1.4.2)\n",
            "Requirement already satisfied: cachetools>=2.0.0 in /usr/local/lib/python3.6/dist-packages (from google-auth>=1.4.1->google-api-python-client>=1.2->pydrive) (3.1.1)\n"
          ],
          "name": "stdout"
        }
      ]
    },
    {
      "cell_type": "code",
      "metadata": {
        "id": "p1HX7xLnIDM6",
        "colab_type": "code",
        "colab": {}
      },
      "source": [
        "import pandas as pd\n",
        "import numpy as np\n",
        "import matplotlib as plt\n",
        "%matplotlib inline \n",
        "import seaborn as sns\n",
        "import folium\n",
        "from folium.plugins import HeatMap\n",
        "import matplotlib.pyplot as plt\n",
        "import plotly.express as px\n",
        "import plotly.graph_objects as go\n",
        "import xarray as xr  \n",
        "COLAB = True\n"
      ],
      "execution_count": 0,
      "outputs": []
    },
    {
      "cell_type": "code",
      "metadata": {
        "id": "IjvYjFbrMmcN",
        "colab_type": "code",
        "outputId": "a95ffb9b-a812-4ee7-d295-d7734075e66d",
        "colab": {
          "base_uri": "https://localhost:8080/",
          "height": 170
        }
      },
      "source": [
        "try:\n",
        "    import netCDF4\n",
        "except:\n",
        "    !pip install netcdf4\n",
        "import xarray as xr    "
      ],
      "execution_count": 3,
      "outputs": [
        {
          "output_type": "stream",
          "text": [
            "Collecting netcdf4\n",
            "\u001b[?25l  Downloading https://files.pythonhosted.org/packages/e4/bd/689b5f9194a47240dad6cd1fd5854ab5253a7702b3bfcf4f5132db8344c8/netCDF4-1.5.2-cp36-cp36m-manylinux1_x86_64.whl (4.1MB)\n",
            "\u001b[K     |████████████████████████████████| 4.1MB 43kB/s \n",
            "\u001b[?25hRequirement already satisfied: numpy>=1.7 in /usr/local/lib/python3.6/dist-packages (from netcdf4) (1.16.5)\n",
            "Collecting cftime (from netcdf4)\n",
            "\u001b[?25l  Downloading https://files.pythonhosted.org/packages/70/64/8ceadda42af3c1b27ee77005807e38c6d77baef28a8f9216b60577fddd71/cftime-1.0.3.4-cp36-cp36m-manylinux1_x86_64.whl (305kB)\n",
            "\u001b[K     |████████████████████████████████| 307kB 41.4MB/s \n",
            "\u001b[?25hInstalling collected packages: cftime, netcdf4\n",
            "Successfully installed cftime-1.0.3.4 netcdf4-1.5.2\n"
          ],
          "name": "stdout"
        }
      ]
    },
    {
      "cell_type": "code",
      "metadata": {
        "id": "OI2kDKggI2Se",
        "colab_type": "code",
        "colab": {}
      },
      "source": [
        "# Code to read csv file into Colaboratory:\n",
        "!pip install -U -q PyDrive\n",
        "from pydrive.auth import GoogleAuth\n",
        "from pydrive.drive import GoogleDrive\n",
        "from google.colab import auth\n",
        "from oauth2client.client import GoogleCredentials\n",
        "# Authenticate and create the PyDrive client.\n",
        "auth.authenticate_user()\n",
        "gauth = GoogleAuth()\n",
        "gauth.credentials = GoogleCredentials.get_application_default()\n",
        "drive = GoogleDrive(gauth)"
      ],
      "execution_count": 0,
      "outputs": []
    },
    {
      "cell_type": "code",
      "metadata": {
        "id": "-F2LOmW5I6XZ",
        "colab_type": "code",
        "outputId": "9a2e7457-a105-4195-9c19-10a87460d6dd",
        "colab": {
          "base_uri": "https://localhost:8080/",
          "height": 34
        }
      },
      "source": [
        "link = 'https://drive.google.com/open?id=1HRH-z_4LysGI85MuCIGQySOtChx2_VuS' \n",
        "# The shareable link\n",
        "fluff, id = link.split('=')\n",
        "print (id) \n",
        "# Verify that you have everything after '='"
      ],
      "execution_count": 5,
      "outputs": [
        {
          "output_type": "stream",
          "text": [
            "1HRH-z_4LysGI85MuCIGQySOtChx2_VuS\n"
          ],
          "name": "stdout"
        }
      ]
    },
    {
      "cell_type": "markdown",
      "metadata": {
        "id": "x_lFNLutHxhM",
        "colab_type": "text"
      },
      "source": [
        "# 2.   Data cleaning"
      ]
    },
    {
      "cell_type": "code",
      "metadata": {
        "id": "YSXws0vEJHbp",
        "colab_type": "code",
        "outputId": "f236e1a0-c396-4511-84ec-25fc3e23408d",
        "colab": {
          "base_uri": "https://localhost:8080/",
          "height": 583
        }
      },
      "source": [
        "downloaded = drive.CreateFile({'id':id}) \n",
        "downloaded.GetContentFile('crime1.csv')  \n",
        "df3 = pd.read_csv('crime1.csv')\n",
        "# Dataset is now stored in a Pandas Dataframe\n",
        "df3.head(10)"
      ],
      "execution_count": 6,
      "outputs": [
        {
          "output_type": "execute_result",
          "data": {
            "text/html": [
              "<div>\n",
              "<style scoped>\n",
              "    .dataframe tbody tr th:only-of-type {\n",
              "        vertical-align: middle;\n",
              "    }\n",
              "\n",
              "    .dataframe tbody tr th {\n",
              "        vertical-align: top;\n",
              "    }\n",
              "\n",
              "    .dataframe thead th {\n",
              "        text-align: right;\n",
              "    }\n",
              "</style>\n",
              "<table border=\"1\" class=\"dataframe\">\n",
              "  <thead>\n",
              "    <tr style=\"text-align: right;\">\n",
              "      <th></th>\n",
              "      <th>INCIDENT_NUMBER</th>\n",
              "      <th>OFFENSE_CODE</th>\n",
              "      <th>OFFENSE_CODE_GROUP</th>\n",
              "      <th>OFFENSE_DESCRIPTION</th>\n",
              "      <th>DISTRICT</th>\n",
              "      <th>REPORTING_AREA</th>\n",
              "      <th>SHOOTING</th>\n",
              "      <th>OCCURRED_ON_DATE</th>\n",
              "      <th>YEAR</th>\n",
              "      <th>MONTH</th>\n",
              "      <th>DAY_OF_WEEK</th>\n",
              "      <th>HOUR</th>\n",
              "      <th>UCR_PART</th>\n",
              "      <th>STREET</th>\n",
              "      <th>Lat</th>\n",
              "      <th>Long</th>\n",
              "      <th>Location</th>\n",
              "    </tr>\n",
              "  </thead>\n",
              "  <tbody>\n",
              "    <tr>\n",
              "      <th>0</th>\n",
              "      <td>I182070945</td>\n",
              "      <td>619</td>\n",
              "      <td>Larceny</td>\n",
              "      <td>LARCENY ALL OTHERS</td>\n",
              "      <td>D14</td>\n",
              "      <td>808</td>\n",
              "      <td>NaN</td>\n",
              "      <td>2018/9/2 13:00</td>\n",
              "      <td>2018</td>\n",
              "      <td>9</td>\n",
              "      <td>Sunday</td>\n",
              "      <td>13</td>\n",
              "      <td>Part One</td>\n",
              "      <td>LINCOLN ST</td>\n",
              "      <td>42.357791</td>\n",
              "      <td>-71.139371</td>\n",
              "      <td>(42.35779134, -71.13937053)</td>\n",
              "    </tr>\n",
              "    <tr>\n",
              "      <th>1</th>\n",
              "      <td>I182070943</td>\n",
              "      <td>1402</td>\n",
              "      <td>Vandalism</td>\n",
              "      <td>VANDALISM</td>\n",
              "      <td>C11</td>\n",
              "      <td>347</td>\n",
              "      <td>NaN</td>\n",
              "      <td>2018/8/21 00:00</td>\n",
              "      <td>2018</td>\n",
              "      <td>8</td>\n",
              "      <td>Tuesday</td>\n",
              "      <td>0</td>\n",
              "      <td>Part Two</td>\n",
              "      <td>HECLA ST</td>\n",
              "      <td>42.306821</td>\n",
              "      <td>-71.060300</td>\n",
              "      <td>(42.30682138, -71.06030035)</td>\n",
              "    </tr>\n",
              "    <tr>\n",
              "      <th>2</th>\n",
              "      <td>I182070941</td>\n",
              "      <td>3410</td>\n",
              "      <td>Towed</td>\n",
              "      <td>TOWED MOTOR VEHICLE</td>\n",
              "      <td>D4</td>\n",
              "      <td>151</td>\n",
              "      <td>NaN</td>\n",
              "      <td>2018/9/3 19:27</td>\n",
              "      <td>2018</td>\n",
              "      <td>9</td>\n",
              "      <td>Monday</td>\n",
              "      <td>19</td>\n",
              "      <td>Part Three</td>\n",
              "      <td>CAZENOVE ST</td>\n",
              "      <td>42.346589</td>\n",
              "      <td>-71.072429</td>\n",
              "      <td>(42.34658879, -71.07242943)</td>\n",
              "    </tr>\n",
              "    <tr>\n",
              "      <th>3</th>\n",
              "      <td>I182070940</td>\n",
              "      <td>3114</td>\n",
              "      <td>Investigate Property</td>\n",
              "      <td>INVESTIGATE PROPERTY</td>\n",
              "      <td>D4</td>\n",
              "      <td>272</td>\n",
              "      <td>NaN</td>\n",
              "      <td>2018/9/3 21:16</td>\n",
              "      <td>2018</td>\n",
              "      <td>9</td>\n",
              "      <td>Monday</td>\n",
              "      <td>21</td>\n",
              "      <td>Part Three</td>\n",
              "      <td>NEWCOMB ST</td>\n",
              "      <td>42.334182</td>\n",
              "      <td>-71.078664</td>\n",
              "      <td>(42.33418175, -71.07866441)</td>\n",
              "    </tr>\n",
              "    <tr>\n",
              "      <th>4</th>\n",
              "      <td>I182070938</td>\n",
              "      <td>3114</td>\n",
              "      <td>Investigate Property</td>\n",
              "      <td>INVESTIGATE PROPERTY</td>\n",
              "      <td>B3</td>\n",
              "      <td>421</td>\n",
              "      <td>NaN</td>\n",
              "      <td>2018/9/3 21:05</td>\n",
              "      <td>2018</td>\n",
              "      <td>9</td>\n",
              "      <td>Monday</td>\n",
              "      <td>21</td>\n",
              "      <td>Part Three</td>\n",
              "      <td>DELHI ST</td>\n",
              "      <td>42.275365</td>\n",
              "      <td>-71.090361</td>\n",
              "      <td>(42.27536542, -71.09036101)</td>\n",
              "    </tr>\n",
              "    <tr>\n",
              "      <th>5</th>\n",
              "      <td>I182070936</td>\n",
              "      <td>3820</td>\n",
              "      <td>Motor Vehicle Accident Response</td>\n",
              "      <td>M/V ACCIDENT INVOLVING PEDESTRIAN - INJURY</td>\n",
              "      <td>C11</td>\n",
              "      <td>398</td>\n",
              "      <td>NaN</td>\n",
              "      <td>2018/9/3 21:09</td>\n",
              "      <td>2018</td>\n",
              "      <td>9</td>\n",
              "      <td>Monday</td>\n",
              "      <td>21</td>\n",
              "      <td>Part Three</td>\n",
              "      <td>TALBOT AVE</td>\n",
              "      <td>42.290196</td>\n",
              "      <td>-71.071590</td>\n",
              "      <td>(42.29019621, -71.07159012)</td>\n",
              "    </tr>\n",
              "    <tr>\n",
              "      <th>6</th>\n",
              "      <td>I182070933</td>\n",
              "      <td>724</td>\n",
              "      <td>Auto Theft</td>\n",
              "      <td>AUTO THEFT</td>\n",
              "      <td>B2</td>\n",
              "      <td>330</td>\n",
              "      <td>NaN</td>\n",
              "      <td>2018/9/3 21:25</td>\n",
              "      <td>2018</td>\n",
              "      <td>9</td>\n",
              "      <td>Monday</td>\n",
              "      <td>21</td>\n",
              "      <td>Part One</td>\n",
              "      <td>NORMANDY ST</td>\n",
              "      <td>42.306072</td>\n",
              "      <td>-71.082733</td>\n",
              "      <td>(42.30607218, -71.08273260)</td>\n",
              "    </tr>\n",
              "    <tr>\n",
              "      <th>7</th>\n",
              "      <td>I182070932</td>\n",
              "      <td>3301</td>\n",
              "      <td>Verbal Disputes</td>\n",
              "      <td>VERBAL DISPUTE</td>\n",
              "      <td>B2</td>\n",
              "      <td>584</td>\n",
              "      <td>NaN</td>\n",
              "      <td>2018/9/3 20:39</td>\n",
              "      <td>2018</td>\n",
              "      <td>9</td>\n",
              "      <td>Monday</td>\n",
              "      <td>20</td>\n",
              "      <td>Part Three</td>\n",
              "      <td>LAWN ST</td>\n",
              "      <td>42.327016</td>\n",
              "      <td>-71.105551</td>\n",
              "      <td>(42.32701648, -71.10555088)</td>\n",
              "    </tr>\n",
              "    <tr>\n",
              "      <th>8</th>\n",
              "      <td>I182070931</td>\n",
              "      <td>301</td>\n",
              "      <td>Robbery</td>\n",
              "      <td>ROBBERY - STREET</td>\n",
              "      <td>C6</td>\n",
              "      <td>177</td>\n",
              "      <td>NaN</td>\n",
              "      <td>2018/9/3 20:48</td>\n",
              "      <td>2018</td>\n",
              "      <td>9</td>\n",
              "      <td>Monday</td>\n",
              "      <td>20</td>\n",
              "      <td>Part One</td>\n",
              "      <td>MASSACHUSETTS AVE</td>\n",
              "      <td>42.331521</td>\n",
              "      <td>-71.070853</td>\n",
              "      <td>(42.33152148, -71.07085307)</td>\n",
              "    </tr>\n",
              "    <tr>\n",
              "      <th>9</th>\n",
              "      <td>I182070929</td>\n",
              "      <td>3301</td>\n",
              "      <td>Verbal Disputes</td>\n",
              "      <td>VERBAL DISPUTE</td>\n",
              "      <td>C11</td>\n",
              "      <td>364</td>\n",
              "      <td>NaN</td>\n",
              "      <td>2018/9/3 20:38</td>\n",
              "      <td>2018</td>\n",
              "      <td>9</td>\n",
              "      <td>Monday</td>\n",
              "      <td>20</td>\n",
              "      <td>Part Three</td>\n",
              "      <td>LESLIE ST</td>\n",
              "      <td>42.295147</td>\n",
              "      <td>-71.058608</td>\n",
              "      <td>(42.29514664, -71.05860832)</td>\n",
              "    </tr>\n",
              "  </tbody>\n",
              "</table>\n",
              "</div>"
            ],
            "text/plain": [
              "  INCIDENT_NUMBER  OFFENSE_CODE  ...       Long                     Location\n",
              "0      I182070945           619  ... -71.139371  (42.35779134, -71.13937053)\n",
              "1      I182070943          1402  ... -71.060300  (42.30682138, -71.06030035)\n",
              "2      I182070941          3410  ... -71.072429  (42.34658879, -71.07242943)\n",
              "3      I182070940          3114  ... -71.078664  (42.33418175, -71.07866441)\n",
              "4      I182070938          3114  ... -71.090361  (42.27536542, -71.09036101)\n",
              "5      I182070936          3820  ... -71.071590  (42.29019621, -71.07159012)\n",
              "6      I182070933           724  ... -71.082733  (42.30607218, -71.08273260)\n",
              "7      I182070932          3301  ... -71.105551  (42.32701648, -71.10555088)\n",
              "8      I182070931           301  ... -71.070853  (42.33152148, -71.07085307)\n",
              "9      I182070929          3301  ... -71.058608  (42.29514664, -71.05860832)\n",
              "\n",
              "[10 rows x 17 columns]"
            ]
          },
          "metadata": {
            "tags": []
          },
          "execution_count": 6
        }
      ]
    },
    {
      "cell_type": "code",
      "metadata": {
        "id": "ufKwuJQXN4va",
        "colab_type": "code",
        "outputId": "638f88a8-ea93-4b73-f27a-1048965c8016",
        "colab": {
          "base_uri": "https://localhost:8080/",
          "height": 34
        }
      },
      "source": [
        "len(df3)"
      ],
      "execution_count": 7,
      "outputs": [
        {
          "output_type": "execute_result",
          "data": {
            "text/plain": [
              "319073"
            ]
          },
          "metadata": {
            "tags": []
          },
          "execution_count": 7
        }
      ]
    },
    {
      "cell_type": "code",
      "metadata": {
        "id": "qz9hXJC8iHXs",
        "colab_type": "code",
        "outputId": "fbdc7fbd-cbe2-4b6b-b0b4-64d26d4e034e",
        "colab": {
          "base_uri": "https://localhost:8080/",
          "height": 297
        }
      },
      "source": [
        "df3.describe()"
      ],
      "execution_count": 8,
      "outputs": [
        {
          "output_type": "execute_result",
          "data": {
            "text/html": [
              "<div>\n",
              "<style scoped>\n",
              "    .dataframe tbody tr th:only-of-type {\n",
              "        vertical-align: middle;\n",
              "    }\n",
              "\n",
              "    .dataframe tbody tr th {\n",
              "        vertical-align: top;\n",
              "    }\n",
              "\n",
              "    .dataframe thead th {\n",
              "        text-align: right;\n",
              "    }\n",
              "</style>\n",
              "<table border=\"1\" class=\"dataframe\">\n",
              "  <thead>\n",
              "    <tr style=\"text-align: right;\">\n",
              "      <th></th>\n",
              "      <th>OFFENSE_CODE</th>\n",
              "      <th>YEAR</th>\n",
              "      <th>MONTH</th>\n",
              "      <th>HOUR</th>\n",
              "      <th>Lat</th>\n",
              "      <th>Long</th>\n",
              "    </tr>\n",
              "  </thead>\n",
              "  <tbody>\n",
              "    <tr>\n",
              "      <th>count</th>\n",
              "      <td>319073.000000</td>\n",
              "      <td>319073.000000</td>\n",
              "      <td>319073.000000</td>\n",
              "      <td>319073.000000</td>\n",
              "      <td>299074.000000</td>\n",
              "      <td>299074.000000</td>\n",
              "    </tr>\n",
              "    <tr>\n",
              "      <th>mean</th>\n",
              "      <td>2317.546956</td>\n",
              "      <td>2016.560586</td>\n",
              "      <td>6.609719</td>\n",
              "      <td>13.118205</td>\n",
              "      <td>42.214381</td>\n",
              "      <td>-70.908272</td>\n",
              "    </tr>\n",
              "    <tr>\n",
              "      <th>std</th>\n",
              "      <td>1185.285543</td>\n",
              "      <td>0.996344</td>\n",
              "      <td>3.273691</td>\n",
              "      <td>6.294205</td>\n",
              "      <td>2.159766</td>\n",
              "      <td>3.493618</td>\n",
              "    </tr>\n",
              "    <tr>\n",
              "      <th>min</th>\n",
              "      <td>111.000000</td>\n",
              "      <td>2015.000000</td>\n",
              "      <td>1.000000</td>\n",
              "      <td>0.000000</td>\n",
              "      <td>-1.000000</td>\n",
              "      <td>-71.178674</td>\n",
              "    </tr>\n",
              "    <tr>\n",
              "      <th>25%</th>\n",
              "      <td>1001.000000</td>\n",
              "      <td>2016.000000</td>\n",
              "      <td>4.000000</td>\n",
              "      <td>9.000000</td>\n",
              "      <td>42.297442</td>\n",
              "      <td>-71.097135</td>\n",
              "    </tr>\n",
              "    <tr>\n",
              "      <th>50%</th>\n",
              "      <td>2907.000000</td>\n",
              "      <td>2017.000000</td>\n",
              "      <td>7.000000</td>\n",
              "      <td>14.000000</td>\n",
              "      <td>42.325538</td>\n",
              "      <td>-71.077524</td>\n",
              "    </tr>\n",
              "    <tr>\n",
              "      <th>75%</th>\n",
              "      <td>3201.000000</td>\n",
              "      <td>2017.000000</td>\n",
              "      <td>9.000000</td>\n",
              "      <td>18.000000</td>\n",
              "      <td>42.348624</td>\n",
              "      <td>-71.062467</td>\n",
              "    </tr>\n",
              "    <tr>\n",
              "      <th>max</th>\n",
              "      <td>3831.000000</td>\n",
              "      <td>2018.000000</td>\n",
              "      <td>12.000000</td>\n",
              "      <td>23.000000</td>\n",
              "      <td>42.395042</td>\n",
              "      <td>-1.000000</td>\n",
              "    </tr>\n",
              "  </tbody>\n",
              "</table>\n",
              "</div>"
            ],
            "text/plain": [
              "        OFFENSE_CODE           YEAR  ...            Lat           Long\n",
              "count  319073.000000  319073.000000  ...  299074.000000  299074.000000\n",
              "mean     2317.546956    2016.560586  ...      42.214381     -70.908272\n",
              "std      1185.285543       0.996344  ...       2.159766       3.493618\n",
              "min       111.000000    2015.000000  ...      -1.000000     -71.178674\n",
              "25%      1001.000000    2016.000000  ...      42.297442     -71.097135\n",
              "50%      2907.000000    2017.000000  ...      42.325538     -71.077524\n",
              "75%      3201.000000    2017.000000  ...      42.348624     -71.062467\n",
              "max      3831.000000    2018.000000  ...      42.395042      -1.000000\n",
              "\n",
              "[8 rows x 6 columns]"
            ]
          },
          "metadata": {
            "tags": []
          },
          "execution_count": 8
        }
      ]
    },
    {
      "cell_type": "code",
      "metadata": {
        "id": "k8shlrtqph4L",
        "colab_type": "code",
        "colab": {
          "base_uri": "https://localhost:8080/",
          "height": 34
        },
        "outputId": "6b0df0dd-b1b2-496c-e41a-90a06ee37682"
      },
      "source": [
        "#Check and eventually remove duplicates.\n",
        "print(df3.shape, df3.drop_duplicates().shape)\n",
        "df3 = df3.drop_duplicates()"
      ],
      "execution_count": 10,
      "outputs": [
        {
          "output_type": "stream",
          "text": [
            "(319073, 17) (319050, 17)\n"
          ],
          "name": "stdout"
        }
      ]
    },
    {
      "cell_type": "code",
      "metadata": {
        "id": "yJnGF1i6OJja",
        "colab_type": "code",
        "outputId": "56be47a1-cbe6-4a19-cac1-415c248ab19d",
        "colab": {
          "base_uri": "https://localhost:8080/",
          "height": 1000
        }
      },
      "source": [
        "df3['OFFENSE_CODE_GROUP']"
      ],
      "execution_count": 9,
      "outputs": [
        {
          "output_type": "execute_result",
          "data": {
            "text/plain": [
              "0                                  Larceny\n",
              "1                                Vandalism\n",
              "2                                    Towed\n",
              "3                     Investigate Property\n",
              "4                     Investigate Property\n",
              "5          Motor Vehicle Accident Response\n",
              "6                               Auto Theft\n",
              "7                          Verbal Disputes\n",
              "8                                  Robbery\n",
              "9                          Verbal Disputes\n",
              "10                         Verbal Disputes\n",
              "11                    Investigate Property\n",
              "12                    Fire Related Reports\n",
              "13                                   Other\n",
              "14                           Property Lost\n",
              "15                      Medical Assistance\n",
              "16                         Verbal Disputes\n",
              "17        Assembly or Gathering Violations\n",
              "18                                   Other\n",
              "19              Larceny From Motor Vehicle\n",
              "20                      Medical Assistance\n",
              "21         Motor Vehicle Accident Response\n",
              "22                      Medical Assistance\n",
              "23         Motor Vehicle Accident Response\n",
              "24                    Residential Burglary\n",
              "25         Motor Vehicle Accident Response\n",
              "26                      Medical Assistance\n",
              "27                          Simple Assault\n",
              "28            Restraining Order Violations\n",
              "29                                   Other\n",
              "                        ...               \n",
              "319043                     Warrant Arrests\n",
              "319044                             Larceny\n",
              "319045                  Aggravated Assault\n",
              "319046                     Warrant Arrests\n",
              "319047                     Warrant Arrests\n",
              "319048                             Larceny\n",
              "319049                     Warrant Arrests\n",
              "319050                      Simple Assault\n",
              "319051                     Warrant Arrests\n",
              "319052                             Larceny\n",
              "319053                     Warrant Arrests\n",
              "319054                     Warrant Arrests\n",
              "319055                             Robbery\n",
              "319056                     Warrant Arrests\n",
              "319057                          Violations\n",
              "319058                          Violations\n",
              "319059                     Warrant Arrests\n",
              "319060                     Warrant Arrests\n",
              "319061                  Aggravated Assault\n",
              "319062                     Warrant Arrests\n",
              "319063                     Warrant Arrests\n",
              "319064                      Drug Violation\n",
              "319065                      Drug Violation\n",
              "319066                      Drug Violation\n",
              "319067                     Warrant Arrests\n",
              "319068                     Warrant Arrests\n",
              "319069                            Homicide\n",
              "319070                     Warrant Arrests\n",
              "319071                     Warrant Arrests\n",
              "319072                     Warrant Arrests\n",
              "Name: OFFENSE_CODE_GROUP, Length: 319073, dtype: object"
            ]
          },
          "metadata": {
            "tags": []
          },
          "execution_count": 9
        }
      ]
    },
    {
      "cell_type": "code",
      "metadata": {
        "id": "kd6OmrjzOSlZ",
        "colab_type": "code",
        "outputId": "54702b21-1a0f-47e6-a516-fef084dbae71",
        "colab": {
          "base_uri": "https://localhost:8080/",
          "height": 442
        }
      },
      "source": [
        "df3['OFFENSE_CODE_GROUP'].unique()"
      ],
      "execution_count": 0,
      "outputs": [
        {
          "output_type": "execute_result",
          "data": {
            "text/plain": [
              "array(['Larceny', 'Vandalism', 'Towed', 'Investigate Property',\n",
              "       'Motor Vehicle Accident Response', 'Auto Theft', 'Verbal Disputes',\n",
              "       'Robbery', 'Fire Related Reports', 'Other', 'Property Lost',\n",
              "       'Medical Assistance', 'Assembly or Gathering Violations',\n",
              "       'Larceny From Motor Vehicle', 'Residential Burglary',\n",
              "       'Simple Assault', 'Restraining Order Violations', 'Violations',\n",
              "       'Harassment', 'Ballistics', 'Property Found',\n",
              "       'Police Service Incidents', 'Drug Violation', 'Warrant Arrests',\n",
              "       'Disorderly Conduct', 'Property Related Damage',\n",
              "       'Missing Person Reported', 'Investigate Person', 'Fraud',\n",
              "       'Aggravated Assault', 'License Plate Related Incidents',\n",
              "       'Firearm Violations', 'Other Burglary', 'Arson', 'Bomb Hoax',\n",
              "       'Harbor Related Incidents', 'Counterfeiting', 'Liquor Violation',\n",
              "       'Firearm Discovery', 'Landlord/Tenant Disputes',\n",
              "       'Missing Person Located', 'Auto Theft Recovery', 'Service',\n",
              "       'Operating Under the Influence', 'Confidence Games',\n",
              "       'Search Warrants', 'License Violation', 'Commercial Burglary',\n",
              "       'HOME INVASION', 'Recovered Stolen Property',\n",
              "       'Offenses Against Child / Family', 'Prostitution', 'Evading Fare',\n",
              "       'Prisoner Related Incidents', 'Homicide', 'Embezzlement',\n",
              "       'Explosives', 'Criminal Harassment', 'Phone Call Complaints',\n",
              "       'Aircraft', 'Biological Threat', 'Manslaughter', 'Gambling',\n",
              "       'INVESTIGATE PERSON', 'HUMAN TRAFFICKING',\n",
              "       'HUMAN TRAFFICKING - INVOLUNTARY SERVITUDE',\n",
              "       'Burglary - No Property Taken'], dtype=object)"
            ]
          },
          "metadata": {
            "tags": []
          },
          "execution_count": 43
        }
      ]
    },
    {
      "cell_type": "code",
      "metadata": {
        "id": "QBOC3pxSPZzf",
        "colab_type": "code",
        "outputId": "9fc34902-139a-499e-8638-699a3497d04e",
        "colab": {
          "base_uri": "https://localhost:8080/",
          "height": 1000
        }
      },
      "source": [
        "df3['OFFENSE_CODE_GROUP'].value_counts()"
      ],
      "execution_count": 0,
      "outputs": [
        {
          "output_type": "execute_result",
          "data": {
            "text/plain": [
              "Motor Vehicle Accident Response              37132\n",
              "Larceny                                      25935\n",
              "Medical Assistance                           23540\n",
              "Investigate Person                           18750\n",
              "Other                                        18075\n",
              "Drug Violation                               16548\n",
              "Simple Assault                               15826\n",
              "Vandalism                                    15415\n",
              "Verbal Disputes                              13099\n",
              "Towed                                        11287\n",
              "Investigate Property                         11124\n",
              "Larceny From Motor Vehicle                   10847\n",
              "Property Lost                                 9751\n",
              "Warrant Arrests                               8407\n",
              "Aggravated Assault                            7807\n",
              "Violations                                    6095\n",
              "Fraud                                         5829\n",
              "Residential Burglary                          5606\n",
              "Missing Person Located                        4958\n",
              "Auto Theft                                    4851\n",
              "Robbery                                       4624\n",
              "Harassment                                    4007\n",
              "Property Found                                3925\n",
              "Missing Person Reported                       3797\n",
              "Confidence Games                              3147\n",
              "Police Service Incidents                      2781\n",
              "Disorderly Conduct                            2611\n",
              "Fire Related Reports                          1920\n",
              "Firearm Violations                            1777\n",
              "License Violation                             1701\n",
              "                                             ...  \n",
              "Landlord/Tenant Disputes                       968\n",
              "Search Warrants                                966\n",
              "Assembly or Gathering Violations               955\n",
              "Property Related Damage                        912\n",
              "Firearm Discovery                              698\n",
              "Operating Under the Influence                  574\n",
              "License Plate Related Incidents                560\n",
              "Offenses Against Child / Family                545\n",
              "Other Burglary                                 461\n",
              "Evading Fare                                   407\n",
              "Embezzlement                                   296\n",
              "Service                                        285\n",
              "Prisoner Related Incidents                     253\n",
              "Harbor Related Incidents                       212\n",
              "Prostitution                                   207\n",
              "Homicide                                       161\n",
              "Criminal Harassment                            131\n",
              "Arson                                           94\n",
              "HOME INVASION                                   77\n",
              "Bomb Hoax                                       75\n",
              "Aircraft                                        36\n",
              "Phone Call Complaints                           31\n",
              "Explosives                                      27\n",
              "Manslaughter                                     8\n",
              "Gambling                                         8\n",
              "HUMAN TRAFFICKING                                7\n",
              "INVESTIGATE PERSON                               4\n",
              "HUMAN TRAFFICKING - INVOLUNTARY SERVITUDE        2\n",
              "Burglary - No Property Taken                     2\n",
              "Biological Threat                                2\n",
              "Name: OFFENSE_CODE_GROUP, Length: 67, dtype: int64"
            ]
          },
          "metadata": {
            "tags": []
          },
          "execution_count": 45
        }
      ]
    },
    {
      "cell_type": "code",
      "metadata": {
        "id": "tX9FrceJPwGk",
        "colab_type": "code",
        "colab": {}
      },
      "source": [
        "MotorVehicleAccidentResponse_data = df3.loc[df3['OFFENSE_CODE_GROUP'] == \"Motor Vehicle Accident Response\"]"
      ],
      "execution_count": 0,
      "outputs": []
    },
    {
      "cell_type": "code",
      "metadata": {
        "id": "OpizxpJeQEuF",
        "colab_type": "code",
        "outputId": "be310fc1-d51e-4397-befb-05a65cd38340",
        "colab": {
          "base_uri": "https://localhost:8080/",
          "height": 289
        }
      },
      "source": [
        "MotorVehicleAccidentResponse_data.head(5)"
      ],
      "execution_count": 0,
      "outputs": [
        {
          "output_type": "execute_result",
          "data": {
            "text/html": [
              "<div>\n",
              "<style scoped>\n",
              "    .dataframe tbody tr th:only-of-type {\n",
              "        vertical-align: middle;\n",
              "    }\n",
              "\n",
              "    .dataframe tbody tr th {\n",
              "        vertical-align: top;\n",
              "    }\n",
              "\n",
              "    .dataframe thead th {\n",
              "        text-align: right;\n",
              "    }\n",
              "</style>\n",
              "<table border=\"1\" class=\"dataframe\">\n",
              "  <thead>\n",
              "    <tr style=\"text-align: right;\">\n",
              "      <th></th>\n",
              "      <th>INCIDENT_NUMBER</th>\n",
              "      <th>OFFENSE_CODE</th>\n",
              "      <th>OFFENSE_CODE_GROUP</th>\n",
              "      <th>OFFENSE_DESCRIPTION</th>\n",
              "      <th>DISTRICT</th>\n",
              "      <th>REPORTING_AREA</th>\n",
              "      <th>SHOOTING</th>\n",
              "      <th>OCCURRED_ON_DATE</th>\n",
              "      <th>YEAR</th>\n",
              "      <th>MONTH</th>\n",
              "      <th>DAY_OF_WEEK</th>\n",
              "      <th>HOUR</th>\n",
              "      <th>UCR_PART</th>\n",
              "      <th>STREET</th>\n",
              "      <th>Lat</th>\n",
              "      <th>Long</th>\n",
              "      <th>Location</th>\n",
              "    </tr>\n",
              "  </thead>\n",
              "  <tbody>\n",
              "    <tr>\n",
              "      <th>5</th>\n",
              "      <td>I182070936</td>\n",
              "      <td>3820</td>\n",
              "      <td>Motor Vehicle Accident Response</td>\n",
              "      <td>M/V ACCIDENT INVOLVING PEDESTRIAN - INJURY</td>\n",
              "      <td>C11</td>\n",
              "      <td>398</td>\n",
              "      <td>NaN</td>\n",
              "      <td>2018/9/3 21:09</td>\n",
              "      <td>2018</td>\n",
              "      <td>9</td>\n",
              "      <td>Monday</td>\n",
              "      <td>21</td>\n",
              "      <td>Part Three</td>\n",
              "      <td>TALBOT AVE</td>\n",
              "      <td>42.290196</td>\n",
              "      <td>-71.071590</td>\n",
              "      <td>(42.29019621, -71.07159012)</td>\n",
              "    </tr>\n",
              "    <tr>\n",
              "      <th>21</th>\n",
              "      <td>I182070911</td>\n",
              "      <td>3801</td>\n",
              "      <td>Motor Vehicle Accident Response</td>\n",
              "      <td>M/V ACCIDENT - OTHER</td>\n",
              "      <td>A1</td>\n",
              "      <td>69</td>\n",
              "      <td>NaN</td>\n",
              "      <td>2018/9/3 18:30</td>\n",
              "      <td>2018</td>\n",
              "      <td>9</td>\n",
              "      <td>Monday</td>\n",
              "      <td>18</td>\n",
              "      <td>Part Three</td>\n",
              "      <td>BEACON ST</td>\n",
              "      <td>42.355644</td>\n",
              "      <td>-71.071681</td>\n",
              "      <td>(42.35564426, -71.07168077)</td>\n",
              "    </tr>\n",
              "    <tr>\n",
              "      <th>23</th>\n",
              "      <td>I182070909</td>\n",
              "      <td>3803</td>\n",
              "      <td>Motor Vehicle Accident Response</td>\n",
              "      <td>M/V ACCIDENT - PERSONAL INJURY</td>\n",
              "      <td>E5</td>\n",
              "      <td>550</td>\n",
              "      <td>NaN</td>\n",
              "      <td>2018/9/3 18:33</td>\n",
              "      <td>2018</td>\n",
              "      <td>9</td>\n",
              "      <td>Monday</td>\n",
              "      <td>18</td>\n",
              "      <td>Part Three</td>\n",
              "      <td>WASHINGTON ST</td>\n",
              "      <td>42.275818</td>\n",
              "      <td>-71.139913</td>\n",
              "      <td>(42.27581799, -71.13991259)</td>\n",
              "    </tr>\n",
              "    <tr>\n",
              "      <th>25</th>\n",
              "      <td>I182070906</td>\n",
              "      <td>3831</td>\n",
              "      <td>Motor Vehicle Accident Response</td>\n",
              "      <td>M/V - LEAVING SCENE - PROPERTY DAMAGE</td>\n",
              "      <td>NaN</td>\n",
              "      <td></td>\n",
              "      <td>NaN</td>\n",
              "      <td>2018/9/3 18:20</td>\n",
              "      <td>2018</td>\n",
              "      <td>9</td>\n",
              "      <td>Monday</td>\n",
              "      <td>18</td>\n",
              "      <td>Part Three</td>\n",
              "      <td>NaN</td>\n",
              "      <td>42.283593</td>\n",
              "      <td>-71.055657</td>\n",
              "      <td>(42.28359328, -71.05565683)</td>\n",
              "    </tr>\n",
              "    <tr>\n",
              "      <th>44</th>\n",
              "      <td>I182070886</td>\n",
              "      <td>3802</td>\n",
              "      <td>Motor Vehicle Accident Response</td>\n",
              "      <td>M/V ACCIDENT - PROPERTY AMAGE</td>\n",
              "      <td>C11</td>\n",
              "      <td>402</td>\n",
              "      <td>NaN</td>\n",
              "      <td>2018/9/3 15:34</td>\n",
              "      <td>2018</td>\n",
              "      <td>9</td>\n",
              "      <td>Monday</td>\n",
              "      <td>15</td>\n",
              "      <td>Part Three</td>\n",
              "      <td>WASHINGTON ST</td>\n",
              "      <td>42.284926</td>\n",
              "      <td>-71.071353</td>\n",
              "      <td>(42.28492596, -71.07135254)</td>\n",
              "    </tr>\n",
              "  </tbody>\n",
              "</table>\n",
              "</div>"
            ],
            "text/plain": [
              "   INCIDENT_NUMBER  OFFENSE_CODE  ...       Long                     Location\n",
              "5       I182070936          3820  ... -71.071590  (42.29019621, -71.07159012)\n",
              "21      I182070911          3801  ... -71.071681  (42.35564426, -71.07168077)\n",
              "23      I182070909          3803  ... -71.139913  (42.27581799, -71.13991259)\n",
              "25      I182070906          3831  ... -71.055657  (42.28359328, -71.05565683)\n",
              "44      I182070886          3802  ... -71.071353  (42.28492596, -71.07135254)\n",
              "\n",
              "[5 rows x 17 columns]"
            ]
          },
          "metadata": {
            "tags": []
          },
          "execution_count": 48
        }
      ]
    },
    {
      "cell_type": "code",
      "metadata": {
        "id": "DVDj60-oQSlC",
        "colab_type": "code",
        "outputId": "146a6e22-6c60-40cb-fa1c-8baae0fa6d49",
        "colab": {
          "base_uri": "https://localhost:8080/",
          "height": 238
        }
      },
      "source": [
        "MotorVehicleAccidentResponse_data['DISTRICT'].value_counts()"
      ],
      "execution_count": 0,
      "outputs": [
        {
          "output_type": "execute_result",
          "data": {
            "text/plain": [
              "B2     6407\n",
              "C11    5305\n",
              "D4     3882\n",
              "B3     3836\n",
              "D14    2857\n",
              "A1     2847\n",
              "C6     2699\n",
              "E18    2366\n",
              "E13    2166\n",
              "E5     1813\n",
              "A7     1516\n",
              "A15     960\n",
              "Name: DISTRICT, dtype: int64"
            ]
          },
          "metadata": {
            "tags": []
          },
          "execution_count": 62
        }
      ]
    },
    {
      "cell_type": "code",
      "metadata": {
        "id": "d5H7iWLzQldi",
        "colab_type": "code",
        "colab": {}
      },
      "source": [
        "MotorVehicleAccidentResponse_B2 = MotorVehicleAccidentResponse_data.loc[MotorVehicleAccidentResponse_data['DISTRICT'] == 'B2']"
      ],
      "execution_count": 0,
      "outputs": []
    },
    {
      "cell_type": "code",
      "metadata": {
        "id": "30SY8d3eRoHW",
        "colab_type": "code",
        "outputId": "4ed48bcc-305a-49e0-cb2b-f7fb18c47220",
        "colab": {
          "base_uri": "https://localhost:8080/",
          "height": 306
        }
      },
      "source": [
        "MotorVehicleAccidentResponse_B2.head()"
      ],
      "execution_count": 0,
      "outputs": [
        {
          "output_type": "execute_result",
          "data": {
            "text/html": [
              "<div>\n",
              "<style scoped>\n",
              "    .dataframe tbody tr th:only-of-type {\n",
              "        vertical-align: middle;\n",
              "    }\n",
              "\n",
              "    .dataframe tbody tr th {\n",
              "        vertical-align: top;\n",
              "    }\n",
              "\n",
              "    .dataframe thead th {\n",
              "        text-align: right;\n",
              "    }\n",
              "</style>\n",
              "<table border=\"1\" class=\"dataframe\">\n",
              "  <thead>\n",
              "    <tr style=\"text-align: right;\">\n",
              "      <th></th>\n",
              "      <th>INCIDENT_NUMBER</th>\n",
              "      <th>OFFENSE_CODE</th>\n",
              "      <th>OFFENSE_CODE_GROUP</th>\n",
              "      <th>OFFENSE_DESCRIPTION</th>\n",
              "      <th>DISTRICT</th>\n",
              "      <th>REPORTING_AREA</th>\n",
              "      <th>SHOOTING</th>\n",
              "      <th>OCCURRED_ON_DATE</th>\n",
              "      <th>YEAR</th>\n",
              "      <th>MONTH</th>\n",
              "      <th>DAY_OF_WEEK</th>\n",
              "      <th>HOUR</th>\n",
              "      <th>UCR_PART</th>\n",
              "      <th>STREET</th>\n",
              "      <th>Lat</th>\n",
              "      <th>Long</th>\n",
              "      <th>Location</th>\n",
              "    </tr>\n",
              "  </thead>\n",
              "  <tbody>\n",
              "    <tr>\n",
              "      <th>46</th>\n",
              "      <td>I182070882</td>\n",
              "      <td>3801</td>\n",
              "      <td>Motor Vehicle Accident Response</td>\n",
              "      <td>M/V ACCIDENT - OTHER</td>\n",
              "      <td>B2</td>\n",
              "      <td>901</td>\n",
              "      <td>NaN</td>\n",
              "      <td>2018/9/3 15:00</td>\n",
              "      <td>2018</td>\n",
              "      <td>9</td>\n",
              "      <td>Monday</td>\n",
              "      <td>15</td>\n",
              "      <td>Part Three</td>\n",
              "      <td>WARD ST</td>\n",
              "      <td>42.335111</td>\n",
              "      <td>-71.095922</td>\n",
              "      <td>(42.33511145, -71.09592156)</td>\n",
              "    </tr>\n",
              "    <tr>\n",
              "      <th>64</th>\n",
              "      <td>I182070862</td>\n",
              "      <td>3801</td>\n",
              "      <td>Motor Vehicle Accident Response</td>\n",
              "      <td>M/V ACCIDENT - OTHER</td>\n",
              "      <td>B2</td>\n",
              "      <td>603</td>\n",
              "      <td>NaN</td>\n",
              "      <td>2018/9/3 15:29</td>\n",
              "      <td>2018</td>\n",
              "      <td>9</td>\n",
              "      <td>Monday</td>\n",
              "      <td>15</td>\n",
              "      <td>Part Three</td>\n",
              "      <td>TREMONT ST</td>\n",
              "      <td>42.333807</td>\n",
              "      <td>-71.103778</td>\n",
              "      <td>(42.33380683, -71.10377843)</td>\n",
              "    </tr>\n",
              "    <tr>\n",
              "      <th>115</th>\n",
              "      <td>I182070809</td>\n",
              "      <td>3831</td>\n",
              "      <td>Motor Vehicle Accident Response</td>\n",
              "      <td>M/V - LEAVING SCENE - PROPERTY DAMAGE</td>\n",
              "      <td>B2</td>\n",
              "      <td>605</td>\n",
              "      <td>NaN</td>\n",
              "      <td>2018/9/3 12:37</td>\n",
              "      <td>2018</td>\n",
              "      <td>9</td>\n",
              "      <td>Monday</td>\n",
              "      <td>12</td>\n",
              "      <td>Part Three</td>\n",
              "      <td>FISHER AVE</td>\n",
              "      <td>42.330610</td>\n",
              "      <td>-71.108536</td>\n",
              "      <td>(42.33061023, -71.10853621)</td>\n",
              "    </tr>\n",
              "    <tr>\n",
              "      <th>124</th>\n",
              "      <td>I182070801</td>\n",
              "      <td>3831</td>\n",
              "      <td>Motor Vehicle Accident Response</td>\n",
              "      <td>M/V - LEAVING SCENE - PROPERTY DAMAGE</td>\n",
              "      <td>B2</td>\n",
              "      <td>326</td>\n",
              "      <td>NaN</td>\n",
              "      <td>2018/9/2 19:30</td>\n",
              "      <td>2018</td>\n",
              "      <td>9</td>\n",
              "      <td>Sunday</td>\n",
              "      <td>19</td>\n",
              "      <td>Part Three</td>\n",
              "      <td>LAWRENCE AVE</td>\n",
              "      <td>42.311611</td>\n",
              "      <td>-71.076256</td>\n",
              "      <td>(42.31161123, -71.07625600)</td>\n",
              "    </tr>\n",
              "    <tr>\n",
              "      <th>244</th>\n",
              "      <td>I182070657</td>\n",
              "      <td>3803</td>\n",
              "      <td>Motor Vehicle Accident Response</td>\n",
              "      <td>M/V ACCIDENT - PERSONAL INJURY</td>\n",
              "      <td>B2</td>\n",
              "      <td>311</td>\n",
              "      <td>NaN</td>\n",
              "      <td>2018/9/2 20:32</td>\n",
              "      <td>2018</td>\n",
              "      <td>9</td>\n",
              "      <td>Sunday</td>\n",
              "      <td>20</td>\n",
              "      <td>Part Three</td>\n",
              "      <td>MARTIN LUTHER KING JR BLV</td>\n",
              "      <td>42.317916</td>\n",
              "      <td>-71.082156</td>\n",
              "      <td>(42.31791574, -71.08215630)</td>\n",
              "    </tr>\n",
              "  </tbody>\n",
              "</table>\n",
              "</div>"
            ],
            "text/plain": [
              "    INCIDENT_NUMBER  OFFENSE_CODE  ...       Long                     Location\n",
              "46       I182070882          3801  ... -71.095922  (42.33511145, -71.09592156)\n",
              "64       I182070862          3801  ... -71.103778  (42.33380683, -71.10377843)\n",
              "115      I182070809          3831  ... -71.108536  (42.33061023, -71.10853621)\n",
              "124      I182070801          3831  ... -71.076256  (42.31161123, -71.07625600)\n",
              "244      I182070657          3803  ... -71.082156  (42.31791574, -71.08215630)\n",
              "\n",
              "[5 rows x 17 columns]"
            ]
          },
          "metadata": {
            "tags": []
          },
          "execution_count": 64
        }
      ]
    },
    {
      "cell_type": "code",
      "metadata": {
        "id": "UeOJg6ADRwbW",
        "colab_type": "code",
        "outputId": "67f37dac-1468-4270-bf4c-5b101268b8c8",
        "colab": {
          "base_uri": "https://localhost:8080/",
          "height": 391
        }
      },
      "source": [
        "px.scatter(MotorVehicleAccidentResponse_B2.query('REPORTING_AREA == [\"901\"]'), \n",
        "           x=\"MONTH\", y=\"DAY_OF_WEEK\", color=\"REPORTING_AREA\", trendline=\"ols\")"
      ],
      "execution_count": 0,
      "outputs": [
        {
          "output_type": "stream",
          "text": [
            "/usr/local/lib/python3.6/dist-packages/numpy/core/fromnumeric.py:2389: FutureWarning:\n",
            "\n",
            "Method .ptp is deprecated and will be removed in a future version. Use numpy.ptp instead.\n",
            "\n"
          ],
          "name": "stderr"
        },
        {
          "output_type": "error",
          "ename": "ValueError",
          "evalue": "ignored",
          "traceback": [
            "\u001b[0;31m---------------------------------------------------------------------------\u001b[0m",
            "\u001b[0;31mValueError\u001b[0m                                Traceback (most recent call last)",
            "\u001b[0;32m<ipython-input-70-2b812412cf5f>\u001b[0m in \u001b[0;36m<module>\u001b[0;34m()\u001b[0m\n\u001b[1;32m      1\u001b[0m px.scatter(MotorVehicleAccidentResponse_B2.query('REPORTING_AREA == [\"901\"]'), \n\u001b[0;32m----> 2\u001b[0;31m            x=\"MONTH\", y=\"DAY_OF_WEEK\", color=\"REPORTING_AREA\", trendline=\"ols\")\n\u001b[0m",
            "\u001b[0;32m/usr/local/lib/python3.6/dist-packages/plotly/express/_chart_types.py\u001b[0m in \u001b[0;36mscatter\u001b[0;34m(data_frame, x, y, color, symbol, size, hover_name, hover_data, text, facet_row, facet_col, error_x, error_x_minus, error_y, error_y_minus, animation_frame, animation_group, category_orders, labels, color_discrete_sequence, color_discrete_map, color_continuous_scale, range_color, color_continuous_midpoint, symbol_sequence, symbol_map, opacity, size_max, marginal_x, marginal_y, trendline, trendline_color_override, log_x, log_y, range_x, range_y, render_mode, title, template, width, height)\u001b[0m\n\u001b[1;32m     50\u001b[0m     \u001b[0mIn\u001b[0m \u001b[0ma\u001b[0m \u001b[0mscatter\u001b[0m \u001b[0mplot\u001b[0m\u001b[0;34m,\u001b[0m \u001b[0meach\u001b[0m \u001b[0mrow\u001b[0m \u001b[0mof\u001b[0m\u001b[0;31m \u001b[0m\u001b[0;31m`\u001b[0m\u001b[0mdata_frame\u001b[0m\u001b[0;31m`\u001b[0m \u001b[0;32mis\u001b[0m \u001b[0mrepresented\u001b[0m \u001b[0mby\u001b[0m \u001b[0ma\u001b[0m \u001b[0msymbol\u001b[0m \u001b[0mmark\u001b[0m \u001b[0;32min\u001b[0m \u001b[0;36m2\u001b[0m\u001b[0mD\u001b[0m \u001b[0mspace\u001b[0m\u001b[0;34m.\u001b[0m\u001b[0;34m\u001b[0m\u001b[0;34m\u001b[0m\u001b[0m\n\u001b[1;32m     51\u001b[0m     \"\"\"\n\u001b[0;32m---> 52\u001b[0;31m     \u001b[0;32mreturn\u001b[0m \u001b[0mmake_figure\u001b[0m\u001b[0;34m(\u001b[0m\u001b[0margs\u001b[0m\u001b[0;34m=\u001b[0m\u001b[0mlocals\u001b[0m\u001b[0;34m(\u001b[0m\u001b[0;34m)\u001b[0m\u001b[0;34m,\u001b[0m \u001b[0mconstructor\u001b[0m\u001b[0;34m=\u001b[0m\u001b[0mgo\u001b[0m\u001b[0;34m.\u001b[0m\u001b[0mScatter\u001b[0m\u001b[0;34m)\u001b[0m\u001b[0;34m\u001b[0m\u001b[0;34m\u001b[0m\u001b[0m\n\u001b[0m\u001b[1;32m     53\u001b[0m \u001b[0;34m\u001b[0m\u001b[0m\n\u001b[1;32m     54\u001b[0m \u001b[0;34m\u001b[0m\u001b[0m\n",
            "\u001b[0;32m/usr/local/lib/python3.6/dist-packages/plotly/express/_core.py\u001b[0m in \u001b[0;36mmake_figure\u001b[0;34m(args, constructor, trace_patch, layout_patch)\u001b[0m\n\u001b[1;32m    995\u001b[0m \u001b[0;34m\u001b[0m\u001b[0m\n\u001b[1;32m    996\u001b[0m             patch, fit_results = make_trace_kwargs(\n\u001b[0;32m--> 997\u001b[0;31m                 \u001b[0margs\u001b[0m\u001b[0;34m,\u001b[0m \u001b[0mtrace_spec\u001b[0m\u001b[0;34m,\u001b[0m \u001b[0mgroup\u001b[0m\u001b[0;34m,\u001b[0m \u001b[0mmapping_labels\u001b[0m\u001b[0;34m.\u001b[0m\u001b[0mcopy\u001b[0m\u001b[0;34m(\u001b[0m\u001b[0;34m)\u001b[0m\u001b[0;34m,\u001b[0m \u001b[0msizeref\u001b[0m\u001b[0;34m\u001b[0m\u001b[0;34m\u001b[0m\u001b[0m\n\u001b[0m\u001b[1;32m    998\u001b[0m             )\n\u001b[1;32m    999\u001b[0m             \u001b[0mtrace\u001b[0m\u001b[0;34m.\u001b[0m\u001b[0mupdate\u001b[0m\u001b[0;34m(\u001b[0m\u001b[0mpatch\u001b[0m\u001b[0;34m)\u001b[0m\u001b[0;34m\u001b[0m\u001b[0;34m\u001b[0m\u001b[0m\n",
            "\u001b[0;32m/usr/local/lib/python3.6/dist-packages/plotly/express/_core.py\u001b[0m in \u001b[0;36mmake_trace_kwargs\u001b[0;34m(args, trace_spec, g, mapping_labels, sizeref)\u001b[0m\n\u001b[1;32m    211\u001b[0m                         \u001b[0mhover_header\u001b[0m \u001b[0;34m=\u001b[0m \u001b[0;34m\"<b>LOWESS trendline</b><br><br>\"\u001b[0m\u001b[0;34m\u001b[0m\u001b[0;34m\u001b[0m\u001b[0m\n\u001b[1;32m    212\u001b[0m                     \u001b[0;32melif\u001b[0m \u001b[0mv\u001b[0m \u001b[0;34m==\u001b[0m \u001b[0;34m\"ols\"\u001b[0m\u001b[0;34m:\u001b[0m\u001b[0;34m\u001b[0m\u001b[0;34m\u001b[0m\u001b[0m\n\u001b[0;32m--> 213\u001b[0;31m                         \u001b[0mfit_results\u001b[0m \u001b[0;34m=\u001b[0m \u001b[0msm\u001b[0m\u001b[0;34m.\u001b[0m\u001b[0mOLS\u001b[0m\u001b[0;34m(\u001b[0m\u001b[0my\u001b[0m\u001b[0;34m,\u001b[0m \u001b[0msm\u001b[0m\u001b[0;34m.\u001b[0m\u001b[0madd_constant\u001b[0m\u001b[0;34m(\u001b[0m\u001b[0mx\u001b[0m\u001b[0;34m)\u001b[0m\u001b[0;34m)\u001b[0m\u001b[0;34m.\u001b[0m\u001b[0mfit\u001b[0m\u001b[0;34m(\u001b[0m\u001b[0;34m)\u001b[0m\u001b[0;34m\u001b[0m\u001b[0;34m\u001b[0m\u001b[0m\n\u001b[0m\u001b[1;32m    214\u001b[0m                         \u001b[0mresult\u001b[0m\u001b[0;34m[\u001b[0m\u001b[0;34m\"y\"\u001b[0m\u001b[0;34m]\u001b[0m \u001b[0;34m=\u001b[0m \u001b[0mfit_results\u001b[0m\u001b[0;34m.\u001b[0m\u001b[0mpredict\u001b[0m\u001b[0;34m(\u001b[0m\u001b[0;34m)\u001b[0m\u001b[0;34m\u001b[0m\u001b[0;34m\u001b[0m\u001b[0m\n\u001b[1;32m    215\u001b[0m                         \u001b[0mhover_header\u001b[0m \u001b[0;34m=\u001b[0m \u001b[0;34m\"<b>OLS trendline</b><br>\"\u001b[0m\u001b[0;34m\u001b[0m\u001b[0;34m\u001b[0m\u001b[0m\n",
            "\u001b[0;32m/usr/local/lib/python3.6/dist-packages/statsmodels/regression/linear_model.py\u001b[0m in \u001b[0;36m__init__\u001b[0;34m(self, endog, exog, missing, hasconst, **kwargs)\u001b[0m\n\u001b[1;32m    836\u001b[0m                  **kwargs):\n\u001b[1;32m    837\u001b[0m         super(OLS, self).__init__(endog, exog, missing=missing,\n\u001b[0;32m--> 838\u001b[0;31m                                   hasconst=hasconst, **kwargs)\n\u001b[0m\u001b[1;32m    839\u001b[0m         \u001b[0;32mif\u001b[0m \u001b[0;34m\"weights\"\u001b[0m \u001b[0;32min\u001b[0m \u001b[0mself\u001b[0m\u001b[0;34m.\u001b[0m\u001b[0m_init_keys\u001b[0m\u001b[0;34m:\u001b[0m\u001b[0;34m\u001b[0m\u001b[0;34m\u001b[0m\u001b[0m\n\u001b[1;32m    840\u001b[0m             \u001b[0mself\u001b[0m\u001b[0;34m.\u001b[0m\u001b[0m_init_keys\u001b[0m\u001b[0;34m.\u001b[0m\u001b[0mremove\u001b[0m\u001b[0;34m(\u001b[0m\u001b[0;34m\"weights\"\u001b[0m\u001b[0;34m)\u001b[0m\u001b[0;34m\u001b[0m\u001b[0;34m\u001b[0m\u001b[0m\n",
            "\u001b[0;32m/usr/local/lib/python3.6/dist-packages/statsmodels/regression/linear_model.py\u001b[0m in \u001b[0;36m__init__\u001b[0;34m(self, endog, exog, weights, missing, hasconst, **kwargs)\u001b[0m\n\u001b[1;32m    682\u001b[0m             \u001b[0mweights\u001b[0m \u001b[0;34m=\u001b[0m \u001b[0mweights\u001b[0m\u001b[0;34m.\u001b[0m\u001b[0msqueeze\u001b[0m\u001b[0;34m(\u001b[0m\u001b[0;34m)\u001b[0m\u001b[0;34m\u001b[0m\u001b[0;34m\u001b[0m\u001b[0m\n\u001b[1;32m    683\u001b[0m         super(WLS, self).__init__(endog, exog, missing=missing,\n\u001b[0;32m--> 684\u001b[0;31m                                   weights=weights, hasconst=hasconst, **kwargs)\n\u001b[0m\u001b[1;32m    685\u001b[0m         \u001b[0mnobs\u001b[0m \u001b[0;34m=\u001b[0m \u001b[0mself\u001b[0m\u001b[0;34m.\u001b[0m\u001b[0mexog\u001b[0m\u001b[0;34m.\u001b[0m\u001b[0mshape\u001b[0m\u001b[0;34m[\u001b[0m\u001b[0;36m0\u001b[0m\u001b[0;34m]\u001b[0m\u001b[0;34m\u001b[0m\u001b[0;34m\u001b[0m\u001b[0m\n\u001b[1;32m    686\u001b[0m         \u001b[0mweights\u001b[0m \u001b[0;34m=\u001b[0m \u001b[0mself\u001b[0m\u001b[0;34m.\u001b[0m\u001b[0mweights\u001b[0m\u001b[0;34m\u001b[0m\u001b[0;34m\u001b[0m\u001b[0m\n",
            "\u001b[0;32m/usr/local/lib/python3.6/dist-packages/statsmodels/regression/linear_model.py\u001b[0m in \u001b[0;36m__init__\u001b[0;34m(self, endog, exog, **kwargs)\u001b[0m\n\u001b[1;32m    194\u001b[0m     \"\"\"\n\u001b[1;32m    195\u001b[0m     \u001b[0;32mdef\u001b[0m \u001b[0m__init__\u001b[0m\u001b[0;34m(\u001b[0m\u001b[0mself\u001b[0m\u001b[0;34m,\u001b[0m \u001b[0mendog\u001b[0m\u001b[0;34m,\u001b[0m \u001b[0mexog\u001b[0m\u001b[0;34m,\u001b[0m \u001b[0;34m**\u001b[0m\u001b[0mkwargs\u001b[0m\u001b[0;34m)\u001b[0m\u001b[0;34m:\u001b[0m\u001b[0;34m\u001b[0m\u001b[0;34m\u001b[0m\u001b[0m\n\u001b[0;32m--> 196\u001b[0;31m         \u001b[0msuper\u001b[0m\u001b[0;34m(\u001b[0m\u001b[0mRegressionModel\u001b[0m\u001b[0;34m,\u001b[0m \u001b[0mself\u001b[0m\u001b[0;34m)\u001b[0m\u001b[0;34m.\u001b[0m\u001b[0m__init__\u001b[0m\u001b[0;34m(\u001b[0m\u001b[0mendog\u001b[0m\u001b[0;34m,\u001b[0m \u001b[0mexog\u001b[0m\u001b[0;34m,\u001b[0m \u001b[0;34m**\u001b[0m\u001b[0mkwargs\u001b[0m\u001b[0;34m)\u001b[0m\u001b[0;34m\u001b[0m\u001b[0;34m\u001b[0m\u001b[0m\n\u001b[0m\u001b[1;32m    197\u001b[0m         \u001b[0mself\u001b[0m\u001b[0;34m.\u001b[0m\u001b[0m_data_attr\u001b[0m\u001b[0;34m.\u001b[0m\u001b[0mextend\u001b[0m\u001b[0;34m(\u001b[0m\u001b[0;34m[\u001b[0m\u001b[0;34m'pinv_wexog'\u001b[0m\u001b[0;34m,\u001b[0m \u001b[0;34m'wendog'\u001b[0m\u001b[0;34m,\u001b[0m \u001b[0;34m'wexog'\u001b[0m\u001b[0;34m,\u001b[0m \u001b[0;34m'weights'\u001b[0m\u001b[0;34m]\u001b[0m\u001b[0;34m)\u001b[0m\u001b[0;34m\u001b[0m\u001b[0;34m\u001b[0m\u001b[0m\n\u001b[1;32m    198\u001b[0m \u001b[0;34m\u001b[0m\u001b[0m\n",
            "\u001b[0;32m/usr/local/lib/python3.6/dist-packages/statsmodels/base/model.py\u001b[0m in \u001b[0;36m__init__\u001b[0;34m(self, endog, exog, **kwargs)\u001b[0m\n\u001b[1;32m    214\u001b[0m \u001b[0;34m\u001b[0m\u001b[0m\n\u001b[1;32m    215\u001b[0m     \u001b[0;32mdef\u001b[0m \u001b[0m__init__\u001b[0m\u001b[0;34m(\u001b[0m\u001b[0mself\u001b[0m\u001b[0;34m,\u001b[0m \u001b[0mendog\u001b[0m\u001b[0;34m,\u001b[0m \u001b[0mexog\u001b[0m\u001b[0;34m=\u001b[0m\u001b[0;32mNone\u001b[0m\u001b[0;34m,\u001b[0m \u001b[0;34m**\u001b[0m\u001b[0mkwargs\u001b[0m\u001b[0;34m)\u001b[0m\u001b[0;34m:\u001b[0m\u001b[0;34m\u001b[0m\u001b[0;34m\u001b[0m\u001b[0m\n\u001b[0;32m--> 216\u001b[0;31m         \u001b[0msuper\u001b[0m\u001b[0;34m(\u001b[0m\u001b[0mLikelihoodModel\u001b[0m\u001b[0;34m,\u001b[0m \u001b[0mself\u001b[0m\u001b[0;34m)\u001b[0m\u001b[0;34m.\u001b[0m\u001b[0m__init__\u001b[0m\u001b[0;34m(\u001b[0m\u001b[0mendog\u001b[0m\u001b[0;34m,\u001b[0m \u001b[0mexog\u001b[0m\u001b[0;34m,\u001b[0m \u001b[0;34m**\u001b[0m\u001b[0mkwargs\u001b[0m\u001b[0;34m)\u001b[0m\u001b[0;34m\u001b[0m\u001b[0;34m\u001b[0m\u001b[0m\n\u001b[0m\u001b[1;32m    217\u001b[0m         \u001b[0mself\u001b[0m\u001b[0;34m.\u001b[0m\u001b[0minitialize\u001b[0m\u001b[0;34m(\u001b[0m\u001b[0;34m)\u001b[0m\u001b[0;34m\u001b[0m\u001b[0;34m\u001b[0m\u001b[0m\n\u001b[1;32m    218\u001b[0m \u001b[0;34m\u001b[0m\u001b[0m\n",
            "\u001b[0;32m/usr/local/lib/python3.6/dist-packages/statsmodels/base/model.py\u001b[0m in \u001b[0;36m__init__\u001b[0;34m(self, endog, exog, **kwargs)\u001b[0m\n\u001b[1;32m     66\u001b[0m         \u001b[0mhasconst\u001b[0m \u001b[0;34m=\u001b[0m \u001b[0mkwargs\u001b[0m\u001b[0;34m.\u001b[0m\u001b[0mpop\u001b[0m\u001b[0;34m(\u001b[0m\u001b[0;34m'hasconst'\u001b[0m\u001b[0;34m,\u001b[0m \u001b[0;32mNone\u001b[0m\u001b[0;34m)\u001b[0m\u001b[0;34m\u001b[0m\u001b[0;34m\u001b[0m\u001b[0m\n\u001b[1;32m     67\u001b[0m         self.data = self._handle_data(endog, exog, missing, hasconst,\n\u001b[0;32m---> 68\u001b[0;31m                                       **kwargs)\n\u001b[0m\u001b[1;32m     69\u001b[0m         \u001b[0mself\u001b[0m\u001b[0;34m.\u001b[0m\u001b[0mk_constant\u001b[0m \u001b[0;34m=\u001b[0m \u001b[0mself\u001b[0m\u001b[0;34m.\u001b[0m\u001b[0mdata\u001b[0m\u001b[0;34m.\u001b[0m\u001b[0mk_constant\u001b[0m\u001b[0;34m\u001b[0m\u001b[0;34m\u001b[0m\u001b[0m\n\u001b[1;32m     70\u001b[0m         \u001b[0mself\u001b[0m\u001b[0;34m.\u001b[0m\u001b[0mexog\u001b[0m \u001b[0;34m=\u001b[0m \u001b[0mself\u001b[0m\u001b[0;34m.\u001b[0m\u001b[0mdata\u001b[0m\u001b[0;34m.\u001b[0m\u001b[0mexog\u001b[0m\u001b[0;34m\u001b[0m\u001b[0;34m\u001b[0m\u001b[0m\n",
            "\u001b[0;32m/usr/local/lib/python3.6/dist-packages/statsmodels/base/model.py\u001b[0m in \u001b[0;36m_handle_data\u001b[0;34m(self, endog, exog, missing, hasconst, **kwargs)\u001b[0m\n\u001b[1;32m     89\u001b[0m \u001b[0;34m\u001b[0m\u001b[0m\n\u001b[1;32m     90\u001b[0m     \u001b[0;32mdef\u001b[0m \u001b[0m_handle_data\u001b[0m\u001b[0;34m(\u001b[0m\u001b[0mself\u001b[0m\u001b[0;34m,\u001b[0m \u001b[0mendog\u001b[0m\u001b[0;34m,\u001b[0m \u001b[0mexog\u001b[0m\u001b[0;34m,\u001b[0m \u001b[0mmissing\u001b[0m\u001b[0;34m,\u001b[0m \u001b[0mhasconst\u001b[0m\u001b[0;34m,\u001b[0m \u001b[0;34m**\u001b[0m\u001b[0mkwargs\u001b[0m\u001b[0;34m)\u001b[0m\u001b[0;34m:\u001b[0m\u001b[0;34m\u001b[0m\u001b[0;34m\u001b[0m\u001b[0m\n\u001b[0;32m---> 91\u001b[0;31m         \u001b[0mdata\u001b[0m \u001b[0;34m=\u001b[0m \u001b[0mhandle_data\u001b[0m\u001b[0;34m(\u001b[0m\u001b[0mendog\u001b[0m\u001b[0;34m,\u001b[0m \u001b[0mexog\u001b[0m\u001b[0;34m,\u001b[0m \u001b[0mmissing\u001b[0m\u001b[0;34m,\u001b[0m \u001b[0mhasconst\u001b[0m\u001b[0;34m,\u001b[0m \u001b[0;34m**\u001b[0m\u001b[0mkwargs\u001b[0m\u001b[0;34m)\u001b[0m\u001b[0;34m\u001b[0m\u001b[0;34m\u001b[0m\u001b[0m\n\u001b[0m\u001b[1;32m     92\u001b[0m         \u001b[0;31m# kwargs arrays could have changed, easier to just attach here\u001b[0m\u001b[0;34m\u001b[0m\u001b[0;34m\u001b[0m\u001b[0;34m\u001b[0m\u001b[0m\n\u001b[1;32m     93\u001b[0m         \u001b[0;32mfor\u001b[0m \u001b[0mkey\u001b[0m \u001b[0;32min\u001b[0m \u001b[0mkwargs\u001b[0m\u001b[0;34m:\u001b[0m\u001b[0;34m\u001b[0m\u001b[0;34m\u001b[0m\u001b[0m\n",
            "\u001b[0;32m/usr/local/lib/python3.6/dist-packages/statsmodels/base/data.py\u001b[0m in \u001b[0;36mhandle_data\u001b[0;34m(endog, exog, missing, hasconst, **kwargs)\u001b[0m\n\u001b[1;32m    633\u001b[0m     \u001b[0mklass\u001b[0m \u001b[0;34m=\u001b[0m \u001b[0mhandle_data_class_factory\u001b[0m\u001b[0;34m(\u001b[0m\u001b[0mendog\u001b[0m\u001b[0;34m,\u001b[0m \u001b[0mexog\u001b[0m\u001b[0;34m)\u001b[0m\u001b[0;34m\u001b[0m\u001b[0;34m\u001b[0m\u001b[0m\n\u001b[1;32m    634\u001b[0m     return klass(endog, exog=exog, missing=missing, hasconst=hasconst,\n\u001b[0;32m--> 635\u001b[0;31m                  **kwargs)\n\u001b[0m",
            "\u001b[0;32m/usr/local/lib/python3.6/dist-packages/statsmodels/base/data.py\u001b[0m in \u001b[0;36m__init__\u001b[0;34m(self, endog, exog, missing, hasconst, **kwargs)\u001b[0m\n\u001b[1;32m     74\u001b[0m             \u001b[0mself\u001b[0m\u001b[0;34m.\u001b[0m\u001b[0morig_endog\u001b[0m \u001b[0;34m=\u001b[0m \u001b[0mendog\u001b[0m\u001b[0;34m\u001b[0m\u001b[0;34m\u001b[0m\u001b[0m\n\u001b[1;32m     75\u001b[0m             \u001b[0mself\u001b[0m\u001b[0;34m.\u001b[0m\u001b[0morig_exog\u001b[0m \u001b[0;34m=\u001b[0m \u001b[0mexog\u001b[0m\u001b[0;34m\u001b[0m\u001b[0;34m\u001b[0m\u001b[0m\n\u001b[0;32m---> 76\u001b[0;31m             \u001b[0mself\u001b[0m\u001b[0;34m.\u001b[0m\u001b[0mendog\u001b[0m\u001b[0;34m,\u001b[0m \u001b[0mself\u001b[0m\u001b[0;34m.\u001b[0m\u001b[0mexog\u001b[0m \u001b[0;34m=\u001b[0m \u001b[0mself\u001b[0m\u001b[0;34m.\u001b[0m\u001b[0m_convert_endog_exog\u001b[0m\u001b[0;34m(\u001b[0m\u001b[0mendog\u001b[0m\u001b[0;34m,\u001b[0m \u001b[0mexog\u001b[0m\u001b[0;34m)\u001b[0m\u001b[0;34m\u001b[0m\u001b[0;34m\u001b[0m\u001b[0m\n\u001b[0m\u001b[1;32m     77\u001b[0m \u001b[0;34m\u001b[0m\u001b[0m\n\u001b[1;32m     78\u001b[0m         \u001b[0mself\u001b[0m\u001b[0;34m.\u001b[0m\u001b[0mconst_idx\u001b[0m \u001b[0;34m=\u001b[0m \u001b[0;32mNone\u001b[0m\u001b[0;34m\u001b[0m\u001b[0;34m\u001b[0m\u001b[0m\n",
            "\u001b[0;32m/usr/local/lib/python3.6/dist-packages/statsmodels/base/data.py\u001b[0m in \u001b[0;36m_convert_endog_exog\u001b[0;34m(self, endog, exog)\u001b[0m\n\u001b[1;32m    473\u001b[0m         \u001b[0mexog\u001b[0m \u001b[0;34m=\u001b[0m \u001b[0mexog\u001b[0m \u001b[0;32mif\u001b[0m \u001b[0mexog\u001b[0m \u001b[0;32mis\u001b[0m \u001b[0;32mNone\u001b[0m \u001b[0;32melse\u001b[0m \u001b[0mnp\u001b[0m\u001b[0;34m.\u001b[0m\u001b[0masarray\u001b[0m\u001b[0;34m(\u001b[0m\u001b[0mexog\u001b[0m\u001b[0;34m)\u001b[0m\u001b[0;34m\u001b[0m\u001b[0;34m\u001b[0m\u001b[0m\n\u001b[1;32m    474\u001b[0m         \u001b[0;32mif\u001b[0m \u001b[0mendog\u001b[0m\u001b[0;34m.\u001b[0m\u001b[0mdtype\u001b[0m \u001b[0;34m==\u001b[0m \u001b[0mobject\u001b[0m \u001b[0;32mor\u001b[0m \u001b[0mexog\u001b[0m \u001b[0;32mis\u001b[0m \u001b[0;32mnot\u001b[0m \u001b[0;32mNone\u001b[0m \u001b[0;32mand\u001b[0m \u001b[0mexog\u001b[0m\u001b[0;34m.\u001b[0m\u001b[0mdtype\u001b[0m \u001b[0;34m==\u001b[0m \u001b[0mobject\u001b[0m\u001b[0;34m:\u001b[0m\u001b[0;34m\u001b[0m\u001b[0;34m\u001b[0m\u001b[0m\n\u001b[0;32m--> 475\u001b[0;31m             raise ValueError(\"Pandas data cast to numpy dtype of object. \"\n\u001b[0m\u001b[1;32m    476\u001b[0m                              \"Check input data with np.asarray(data).\")\n\u001b[1;32m    477\u001b[0m         \u001b[0;32mreturn\u001b[0m \u001b[0msuper\u001b[0m\u001b[0;34m(\u001b[0m\u001b[0mPandasData\u001b[0m\u001b[0;34m,\u001b[0m \u001b[0mself\u001b[0m\u001b[0;34m)\u001b[0m\u001b[0;34m.\u001b[0m\u001b[0m_convert_endog_exog\u001b[0m\u001b[0;34m(\u001b[0m\u001b[0mendog\u001b[0m\u001b[0;34m,\u001b[0m \u001b[0mexog\u001b[0m\u001b[0;34m)\u001b[0m\u001b[0;34m\u001b[0m\u001b[0;34m\u001b[0m\u001b[0m\n",
            "\u001b[0;31mValueError\u001b[0m: Pandas data cast to numpy dtype of object. Check input data with np.asarray(data)."
          ]
        }
      ]
    },
    {
      "cell_type": "code",
      "metadata": {
        "id": "DpJuxJn-6DIC",
        "colab_type": "code",
        "outputId": "f1a11238-f00e-4a60-f5ca-c927958c45e4",
        "colab": {
          "base_uri": "https://localhost:8080/",
          "height": 663
        }
      },
      "source": [
        "data = vc = df3['OFFENSE_CODE'].value_counts()\n",
        "print (vc[vc > 2000])\n"
      ],
      "execution_count": 0,
      "outputs": [
        {
          "output_type": "stream",
          "text": [
            "3006    18783\n",
            "3115    18754\n",
            "3831    16323\n",
            "1402    15154\n",
            "802     14799\n",
            "3301    13099\n",
            "3410    11287\n",
            "3114    11124\n",
            "617      9074\n",
            "2647     9042\n",
            "614      8894\n",
            "3201     8893\n",
            "3125     8407\n",
            "613      7953\n",
            "3802     6557\n",
            "619      5970\n",
            "3803     5131\n",
            "413      4887\n",
            "1102     4414\n",
            "3502     4365\n",
            "2629     4007\n",
            "3501     3766\n",
            "3207     3698\n",
            "724      3630\n",
            "2610     3254\n",
            "1106     3147\n",
            "301      3056\n",
            "3801     2925\n",
            "423      2911\n",
            "2900     2894\n",
            "2907     2616\n",
            "1849     2591\n",
            "520      2585\n",
            "3109     2559\n",
            "522      2359\n",
            "616      2268\n",
            "1843     2109\n",
            "Name: OFFENSE_CODE, dtype: int64\n"
          ],
          "name": "stdout"
        }
      ]
    },
    {
      "cell_type": "code",
      "metadata": {
        "id": "smJmqLYhxaQ3",
        "colab_type": "code",
        "outputId": "119f3511-0488-4001-f497-af5d03bf1c72",
        "colab": {
          "base_uri": "https://localhost:8080/",
          "height": 170
        }
      },
      "source": [
        "from pandas import read_csv\n",
        "dataset = read_csv('crime1.csv', header=None)\n",
        "print(dataset.describe())"
      ],
      "execution_count": 0,
      "outputs": [
        {
          "output_type": "stream",
          "text": [
            "/usr/local/lib/python3.6/dist-packages/IPython/core/interactiveshell.py:2718: DtypeWarning: Columns (1,8,9,11,14,15) have mixed types. Specify dtype option on import or set low_memory=False.\n",
            "  interactivity=interactivity, compiler=compiler, result=result)\n"
          ],
          "name": "stderr"
        },
        {
          "output_type": "stream",
          "text": [
            "                0       1   ...             15                        16\n",
            "count       319074  319074  ...  299075.000000                    319074\n",
            "unique      282518     399  ...   26435.000000                     18195\n",
            "top     I162030584    3115  ...     -71.082776  (0.00000000, 0.00000000)\n",
            "freq            13   16755  ...    1120.000000                     19999\n",
            "\n",
            "[4 rows x 17 columns]\n"
          ],
          "name": "stdout"
        }
      ]
    },
    {
      "cell_type": "code",
      "metadata": {
        "id": "C4fRHWBKu0dc",
        "colab_type": "code",
        "outputId": "2e1b2222-74a2-4883-d109-43e517563731",
        "colab": {
          "base_uri": "https://localhost:8080/",
          "height": 391
        }
      },
      "source": [
        "df3.info()"
      ],
      "execution_count": 0,
      "outputs": [
        {
          "output_type": "stream",
          "text": [
            "<class 'pandas.core.frame.DataFrame'>\n",
            "RangeIndex: 319073 entries, 0 to 319072\n",
            "Data columns (total 17 columns):\n",
            "INCIDENT_NUMBER        319073 non-null object\n",
            "OFFENSE_CODE           319073 non-null int64\n",
            "OFFENSE_CODE_GROUP     319073 non-null object\n",
            "OFFENSE_DESCRIPTION    319073 non-null object\n",
            "DISTRICT               317308 non-null object\n",
            "REPORTING_AREA         319073 non-null object\n",
            "SHOOTING               1019 non-null object\n",
            "OCCURRED_ON_DATE       319073 non-null object\n",
            "YEAR                   319073 non-null int64\n",
            "MONTH                  319073 non-null int64\n",
            "DAY_OF_WEEK            319073 non-null object\n",
            "HOUR                   319073 non-null int64\n",
            "UCR_PART               318983 non-null object\n",
            "STREET                 308202 non-null object\n",
            "Lat                    299074 non-null float64\n",
            "Long                   299074 non-null float64\n",
            "Location               319073 non-null object\n",
            "dtypes: float64(2), int64(4), object(11)\n",
            "memory usage: 41.4+ MB\n"
          ],
          "name": "stdout"
        }
      ]
    },
    {
      "cell_type": "code",
      "metadata": {
        "id": "nbmo8FUPvFBE",
        "colab_type": "code",
        "outputId": "cd848965-1d2c-4bc4-977d-fa6fae36e545",
        "colab": {
          "base_uri": "https://localhost:8080/",
          "height": 235
        }
      },
      "source": [
        "df3.describe().T"
      ],
      "execution_count": 0,
      "outputs": [
        {
          "output_type": "execute_result",
          "data": {
            "text/html": [
              "<div>\n",
              "<style scoped>\n",
              "    .dataframe tbody tr th:only-of-type {\n",
              "        vertical-align: middle;\n",
              "    }\n",
              "\n",
              "    .dataframe tbody tr th {\n",
              "        vertical-align: top;\n",
              "    }\n",
              "\n",
              "    .dataframe thead th {\n",
              "        text-align: right;\n",
              "    }\n",
              "</style>\n",
              "<table border=\"1\" class=\"dataframe\">\n",
              "  <thead>\n",
              "    <tr style=\"text-align: right;\">\n",
              "      <th></th>\n",
              "      <th>count</th>\n",
              "      <th>mean</th>\n",
              "      <th>std</th>\n",
              "      <th>min</th>\n",
              "      <th>25%</th>\n",
              "      <th>50%</th>\n",
              "      <th>75%</th>\n",
              "      <th>max</th>\n",
              "    </tr>\n",
              "  </thead>\n",
              "  <tbody>\n",
              "    <tr>\n",
              "      <th>OFFENSE_CODE</th>\n",
              "      <td>319073.0</td>\n",
              "      <td>2317.546956</td>\n",
              "      <td>1185.285543</td>\n",
              "      <td>111.000000</td>\n",
              "      <td>1001.000000</td>\n",
              "      <td>2907.000000</td>\n",
              "      <td>3201.000000</td>\n",
              "      <td>3831.000000</td>\n",
              "    </tr>\n",
              "    <tr>\n",
              "      <th>YEAR</th>\n",
              "      <td>319073.0</td>\n",
              "      <td>2016.560586</td>\n",
              "      <td>0.996344</td>\n",
              "      <td>2015.000000</td>\n",
              "      <td>2016.000000</td>\n",
              "      <td>2017.000000</td>\n",
              "      <td>2017.000000</td>\n",
              "      <td>2018.000000</td>\n",
              "    </tr>\n",
              "    <tr>\n",
              "      <th>MONTH</th>\n",
              "      <td>319073.0</td>\n",
              "      <td>6.609719</td>\n",
              "      <td>3.273691</td>\n",
              "      <td>1.000000</td>\n",
              "      <td>4.000000</td>\n",
              "      <td>7.000000</td>\n",
              "      <td>9.000000</td>\n",
              "      <td>12.000000</td>\n",
              "    </tr>\n",
              "    <tr>\n",
              "      <th>HOUR</th>\n",
              "      <td>319073.0</td>\n",
              "      <td>13.118205</td>\n",
              "      <td>6.294205</td>\n",
              "      <td>0.000000</td>\n",
              "      <td>9.000000</td>\n",
              "      <td>14.000000</td>\n",
              "      <td>18.000000</td>\n",
              "      <td>23.000000</td>\n",
              "    </tr>\n",
              "    <tr>\n",
              "      <th>Lat</th>\n",
              "      <td>299074.0</td>\n",
              "      <td>42.214381</td>\n",
              "      <td>2.159766</td>\n",
              "      <td>-1.000000</td>\n",
              "      <td>42.297442</td>\n",
              "      <td>42.325538</td>\n",
              "      <td>42.348624</td>\n",
              "      <td>42.395042</td>\n",
              "    </tr>\n",
              "    <tr>\n",
              "      <th>Long</th>\n",
              "      <td>299074.0</td>\n",
              "      <td>-70.908272</td>\n",
              "      <td>3.493618</td>\n",
              "      <td>-71.178674</td>\n",
              "      <td>-71.097135</td>\n",
              "      <td>-71.077524</td>\n",
              "      <td>-71.062467</td>\n",
              "      <td>-1.000000</td>\n",
              "    </tr>\n",
              "  </tbody>\n",
              "</table>\n",
              "</div>"
            ],
            "text/plain": [
              "                 count         mean  ...          75%          max\n",
              "OFFENSE_CODE  319073.0  2317.546956  ...  3201.000000  3831.000000\n",
              "YEAR          319073.0  2016.560586  ...  2017.000000  2018.000000\n",
              "MONTH         319073.0     6.609719  ...     9.000000    12.000000\n",
              "HOUR          319073.0    13.118205  ...    18.000000    23.000000\n",
              "Lat           299074.0    42.214381  ...    42.348624    42.395042\n",
              "Long          299074.0   -70.908272  ...   -71.062467    -1.000000\n",
              "\n",
              "[6 rows x 8 columns]"
            ]
          },
          "metadata": {
            "tags": []
          },
          "execution_count": 18
        }
      ]
    },
    {
      "cell_type": "code",
      "metadata": {
        "id": "H7WGVJqz9FkZ",
        "colab_type": "code",
        "outputId": "f343e065-adc9-41b6-9dcb-46d20433ef63",
        "colab": {
          "base_uri": "https://localhost:8080/",
          "height": 335
        }
      },
      "source": [
        "sns.catplot(y='vc',\n",
        "           kind='count',\n",
        "            height=10, \n",
        "            aspect=2,\n",
        "            order=df3.vc.value_counts().index,\n",
        "           data=df3)\n"
      ],
      "execution_count": 0,
      "outputs": [
        {
          "output_type": "error",
          "ename": "AttributeError",
          "evalue": "ignored",
          "traceback": [
            "\u001b[0;31m---------------------------------------------------------------------------\u001b[0m",
            "\u001b[0;31mAttributeError\u001b[0m                            Traceback (most recent call last)",
            "\u001b[0;32m<ipython-input-14-88807d11b7e2>\u001b[0m in \u001b[0;36m<module>\u001b[0;34m()\u001b[0m\n\u001b[1;32m      3\u001b[0m             \u001b[0mheight\u001b[0m\u001b[0;34m=\u001b[0m\u001b[0;36m10\u001b[0m\u001b[0;34m,\u001b[0m\u001b[0;34m\u001b[0m\u001b[0;34m\u001b[0m\u001b[0m\n\u001b[1;32m      4\u001b[0m             \u001b[0maspect\u001b[0m\u001b[0;34m=\u001b[0m\u001b[0;36m2\u001b[0m\u001b[0;34m,\u001b[0m\u001b[0;34m\u001b[0m\u001b[0;34m\u001b[0m\u001b[0m\n\u001b[0;32m----> 5\u001b[0;31m             \u001b[0morder\u001b[0m\u001b[0;34m=\u001b[0m\u001b[0mdf3\u001b[0m\u001b[0;34m.\u001b[0m\u001b[0mvc\u001b[0m\u001b[0;34m.\u001b[0m\u001b[0mvalue_counts\u001b[0m\u001b[0;34m(\u001b[0m\u001b[0;34m)\u001b[0m\u001b[0;34m.\u001b[0m\u001b[0mindex\u001b[0m\u001b[0;34m,\u001b[0m\u001b[0;34m\u001b[0m\u001b[0;34m\u001b[0m\u001b[0m\n\u001b[0m\u001b[1;32m      6\u001b[0m            data=df3)\n",
            "\u001b[0;32m/usr/local/lib/python3.6/dist-packages/pandas/core/generic.py\u001b[0m in \u001b[0;36m__getattr__\u001b[0;34m(self, name)\u001b[0m\n\u001b[1;32m   5065\u001b[0m             \u001b[0;32mif\u001b[0m \u001b[0mself\u001b[0m\u001b[0;34m.\u001b[0m\u001b[0m_info_axis\u001b[0m\u001b[0;34m.\u001b[0m\u001b[0m_can_hold_identifiers_and_holds_name\u001b[0m\u001b[0;34m(\u001b[0m\u001b[0mname\u001b[0m\u001b[0;34m)\u001b[0m\u001b[0;34m:\u001b[0m\u001b[0;34m\u001b[0m\u001b[0;34m\u001b[0m\u001b[0m\n\u001b[1;32m   5066\u001b[0m                 \u001b[0;32mreturn\u001b[0m \u001b[0mself\u001b[0m\u001b[0;34m[\u001b[0m\u001b[0mname\u001b[0m\u001b[0;34m]\u001b[0m\u001b[0;34m\u001b[0m\u001b[0;34m\u001b[0m\u001b[0m\n\u001b[0;32m-> 5067\u001b[0;31m             \u001b[0;32mreturn\u001b[0m \u001b[0mobject\u001b[0m\u001b[0;34m.\u001b[0m\u001b[0m__getattribute__\u001b[0m\u001b[0;34m(\u001b[0m\u001b[0mself\u001b[0m\u001b[0;34m,\u001b[0m \u001b[0mname\u001b[0m\u001b[0;34m)\u001b[0m\u001b[0;34m\u001b[0m\u001b[0;34m\u001b[0m\u001b[0m\n\u001b[0m\u001b[1;32m   5068\u001b[0m \u001b[0;34m\u001b[0m\u001b[0m\n\u001b[1;32m   5069\u001b[0m     \u001b[0;32mdef\u001b[0m \u001b[0m__setattr__\u001b[0m\u001b[0;34m(\u001b[0m\u001b[0mself\u001b[0m\u001b[0;34m,\u001b[0m \u001b[0mname\u001b[0m\u001b[0;34m,\u001b[0m \u001b[0mvalue\u001b[0m\u001b[0;34m)\u001b[0m\u001b[0;34m:\u001b[0m\u001b[0;34m\u001b[0m\u001b[0;34m\u001b[0m\u001b[0m\n",
            "\u001b[0;31mAttributeError\u001b[0m: 'DataFrame' object has no attribute 'vc'"
          ]
        }
      ]
    },
    {
      "cell_type": "code",
      "metadata": {
        "id": "DT5rp6b6iGCK",
        "colab_type": "code",
        "outputId": "8dfc3ed1-fe00-4ec8-db49-9582fbb34f18",
        "colab": {
          "base_uri": "https://localhost:8080/",
          "height": 286
        }
      },
      "source": [
        "df3['OFFENSE_CODE'].hist(bins=100)"
      ],
      "execution_count": 0,
      "outputs": [
        {
          "output_type": "execute_result",
          "data": {
            "text/plain": [
              "<matplotlib.axes._subplots.AxesSubplot at 0x7f1395ec3550>"
            ]
          },
          "metadata": {
            "tags": []
          },
          "execution_count": 37
        },
        {
          "output_type": "display_data",
          "data": {
            "image/png": "[encoded data removed]",
            "text/plain": [
              "<Figure size 432x288 with 1 Axes>"
            ]
          },
          "metadata": {
            "tags": []
          }
        }
      ]
    },
    {
      "cell_type": "code",
      "metadata": {
        "id": "ZHGHSuTl1qci",
        "colab_type": "code",
        "outputId": "7c3f5085-0681-4248-e8f2-e85e7d7d5161",
        "colab": {
          "base_uri": "https://localhost:8080/",
          "height": 760
        }
      },
      "source": [
        "# Countplot for crime types\n",
        "data = pd.read_csv(\"crime1.csv\", index_col=\"INCIDENT_NUMBER\")\n",
        "\n",
        "sns.catplot(y='OFFENSE_CODE',\n",
        "           kind='count',\n",
        "            height=8, \n",
        "            aspect=1.5,\n",
        "            order=data.OFFENSE_CODE.value_counts().index,\n",
        "           data=data)"
      ],
      "execution_count": 0,
      "outputs": [
        {
          "output_type": "execute_result",
          "data": {
            "text/plain": [
              "<seaborn.axisgrid.FacetGrid at 0x7f139033e5c0>"
            ]
          },
          "metadata": {
            "tags": []
          },
          "execution_count": 42
        },
        {
          "output_type": "display_data",
          "data": {
            "image/png": "[encoded data removed]",
            "text/plain": [
              "<Figure size 1440x720 with 1 Axes>"
            ]
          },
          "metadata": {
            "tags": []
          }
        }
      ]
    },
    {
      "cell_type": "code",
      "metadata": {
        "id": "iZYv_IxIpzJI",
        "colab_type": "code",
        "outputId": "de16eb18-d7a1-446b-b3f9-24cc496f26b8",
        "colab": {
          "base_uri": "https://localhost:8080/",
          "height": 286
        }
      },
      "source": [
        "df3.boxplot(column='HOUR')"
      ],
      "execution_count": 0,
      "outputs": [
        {
          "output_type": "execute_result",
          "data": {
            "text/plain": [
              "<matplotlib.axes._subplots.AxesSubplot at 0x7f79190dd048>"
            ]
          },
          "metadata": {
            "tags": []
          },
          "execution_count": 14
        },
        {
          "output_type": "display_data",
          "data": {
            "image/png": "[encoded data removed]",
            "text/plain": [
              "<Figure size 432x288 with 1 Axes>"
            ]
          },
          "metadata": {
            "tags": []
          }
        }
      ]
    },
    {
      "cell_type": "code",
      "metadata": {
        "id": "XjRPIUY6qFoi",
        "colab_type": "code",
        "outputId": "eced7da6-dcb9-40c1-83e5-4ff5139d0659",
        "colab": {
          "base_uri": "https://localhost:8080/",
          "height": 319
        }
      },
      "source": [
        "df3.boxplot(column='HOUR', by = 'DAY_OF_WEEK')"
      ],
      "execution_count": 0,
      "outputs": [
        {
          "output_type": "execute_result",
          "data": {
            "text/plain": [
              "<matplotlib.axes._subplots.AxesSubplot at 0x7f792ff302b0>"
            ]
          },
          "metadata": {
            "tags": []
          },
          "execution_count": 17
        },
        {
          "output_type": "display_data",
          "data": {
            "image/png": "[encoded data removed]",
            "text/plain": [
              "<Figure size 432x288 with 1 Axes>"
            ]
          },
          "metadata": {
            "tags": []
          }
        }
      ]
    },
    {
      "cell_type": "code",
      "metadata": {
        "id": "oFnEEFI8qu-1",
        "colab_type": "code",
        "outputId": "c4f03e30-405f-40f2-cc10-de93251c2449",
        "colab": {
          "base_uri": "https://localhost:8080/",
          "height": 286
        }
      },
      "source": [
        "df3['HOUR'].hist(bins=50)"
      ],
      "execution_count": 0,
      "outputs": [
        {
          "output_type": "execute_result",
          "data": {
            "text/plain": [
              "<matplotlib.axes._subplots.AxesSubplot at 0x7f792f42bba8>"
            ]
          },
          "metadata": {
            "tags": []
          },
          "execution_count": 21
        },
        {
          "output_type": "display_data",
          "data": {
            "image/png": "[encoded data removed]",
            "text/plain": [
              "<Figure size 432x288 with 1 Axes>"
            ]
          },
          "metadata": {
            "tags": []
          }
        }
      ]
    },
    {
      "cell_type": "code",
      "metadata": {
        "id": "QVAghuZIrHk3",
        "colab_type": "code",
        "outputId": "5f5db3c8-2e60-4e7b-86e6-392836f21127",
        "colab": {
          "base_uri": "https://localhost:8080/",
          "height": 286
        }
      },
      "source": [
        "df3.boxplot(column='HOUR')"
      ],
      "execution_count": 0,
      "outputs": [
        {
          "output_type": "execute_result",
          "data": {
            "text/plain": [
              "<matplotlib.axes._subplots.AxesSubplot at 0x7f792f317a90>"
            ]
          },
          "metadata": {
            "tags": []
          },
          "execution_count": 23
        },
        {
          "output_type": "display_data",
          "data": {
            "image/png": "[encoded data removed]",
            "text/plain": [
              "<Figure size 432x288 with 1 Axes>"
            ]
          },
          "metadata": {
            "tags": []
          }
        }
      ]
    },
    {
      "cell_type": "code",
      "metadata": {
        "id": "oCUiU4ezrwEY",
        "colab_type": "code",
        "outputId": "f72b9362-ff87-41ab-8aa0-eb51a3642365",
        "colab": {
          "base_uri": "https://localhost:8080/",
          "height": 1000
        }
      },
      "source": [
        "data = pd.read_csv(\"crime.csv\", index_col=\"INCIDENT_NUMBER\")\n",
        "\n",
        "\n",
        "\n",
        "def num_missing(x):\n",
        "  return sum(x.isnull())\n",
        "\n",
        "#Apply per column:\n",
        "print(\"missing values per column:\")\n",
        "print (data.apply(num_missing, axis=0))\n",
        "#axis=0 defines that function is to be applied on each column\n",
        "\n",
        "#Applying per row:\n",
        "print(\"\\nmissing values per row:\")\n",
        "print (data.apply(num_missing, axis=1)).head()\n",
        "#axis=1 defines that function is to be applied on each row"
      ],
      "execution_count": 0,
      "outputs": [
        {
          "output_type": "stream",
          "text": [
            "missing values per column:\n",
            "OFFENSE_CODE                0\n",
            "OFFENSE_CODE_GROUP          0\n",
            "OFFENSE_DESCRIPTION         0\n",
            "DISTRICT                 1765\n",
            "REPORTING_AREA              0\n",
            "SHOOTING               318054\n",
            "OCCURRED_ON_DATE            0\n",
            "YEAR                        0\n",
            "MONTH                       0\n",
            "DAY_OF_WEEK                 0\n",
            "HOUR                        0\n",
            "UCR_PART                   90\n",
            "STREET                  10871\n",
            "Lat                     19999\n",
            "Long                    19999\n",
            "Location                    0\n",
            "dtype: int64\n",
            "\n",
            "missing values per row:\n",
            "INCIDENT_NUMBER\n",
            "I182070945       1\n",
            "I182070943       1\n",
            "I182070941       1\n",
            "I182070940       1\n",
            "I182070938       1\n",
            "I182070936       1\n",
            "I182070933       1\n",
            "I182070932       1\n",
            "I182070931       1\n",
            "I182070929       1\n",
            "I182070928       1\n",
            "I182070927       1\n",
            "I182070923       1\n",
            "I182070922       1\n",
            "I182070921       1\n",
            "I182070920       3\n",
            "I182070919       1\n",
            "I182070918       1\n",
            "I182070917       1\n",
            "I182070915       1\n",
            "I182070913       2\n",
            "I182070911       1\n",
            "I182070910       1\n",
            "I182070909       1\n",
            "I182070908       1\n",
            "I182070906       3\n",
            "I182070905       1\n",
            "I182070904       1\n",
            "I182070904       1\n",
            "I182070903       1\n",
            "                ..\n",
            "I110551302-00    1\n",
            "I110551302-00    1\n",
            "I110372326-00    1\n",
            "I110372326-00    1\n",
            "I110261417-00    1\n",
            "I110261417-00    1\n",
            "I110177502-00    1\n",
            "I110177502-00    1\n",
            "I110177502-00    1\n",
            "I100636670-00    1\n",
            "I100636670-00    1\n",
            "I100340225-00    1\n",
            "I100340225-00    1\n",
            "I100222105-02    1\n",
            "I100033064-00    1\n",
            "I100033064-00    1\n",
            "I090321958-00    3\n",
            "I090321958-00    3\n",
            "I090317057-00    1\n",
            "I090317057-00    1\n",
            "I080542626-00    1\n",
            "I080542626-00    1\n",
            "I080542626-00    1\n",
            "I060168073-00    1\n",
            "I060168073-00    1\n",
            "I050310906-00    1\n",
            "I030217815-08    1\n",
            "I030217815-08    1\n",
            "I010370257-00    1\n",
            "142052550        1\n",
            "Length: 319073, dtype: int64\n"
          ],
          "name": "stdout"
        },
        {
          "output_type": "error",
          "ename": "AttributeError",
          "evalue": "ignored",
          "traceback": [
            "\u001b[0;31m---------------------------------------------------------------------------\u001b[0m",
            "\u001b[0;31mAttributeError\u001b[0m                            Traceback (most recent call last)",
            "\u001b[0;32m<ipython-input-34-96362c0fa596>\u001b[0m in \u001b[0;36m<module>\u001b[0;34m()\u001b[0m\n\u001b[1;32m     13\u001b[0m \u001b[0;31m#Applying per row:\u001b[0m\u001b[0;34m\u001b[0m\u001b[0;34m\u001b[0m\u001b[0;34m\u001b[0m\u001b[0m\n\u001b[1;32m     14\u001b[0m \u001b[0mprint\u001b[0m\u001b[0;34m(\u001b[0m\u001b[0;34m\"\\nmissing values per row:\"\u001b[0m\u001b[0;34m)\u001b[0m\u001b[0;34m\u001b[0m\u001b[0;34m\u001b[0m\u001b[0m\n\u001b[0;32m---> 15\u001b[0;31m \u001b[0mprint\u001b[0m \u001b[0;34m(\u001b[0m\u001b[0mdata\u001b[0m\u001b[0;34m.\u001b[0m\u001b[0mapply\u001b[0m\u001b[0;34m(\u001b[0m\u001b[0mnum_missing\u001b[0m\u001b[0;34m,\u001b[0m \u001b[0maxis\u001b[0m\u001b[0;34m=\u001b[0m\u001b[0;36m1\u001b[0m\u001b[0;34m)\u001b[0m\u001b[0;34m)\u001b[0m\u001b[0;34m.\u001b[0m\u001b[0mhead\u001b[0m\u001b[0;34m(\u001b[0m\u001b[0;34m)\u001b[0m\u001b[0;34m\u001b[0m\u001b[0;34m\u001b[0m\u001b[0m\n\u001b[0m\u001b[1;32m     16\u001b[0m \u001b[0;31m#axis=1 defines that function is to be applied on each row\u001b[0m\u001b[0;34m\u001b[0m\u001b[0;34m\u001b[0m\u001b[0;34m\u001b[0m\u001b[0m\n",
            "\u001b[0;31mAttributeError\u001b[0m: 'NoneType' object has no attribute 'head'"
          ]
        }
      ]
    },
    {
      "cell_type": "code",
      "metadata": {
        "id": "2Lrvla9hw3Wp",
        "colab_type": "code",
        "colab": {}
      },
      "source": [
        ""
      ],
      "execution_count": 0,
      "outputs": []
    }
  ]
}