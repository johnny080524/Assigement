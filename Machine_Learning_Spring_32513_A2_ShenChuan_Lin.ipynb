{
  "nbformat": 4,
  "nbformat_minor": 0,
  "metadata": {
    "colab": {
      "name": "Machine Learning Spring 32513 - A2 ShenChuan Lin.ipynb",
      "provenance": [],
      "collapsed_sections": [],
      "include_colab_link": true
    },
    "kernelspec": {
      "name": "python3",
      "display_name": "Python 3"
    },
    "accelerator": "GPU"
  },
  "cells": [
    {
      "cell_type": "markdown",
      "metadata": {
        "id": "view-in-github",
        "colab_type": "text"
      },
      "source": [
        "<a href=\"https://colab.research.google.com/github/johnny080524/Assigement/blob/master/Machine_Learning_Spring_32513_A2_ShenChuan_Lin.ipynb\" target=\"_parent\"><img src=\"https://colab.research.google.com/assets/colab-badge.svg\" alt=\"Open In Colab\"/></a>"
      ]
    },
    {
      "cell_type": "markdown",
      "metadata": {
        "id": "EIuyIBZVakH-",
        "colab_type": "text"
      },
      "source": [
        "Machine Learning Spring 32513\n",
        "13432772\n",
        "SHEN-CHUAN LIN\n",
        "\n",
        "\n",
        "\n",
        "# Introduction\n",
        "The report uses the dataset which is crime incident reports are provided by the Boston Police Department. The data is collected by the crime incident report system which recorded the type of incident and where and when did incidents happen. The problems the article wants to analyze shows below:\n",
        "1.\tWhat kinds of crimes are most common?\n",
        "2.\tWhere did the crime happen?\n",
        "3.\tWhen did the crime occur?\n",
        "4.\tAfter finding out the frequency of the crime, and does its frequency changed over a day, week, or month?\n",
        "The first question defines the majority type of crimes, which can figure out the reason for the crime. The second question, the location detail helps police to predict the next crimes might happen in the place that has been secured to prevent the crime. The third question, the time data illustrates that the maximum probability in the specific time range the crime might happen. The accurate time increases the probability of prediction that raises the efficiency of crime prevention. The result from the question above demonstrates what, where, and when the crime occurred that the accurate estimation of the location might have the highest chance for the crime happened. However, the crime rate could change by the time, which has a high peak and a low peak in a year. The last question aims to analyze the peak of the crime to enhance the efficiency of crime prevention for the Boston Police Department.\n",
        "\n",
        "\n",
        "\n"
      ]
    },
    {
      "cell_type": "code",
      "metadata": {
        "id": "2SH7974rH-sF",
        "colab_type": "code",
        "outputId": "dd5678ed-7a17-45f7-f631-cb89ff3d1260",
        "colab": {
          "base_uri": "https://localhost:8080/",
          "height": 238
        }
      },
      "source": [
        "!pip install pydrive"
      ],
      "execution_count": 0,
      "outputs": [
        {
          "output_type": "stream",
          "text": [
            "Requirement already satisfied: pydrive in /usr/local/lib/python3.6/dist-packages (1.3.1)\n",
            "Requirement already satisfied: google-api-python-client>=1.2 in /usr/local/lib/python3.6/dist-packages (from pydrive) (1.7.11)\n",
            "Requirement already satisfied: PyYAML>=3.0 in /usr/local/lib/python3.6/dist-packages (from pydrive) (3.13)\n",
            "Requirement already satisfied: oauth2client>=4.0.0 in /usr/local/lib/python3.6/dist-packages (from pydrive) (4.1.3)\n",
            "Requirement already satisfied: six<2dev,>=1.6.1 in /usr/local/lib/python3.6/dist-packages (from google-api-python-client>=1.2->pydrive) (1.12.0)\n",
            "Requirement already satisfied: uritemplate<4dev,>=3.0.0 in /usr/local/lib/python3.6/dist-packages (from google-api-python-client>=1.2->pydrive) (3.0.0)\n",
            "Requirement already satisfied: google-auth-httplib2>=0.0.3 in /usr/local/lib/python3.6/dist-packages (from google-api-python-client>=1.2->pydrive) (0.0.3)\n",
            "Requirement already satisfied: google-auth>=1.4.1 in /usr/local/lib/python3.6/dist-packages (from google-api-python-client>=1.2->pydrive) (1.4.2)\n",
            "Requirement already satisfied: httplib2<1dev,>=0.9.2 in /usr/local/lib/python3.6/dist-packages (from google-api-python-client>=1.2->pydrive) (0.11.3)\n",
            "Requirement already satisfied: pyasn1-modules>=0.0.5 in /usr/local/lib/python3.6/dist-packages (from oauth2client>=4.0.0->pydrive) (0.2.6)\n",
            "Requirement already satisfied: rsa>=3.1.4 in /usr/local/lib/python3.6/dist-packages (from oauth2client>=4.0.0->pydrive) (4.0)\n",
            "Requirement already satisfied: pyasn1>=0.1.7 in /usr/local/lib/python3.6/dist-packages (from oauth2client>=4.0.0->pydrive) (0.4.7)\n",
            "Requirement already satisfied: cachetools>=2.0.0 in /usr/local/lib/python3.6/dist-packages (from google-auth>=1.4.1->google-api-python-client>=1.2->pydrive) (3.1.1)\n"
          ],
          "name": "stdout"
        }
      ]
    },
    {
      "cell_type": "code",
      "metadata": {
        "id": "p1HX7xLnIDM6",
        "colab_type": "code",
        "colab": {}
      },
      "source": [
        "import pandas as pd\n",
        "import numpy as np\n",
        "import matplotlib as plt"
      ],
      "execution_count": 0,
      "outputs": []
    },
    {
      "cell_type": "code",
      "metadata": {
        "id": "OI2kDKggI2Se",
        "colab_type": "code",
        "colab": {}
      },
      "source": [
        "# Code to read csv file into Colaboratory:\n",
        "!pip install -U -q PyDrive\n",
        "from pydrive.auth import GoogleAuth\n",
        "from pydrive.drive import GoogleDrive\n",
        "from google.colab import auth\n",
        "from oauth2client.client import GoogleCredentials\n",
        "# Authenticate and create the PyDrive client.\n",
        "auth.authenticate_user()\n",
        "gauth = GoogleAuth()\n",
        "gauth.credentials = GoogleCredentials.get_application_default()\n",
        "drive = GoogleDrive(gauth)"
      ],
      "execution_count": 0,
      "outputs": []
    },
    {
      "cell_type": "code",
      "metadata": {
        "id": "-F2LOmW5I6XZ",
        "colab_type": "code",
        "outputId": "316d3a87-39ed-49e3-dac4-8667c7a2cddf",
        "colab": {
          "base_uri": "https://localhost:8080/",
          "height": 34
        }
      },
      "source": [
        "link = 'https://drive.google.com/open?id=1klqK7DKGadwCn1EhwHiroubCsBziKaEw' \n",
        "# The shareable link\n",
        "fluff, id = link.split('=')\n",
        "print (id) \n",
        "# Verify that you have everything after '='"
      ],
      "execution_count": 0,
      "outputs": [
        {
          "output_type": "stream",
          "text": [
            "1klqK7DKGadwCn1EhwHiroubCsBziKaEw\n"
          ],
          "name": "stdout"
        }
      ]
    },
    {
      "cell_type": "code",
      "metadata": {
        "id": "YSXws0vEJHbp",
        "colab_type": "code",
        "outputId": "13e2173d-a928-4a9e-e2f2-2aa05381e801",
        "colab": {
          "base_uri": "https://localhost:8080/",
          "height": 529
        }
      },
      "source": [
        "downloaded = drive.CreateFile({'id':id}) \n",
        "downloaded.GetContentFile('crime.csv')  \n",
        "df3 = pd.read_csv('crime.csv')\n",
        "# Dataset is now stored in a Pandas Dataframe\n",
        "df3.head(10)"
      ],
      "execution_count": 0,
      "outputs": [
        {
          "output_type": "execute_result",
          "data": {
            "text/html": [
              "<div>\n",
              "<style scoped>\n",
              "    .dataframe tbody tr th:only-of-type {\n",
              "        vertical-align: middle;\n",
              "    }\n",
              "\n",
              "    .dataframe tbody tr th {\n",
              "        vertical-align: top;\n",
              "    }\n",
              "\n",
              "    .dataframe thead th {\n",
              "        text-align: right;\n",
              "    }\n",
              "</style>\n",
              "<table border=\"1\" class=\"dataframe\">\n",
              "  <thead>\n",
              "    <tr style=\"text-align: right;\">\n",
              "      <th></th>\n",
              "      <th>INCIDENT_NUMBER</th>\n",
              "      <th>OFFENSE_CODE</th>\n",
              "      <th>OFFENSE_CODE_GROUP</th>\n",
              "      <th>OFFENSE_DESCRIPTION</th>\n",
              "      <th>DISTRICT</th>\n",
              "      <th>REPORTING_AREA</th>\n",
              "      <th>SHOOTING</th>\n",
              "      <th>OCCURRED_ON_DATE</th>\n",
              "      <th>YEAR</th>\n",
              "      <th>MONTH</th>\n",
              "      <th>DAY_OF_WEEK</th>\n",
              "      <th>HOUR</th>\n",
              "      <th>UCR_PART</th>\n",
              "      <th>STREET</th>\n",
              "      <th>Lat</th>\n",
              "      <th>Long</th>\n",
              "      <th>Location</th>\n",
              "    </tr>\n",
              "  </thead>\n",
              "  <tbody>\n",
              "    <tr>\n",
              "      <th>0</th>\n",
              "      <td>I182070945</td>\n",
              "      <td>619</td>\n",
              "      <td>Larceny</td>\n",
              "      <td>LARCENY ALL OTHERS</td>\n",
              "      <td>D14</td>\n",
              "      <td>808</td>\n",
              "      <td>NaN</td>\n",
              "      <td>2018/9/2 13:00</td>\n",
              "      <td>2018</td>\n",
              "      <td>9</td>\n",
              "      <td>Sunday</td>\n",
              "      <td>13</td>\n",
              "      <td>Part One</td>\n",
              "      <td>LINCOLN ST</td>\n",
              "      <td>42.357791</td>\n",
              "      <td>-71.139371</td>\n",
              "      <td>(42.35779134, -71.13937053)</td>\n",
              "    </tr>\n",
              "    <tr>\n",
              "      <th>1</th>\n",
              "      <td>I182070943</td>\n",
              "      <td>1402</td>\n",
              "      <td>Vandalism</td>\n",
              "      <td>VANDALISM</td>\n",
              "      <td>C11</td>\n",
              "      <td>347</td>\n",
              "      <td>NaN</td>\n",
              "      <td>2018/8/21 00:00</td>\n",
              "      <td>2018</td>\n",
              "      <td>8</td>\n",
              "      <td>Tuesday</td>\n",
              "      <td>0</td>\n",
              "      <td>Part Two</td>\n",
              "      <td>HECLA ST</td>\n",
              "      <td>42.306821</td>\n",
              "      <td>-71.060300</td>\n",
              "      <td>(42.30682138, -71.06030035)</td>\n",
              "    </tr>\n",
              "    <tr>\n",
              "      <th>2</th>\n",
              "      <td>I182070941</td>\n",
              "      <td>3410</td>\n",
              "      <td>Towed</td>\n",
              "      <td>TOWED MOTOR VEHICLE</td>\n",
              "      <td>D4</td>\n",
              "      <td>151</td>\n",
              "      <td>NaN</td>\n",
              "      <td>2018/9/3 19:27</td>\n",
              "      <td>2018</td>\n",
              "      <td>9</td>\n",
              "      <td>Monday</td>\n",
              "      <td>19</td>\n",
              "      <td>Part Three</td>\n",
              "      <td>CAZENOVE ST</td>\n",
              "      <td>42.346589</td>\n",
              "      <td>-71.072429</td>\n",
              "      <td>(42.34658879, -71.07242943)</td>\n",
              "    </tr>\n",
              "    <tr>\n",
              "      <th>3</th>\n",
              "      <td>I182070940</td>\n",
              "      <td>3114</td>\n",
              "      <td>Investigate Property</td>\n",
              "      <td>INVESTIGATE PROPERTY</td>\n",
              "      <td>D4</td>\n",
              "      <td>272</td>\n",
              "      <td>NaN</td>\n",
              "      <td>2018/9/3 21:16</td>\n",
              "      <td>2018</td>\n",
              "      <td>9</td>\n",
              "      <td>Monday</td>\n",
              "      <td>21</td>\n",
              "      <td>Part Three</td>\n",
              "      <td>NEWCOMB ST</td>\n",
              "      <td>42.334182</td>\n",
              "      <td>-71.078664</td>\n",
              "      <td>(42.33418175, -71.07866441)</td>\n",
              "    </tr>\n",
              "    <tr>\n",
              "      <th>4</th>\n",
              "      <td>I182070938</td>\n",
              "      <td>3114</td>\n",
              "      <td>Investigate Property</td>\n",
              "      <td>INVESTIGATE PROPERTY</td>\n",
              "      <td>B3</td>\n",
              "      <td>421</td>\n",
              "      <td>NaN</td>\n",
              "      <td>2018/9/3 21:05</td>\n",
              "      <td>2018</td>\n",
              "      <td>9</td>\n",
              "      <td>Monday</td>\n",
              "      <td>21</td>\n",
              "      <td>Part Three</td>\n",
              "      <td>DELHI ST</td>\n",
              "      <td>42.275365</td>\n",
              "      <td>-71.090361</td>\n",
              "      <td>(42.27536542, -71.09036101)</td>\n",
              "    </tr>\n",
              "    <tr>\n",
              "      <th>5</th>\n",
              "      <td>I182070936</td>\n",
              "      <td>3820</td>\n",
              "      <td>Motor Vehicle Accident Response</td>\n",
              "      <td>M/V ACCIDENT INVOLVING PEDESTRIAN - INJURY</td>\n",
              "      <td>C11</td>\n",
              "      <td>398</td>\n",
              "      <td>NaN</td>\n",
              "      <td>2018/9/3 21:09</td>\n",
              "      <td>2018</td>\n",
              "      <td>9</td>\n",
              "      <td>Monday</td>\n",
              "      <td>21</td>\n",
              "      <td>Part Three</td>\n",
              "      <td>TALBOT AVE</td>\n",
              "      <td>42.290196</td>\n",
              "      <td>-71.071590</td>\n",
              "      <td>(42.29019621, -71.07159012)</td>\n",
              "    </tr>\n",
              "    <tr>\n",
              "      <th>6</th>\n",
              "      <td>I182070933</td>\n",
              "      <td>724</td>\n",
              "      <td>Auto Theft</td>\n",
              "      <td>AUTO THEFT</td>\n",
              "      <td>B2</td>\n",
              "      <td>330</td>\n",
              "      <td>NaN</td>\n",
              "      <td>2018/9/3 21:25</td>\n",
              "      <td>2018</td>\n",
              "      <td>9</td>\n",
              "      <td>Monday</td>\n",
              "      <td>21</td>\n",
              "      <td>Part One</td>\n",
              "      <td>NORMANDY ST</td>\n",
              "      <td>42.306072</td>\n",
              "      <td>-71.082733</td>\n",
              "      <td>(42.30607218, -71.08273260)</td>\n",
              "    </tr>\n",
              "    <tr>\n",
              "      <th>7</th>\n",
              "      <td>I182070932</td>\n",
              "      <td>3301</td>\n",
              "      <td>Verbal Disputes</td>\n",
              "      <td>VERBAL DISPUTE</td>\n",
              "      <td>B2</td>\n",
              "      <td>584</td>\n",
              "      <td>NaN</td>\n",
              "      <td>2018/9/3 20:39</td>\n",
              "      <td>2018</td>\n",
              "      <td>9</td>\n",
              "      <td>Monday</td>\n",
              "      <td>20</td>\n",
              "      <td>Part Three</td>\n",
              "      <td>LAWN ST</td>\n",
              "      <td>42.327016</td>\n",
              "      <td>-71.105551</td>\n",
              "      <td>(42.32701648, -71.10555088)</td>\n",
              "    </tr>\n",
              "    <tr>\n",
              "      <th>8</th>\n",
              "      <td>I182070931</td>\n",
              "      <td>301</td>\n",
              "      <td>Robbery</td>\n",
              "      <td>ROBBERY - STREET</td>\n",
              "      <td>C6</td>\n",
              "      <td>177</td>\n",
              "      <td>NaN</td>\n",
              "      <td>2018/9/3 20:48</td>\n",
              "      <td>2018</td>\n",
              "      <td>9</td>\n",
              "      <td>Monday</td>\n",
              "      <td>20</td>\n",
              "      <td>Part One</td>\n",
              "      <td>MASSACHUSETTS AVE</td>\n",
              "      <td>42.331521</td>\n",
              "      <td>-71.070853</td>\n",
              "      <td>(42.33152148, -71.07085307)</td>\n",
              "    </tr>\n",
              "    <tr>\n",
              "      <th>9</th>\n",
              "      <td>I182070929</td>\n",
              "      <td>3301</td>\n",
              "      <td>Verbal Disputes</td>\n",
              "      <td>VERBAL DISPUTE</td>\n",
              "      <td>C11</td>\n",
              "      <td>364</td>\n",
              "      <td>NaN</td>\n",
              "      <td>2018/9/3 20:38</td>\n",
              "      <td>2018</td>\n",
              "      <td>9</td>\n",
              "      <td>Monday</td>\n",
              "      <td>20</td>\n",
              "      <td>Part Three</td>\n",
              "      <td>LESLIE ST</td>\n",
              "      <td>42.295147</td>\n",
              "      <td>-71.058608</td>\n",
              "      <td>(42.29514664, -71.05860832)</td>\n",
              "    </tr>\n",
              "  </tbody>\n",
              "</table>\n",
              "</div>"
            ],
            "text/plain": [
              "  INCIDENT_NUMBER  OFFENSE_CODE  ...       Long                     Location\n",
              "0      I182070945           619  ... -71.139371  (42.35779134, -71.13937053)\n",
              "1      I182070943          1402  ... -71.060300  (42.30682138, -71.06030035)\n",
              "2      I182070941          3410  ... -71.072429  (42.34658879, -71.07242943)\n",
              "3      I182070940          3114  ... -71.078664  (42.33418175, -71.07866441)\n",
              "4      I182070938          3114  ... -71.090361  (42.27536542, -71.09036101)\n",
              "5      I182070936          3820  ... -71.071590  (42.29019621, -71.07159012)\n",
              "6      I182070933           724  ... -71.082733  (42.30607218, -71.08273260)\n",
              "7      I182070932          3301  ... -71.105551  (42.32701648, -71.10555088)\n",
              "8      I182070931           301  ... -71.070853  (42.33152148, -71.07085307)\n",
              "9      I182070929          3301  ... -71.058608  (42.29514664, -71.05860832)\n",
              "\n",
              "[10 rows x 17 columns]"
            ]
          },
          "metadata": {
            "tags": []
          },
          "execution_count": 6
        }
      ]
    },
    {
      "cell_type": "code",
      "metadata": {
        "id": "DT5rp6b6iGCK",
        "colab_type": "code",
        "outputId": "3756360d-a101-433c-ec36-11062ff5e12f",
        "colab": {
          "base_uri": "https://localhost:8080/",
          "height": 1000
        }
      },
      "source": [
        "df3['REPORTING_AREA'].value_counts()\n"
      ],
      "execution_count": 0,
      "outputs": [
        {
          "output_type": "execute_result",
          "data": {
            "text/plain": [
              "       20250\n",
              "111     2372\n",
              "186     2016\n",
              "329     1878\n",
              "117     1832\n",
              "143     1775\n",
              "624     1751\n",
              "26      1747\n",
              "465     1650\n",
              "130     1423\n",
              "257     1412\n",
              "427     1400\n",
              "134     1389\n",
              "428     1386\n",
              "177     1371\n",
              "520     1344\n",
              "900     1317\n",
              "914     1301\n",
              "444     1239\n",
              "796     1235\n",
              "304     1233\n",
              "355     1213\n",
              "112     1179\n",
              "282     1175\n",
              "28      1168\n",
              "102     1162\n",
              "171     1154\n",
              "319     1153\n",
              "572     1150\n",
              "326     1121\n",
              "       ...  \n",
              "738       25\n",
              "599       24\n",
              "917       24\n",
              "277       23\n",
              "708       23\n",
              "737       23\n",
              "654       22\n",
              "471       20\n",
              "744       20\n",
              "923       20\n",
              "927       20\n",
              "960       19\n",
              "505       19\n",
              "659       18\n",
              "926       18\n",
              "819       18\n",
              "684       18\n",
              "742       18\n",
              "671       17\n",
              "740       17\n",
              "690       17\n",
              "689       15\n",
              "386       14\n",
              "0         13\n",
              "699       12\n",
              "665       12\n",
              "669       11\n",
              "745        7\n",
              "190        5\n",
              "950        1\n",
              "Name: REPORTING_AREA, Length: 879, dtype: int64"
            ]
          },
          "metadata": {
            "tags": []
          },
          "execution_count": 12
        }
      ]
    },
    {
      "cell_type": "code",
      "metadata": {
        "id": "iZYv_IxIpzJI",
        "colab_type": "code",
        "outputId": "de16eb18-d7a1-446b-b3f9-24cc496f26b8",
        "colab": {
          "base_uri": "https://localhost:8080/",
          "height": 286
        }
      },
      "source": [
        "df3.boxplot(column='HOUR')"
      ],
      "execution_count": 0,
      "outputs": [
        {
          "output_type": "execute_result",
          "data": {
            "text/plain": [
              "<matplotlib.axes._subplots.AxesSubplot at 0x7f79190dd048>"
            ]
          },
          "metadata": {
            "tags": []
          },
          "execution_count": 14
        },
        {
          "output_type": "display_data",
          "data": {
            "image/png": "[encoded data removed]",
            "text/plain": [
              "<Figure size 432x288 with 1 Axes>"
            ]
          },
          "metadata": {
            "tags": []
          }
        }
      ]
    },
    {
      "cell_type": "code",
      "metadata": {
        "id": "XjRPIUY6qFoi",
        "colab_type": "code",
        "outputId": "eced7da6-dcb9-40c1-83e5-4ff5139d0659",
        "colab": {
          "base_uri": "https://localhost:8080/",
          "height": 319
        }
      },
      "source": [
        "df3.boxplot(column='HOUR', by = 'DAY_OF_WEEK')"
      ],
      "execution_count": 0,
      "outputs": [
        {
          "output_type": "execute_result",
          "data": {
            "text/plain": [
              "<matplotlib.axes._subplots.AxesSubplot at 0x7f792ff302b0>"
            ]
          },
          "metadata": {
            "tags": []
          },
          "execution_count": 17
        },
        {
          "output_type": "display_data",
          "data": {
            "image/png": "[encoded data removed]",
            "text/plain": [
              "<Figure size 432x288 with 1 Axes>"
            ]
          },
          "metadata": {
            "tags": []
          }
        }
      ]
    },
    {
      "cell_type": "code",
      "metadata": {
        "id": "oFnEEFI8qu-1",
        "colab_type": "code",
        "outputId": "c4f03e30-405f-40f2-cc10-de93251c2449",
        "colab": {
          "base_uri": "https://localhost:8080/",
          "height": 286
        }
      },
      "source": [
        "df3['HOUR'].hist(bins=50)"
      ],
      "execution_count": 0,
      "outputs": [
        {
          "output_type": "execute_result",
          "data": {
            "text/plain": [
              "<matplotlib.axes._subplots.AxesSubplot at 0x7f792f42bba8>"
            ]
          },
          "metadata": {
            "tags": []
          },
          "execution_count": 21
        },
        {
          "output_type": "display_data",
          "data": {
            "image/png": "[encoded data removed]",
            "text/plain": [
              "<Figure size 432x288 with 1 Axes>"
            ]
          },
          "metadata": {
            "tags": []
          }
        }
      ]
    },
    {
      "cell_type": "code",
      "metadata": {
        "id": "QVAghuZIrHk3",
        "colab_type": "code",
        "outputId": "5f5db3c8-2e60-4e7b-86e6-392836f21127",
        "colab": {
          "base_uri": "https://localhost:8080/",
          "height": 286
        }
      },
      "source": [
        "df3.boxplot(column='HOUR')"
      ],
      "execution_count": 0,
      "outputs": [
        {
          "output_type": "execute_result",
          "data": {
            "text/plain": [
              "<matplotlib.axes._subplots.AxesSubplot at 0x7f792f317a90>"
            ]
          },
          "metadata": {
            "tags": []
          },
          "execution_count": 23
        },
        {
          "output_type": "display_data",
          "data": {
            "image/png": "[encoded data removed]",
            "text/plain": [
              "<Figure size 432x288 with 1 Axes>"
            ]
          },
          "metadata": {
            "tags": []
          }
        }
      ]
    },
    {
      "cell_type": "code",
      "metadata": {
        "id": "oCUiU4ezrwEY",
        "colab_type": "code",
        "outputId": "f72b9362-ff87-41ab-8aa0-eb51a3642365",
        "colab": {
          "base_uri": "https://localhost:8080/",
          "height": 1000
        }
      },
      "source": [
        "data = pd.read_csv(\"crime.csv\", index_col=\"INCIDENT_NUMBER\")\n",
        "\n",
        "\n",
        "\n",
        "def num_missing(x):\n",
        "  return sum(x.isnull())\n",
        "\n",
        "#Apply per column:\n",
        "print(\"missing values per column:\")\n",
        "print (data.apply(num_missing, axis=0))\n",
        "#axis=0 defines that function is to be applied on each column\n",
        "\n",
        "#Applying per row:\n",
        "print(\"\\nmissing values per row:\")\n",
        "print (data.apply(num_missing, axis=1)).head()\n",
        "#axis=1 defines that function is to be applied on each row"
      ],
      "execution_count": 0,
      "outputs": [
        {
          "output_type": "stream",
          "text": [
            "missing values per column:\n",
            "OFFENSE_CODE                0\n",
            "OFFENSE_CODE_GROUP          0\n",
            "OFFENSE_DESCRIPTION         0\n",
            "DISTRICT                 1765\n",
            "REPORTING_AREA              0\n",
            "SHOOTING               318054\n",
            "OCCURRED_ON_DATE            0\n",
            "YEAR                        0\n",
            "MONTH                       0\n",
            "DAY_OF_WEEK                 0\n",
            "HOUR                        0\n",
            "UCR_PART                   90\n",
            "STREET                  10871\n",
            "Lat                     19999\n",
            "Long                    19999\n",
            "Location                    0\n",
            "dtype: int64\n",
            "\n",
            "missing values per row:\n",
            "INCIDENT_NUMBER\n",
            "I182070945       1\n",
            "I182070943       1\n",
            "I182070941       1\n",
            "I182070940       1\n",
            "I182070938       1\n",
            "I182070936       1\n",
            "I182070933       1\n",
            "I182070932       1\n",
            "I182070931       1\n",
            "I182070929       1\n",
            "I182070928       1\n",
            "I182070927       1\n",
            "I182070923       1\n",
            "I182070922       1\n",
            "I182070921       1\n",
            "I182070920       3\n",
            "I182070919       1\n",
            "I182070918       1\n",
            "I182070917       1\n",
            "I182070915       1\n",
            "I182070913       2\n",
            "I182070911       1\n",
            "I182070910       1\n",
            "I182070909       1\n",
            "I182070908       1\n",
            "I182070906       3\n",
            "I182070905       1\n",
            "I182070904       1\n",
            "I182070904       1\n",
            "I182070903       1\n",
            "                ..\n",
            "I110551302-00    1\n",
            "I110551302-00    1\n",
            "I110372326-00    1\n",
            "I110372326-00    1\n",
            "I110261417-00    1\n",
            "I110261417-00    1\n",
            "I110177502-00    1\n",
            "I110177502-00    1\n",
            "I110177502-00    1\n",
            "I100636670-00    1\n",
            "I100636670-00    1\n",
            "I100340225-00    1\n",
            "I100340225-00    1\n",
            "I100222105-02    1\n",
            "I100033064-00    1\n",
            "I100033064-00    1\n",
            "I090321958-00    3\n",
            "I090321958-00    3\n",
            "I090317057-00    1\n",
            "I090317057-00    1\n",
            "I080542626-00    1\n",
            "I080542626-00    1\n",
            "I080542626-00    1\n",
            "I060168073-00    1\n",
            "I060168073-00    1\n",
            "I050310906-00    1\n",
            "I030217815-08    1\n",
            "I030217815-08    1\n",
            "I010370257-00    1\n",
            "142052550        1\n",
            "Length: 319073, dtype: int64\n"
          ],
          "name": "stdout"
        },
        {
          "output_type": "error",
          "ename": "AttributeError",
          "evalue": "ignored",
          "traceback": [
            "\u001b[0;31m---------------------------------------------------------------------------\u001b[0m",
            "\u001b[0;31mAttributeError\u001b[0m                            Traceback (most recent call last)",
            "\u001b[0;32m<ipython-input-34-96362c0fa596>\u001b[0m in \u001b[0;36m<module>\u001b[0;34m()\u001b[0m\n\u001b[1;32m     13\u001b[0m \u001b[0;31m#Applying per row:\u001b[0m\u001b[0;34m\u001b[0m\u001b[0;34m\u001b[0m\u001b[0;34m\u001b[0m\u001b[0m\n\u001b[1;32m     14\u001b[0m \u001b[0mprint\u001b[0m\u001b[0;34m(\u001b[0m\u001b[0;34m\"\\nmissing values per row:\"\u001b[0m\u001b[0;34m)\u001b[0m\u001b[0;34m\u001b[0m\u001b[0;34m\u001b[0m\u001b[0m\n\u001b[0;32m---> 15\u001b[0;31m \u001b[0mprint\u001b[0m \u001b[0;34m(\u001b[0m\u001b[0mdata\u001b[0m\u001b[0;34m.\u001b[0m\u001b[0mapply\u001b[0m\u001b[0;34m(\u001b[0m\u001b[0mnum_missing\u001b[0m\u001b[0;34m,\u001b[0m \u001b[0maxis\u001b[0m\u001b[0;34m=\u001b[0m\u001b[0;36m1\u001b[0m\u001b[0;34m)\u001b[0m\u001b[0;34m)\u001b[0m\u001b[0;34m.\u001b[0m\u001b[0mhead\u001b[0m\u001b[0;34m(\u001b[0m\u001b[0;34m)\u001b[0m\u001b[0;34m\u001b[0m\u001b[0;34m\u001b[0m\u001b[0m\n\u001b[0m\u001b[1;32m     16\u001b[0m \u001b[0;31m#axis=1 defines that function is to be applied on each row\u001b[0m\u001b[0;34m\u001b[0m\u001b[0;34m\u001b[0m\u001b[0;34m\u001b[0m\u001b[0m\n",
            "\u001b[0;31mAttributeError\u001b[0m: 'NoneType' object has no attribute 'head'"
          ]
        }
      ]
    },
    {
      "cell_type": "code",
      "metadata": {
        "id": "2Lrvla9hw3Wp",
        "colab_type": "code",
        "colab": {}
      },
      "source": [
        ""
      ],
      "execution_count": 0,
      "outputs": []
    }
  ]
}